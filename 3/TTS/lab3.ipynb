{
 "cells": [
  {
   "cell_type": "code",
   "execution_count": 70,
   "id": "01f96cbf-2994-4f30-bd6d-4ac64cc77b6c",
   "metadata": {
    "tags": []
   },
   "outputs": [],
   "source": [
    "import xml.etree.ElementTree as ET\n",
    "import pandas as pd\n",
    "import matplotlib.pyplot as plt\n",
    "import numpy as np\n",
    "import sklearn\n",
    "import catboost\n",
    "import json\n",
    "import torch\n",
    "import torch.nn.functional as F\n",
    "import pytorch_lightning as pl\n",
    "import torchmetrics\n",
    "import seaborn\n",
    "\n",
    "from torch import nn\n",
    "from tqdm.auto import tqdm\n",
    "import math\n",
    "\n",
    "\n",
    "from torch.nn.utils.rnn import pad_sequence \n",
    "from torch.utils.data import DataLoader\n",
    "from razdel import tokenize\n",
    "from sklearn.feature_extraction.text import TfidfVectorizer, CountVectorizer\n",
    "from sklearn.model_selection import train_test_split\n",
    "from sklearn.naive_bayes import MultinomialNB\n",
    "from sklearn.preprocessing import MinMaxScaler\n",
    "from sklearn import svm\n",
    "from sklearn.linear_model import LinearRegression\n",
    "\n",
    "from sklearn.metrics import mean_squared_error\n",
    "from sklearn.metrics import r2_score\n",
    "from sklearn.inspection import permutation_importance\n",
    "\n",
    "from collections import defaultdict\n",
    "\n",
    "%matplotlib inline"
   ]
  },
  {
   "cell_type": "code",
   "execution_count": 72,
   "id": "37910a5b-0ef7-40cd-9343-a6d6b78b497c",
   "metadata": {},
   "outputs": [],
   "source": [
    "def parce_mfcc_line(line):\n",
    "    mfcc = [i for i in map(float, filter(lambda x: x, line.split('|')))]\n",
    "    # assert len(mfcc)==12, f'{line=} {mfcc=}'\n",
    "    return mfcc"
   ]
  },
  {
   "cell_type": "code",
   "execution_count": 3,
   "id": "f90a0018-30bc-470f-9b5a-c798ee318e4a",
   "metadata": {},
   "outputs": [],
   "source": [
    "# data_xml = ET.parse('data/jokes1.xml')\n",
    "# root = data_xml.getroot()"
   ]
  },
  {
   "cell_type": "code",
   "execution_count": 4,
   "id": "f4f12872-2ba9-49c6-9f11-01da63256e46",
   "metadata": {},
   "outputs": [],
   "source": [
    "# for i, sentence in enumerate(list(root)):\n",
    "#     item_seq = []\n",
    "#     for word in list(sentence.findall('word')):\n",
    "#         print(word.tag, word.attrib, word.text)\n",
    "#         for c in list(word):\n",
    "#             print(c.tag, c.attrib, c.text)\n",
    "#     break"
   ]
  },
  {
   "cell_type": "code",
   "execution_count": 5,
   "id": "38ae93bf-3138-4e4e-84c0-b420eac95c0d",
   "metadata": {
    "tags": []
   },
   "outputs": [
    {
     "data": {
      "text/plain": [
       "<function dict.keys>"
      ]
     },
     "execution_count": 5,
     "metadata": {},
     "output_type": "execute_result"
    }
   ],
   "source": [
    "def get_base(path='data/jokes1.xml', count=float('inf')):   \n",
    "    data_xml = ET.parse(path)\n",
    "    root = data_xml.getroot()\n",
    "    sentences = []\n",
    "    for i, sent in enumerate(list(root)):\n",
    "        item_seq = []\n",
    "        for word in list(sent.findall('word')):\n",
    "            #print(word.tag, word.attrib, word.text)\n",
    "            if 'original' not in word.attrib:\n",
    "                #print(word.tag, word.attrib, word.text)\n",
    "                continue\n",
    "            trans = [c.attrib['ph'] for c in list(word.findall('phoneme'))]\n",
    "            allo_trans = [c.attrib['ph'] for c in list(word.findall('allophone'))]\n",
    "            mfcc = [parce_mfcc_line(c.attrib['mfcc']) for c in list(word.findall('allophone'))]\n",
    "            assert len(trans) == len(allo_trans), 'f{trans=} {allo_trans=}'\n",
    "            item = {'original': word.attrib['original'],\n",
    "                    'ph_trans': trans,\n",
    "                   'allo_trans': allo_trans, \n",
    "                   'mfcc': mfcc}\n",
    "            item_seq.append(item)\n",
    "        sentences.append(item_seq)\n",
    "        if i >=count:\n",
    "            break\n",
    "    return sentences\n",
    "data = get_base()\n",
    "data[0][0].keys"
   ]
  },
  {
   "cell_type": "code",
   "execution_count": 6,
   "id": "90b6b414-7754-41cd-b12c-24af37f006e5",
   "metadata": {},
   "outputs": [],
   "source": [
    "import re\n",
    "def char_phone_allo_conts(sents):\n",
    "    \n",
    "    chars = defaultdict(int)\n",
    "    phones = defaultdict(int)\n",
    "    allophones = defaultdict(int)\n",
    "    \n",
    "    for sent in sents:\n",
    "        for s in sent:\n",
    "            for c in s['original']:\n",
    "                chars[c]+=1\n",
    "            for p in s['ph_trans']:\n",
    "                phones[p]+=1\n",
    "            for a in s['allo_trans']:\n",
    "                allophones[a]+=1\n",
    "    return chars, phones, allophones\n",
    "\n",
    "chars_counts, phone_counts, allo_counts = char_phone_allo_conts(data)\n"
   ]
  },
  {
   "cell_type": "code",
   "execution_count": 7,
   "id": "8c23865e-1f76-4917-90b1-facd9b642cd5",
   "metadata": {},
   "outputs": [
    {
     "name": "stdout",
     "output_type": "stream",
     "text": [
      "defaultdict(<class 'int'>, {'d': 31316, 'r': 49742, 'u1': 20491, \"z'\": 4426, 'j': 61850, 'a0': 75381, 'm': 37974, 'a1': 88574, 'i0': 29945, 'sh': 21892, 't': 74116, 'o0': 62713, 'b': 19062, 'y4': 24524, 's': 49638, 'a2': 32238, \"v'\": 12822, 'e0': 46389, 'c': 12370, 'v': 46589, 'a4': 79619, \"t'\": 29989, 'g': 17411, 'z': 21369, \"d'\": 19547, 'l': 30099, 'n': 58937, \"s'\": 21801, \"l'\": 32384, 'i4': 75280, 'i1': 71859, 'u0': 20831, 'ch': 19026, 'o1': 1936, 'y0': 14694, \"n'\": 37981, 'h': 12031, 'zh': 16562, 'k': 50992, \"p'\": 8008, 'p': 39233, \"m'\": 12686, 'u4': 19830, \"r'\": 22092, 'sc': 6353, 'y1': 10968, \"b'\": 7313, 'f': 15452, \"g'\": 2310, \"k'\": 7893, 'H': 738, \"h'\": 553, \"f'\": 1583, 'C': 67, 'o4': 121, 'e1': 12, 'CH': 62, 'SC': 11})\n"
     ]
    }
   ],
   "source": [
    "print(allo_counts)"
   ]
  },
  {
   "cell_type": "code",
   "execution_count": 8,
   "id": "7f36af66-c1ed-46b5-96fe-122214161826",
   "metadata": {},
   "outputs": [],
   "source": [
    "#vocab_chars = {c:i for i,c in enumerate(['<PAD>', '<SOW>', '<EOW>', '<UNK>'] + list('абвгдеёжзийклмнопрстуфхцчшщъыьэюя,.!?-:'))}\n",
    "#vocab_phones = {c:i for i, c in enumerate(['<PAD>', '<SOW>', '<EOW>'] + list(phone_counts.keys()))}\n"
   ]
  },
  {
   "cell_type": "code",
   "execution_count": 33,
   "id": "7d407936-165f-47e0-bc9f-0f7e9cb42e7e",
   "metadata": {},
   "outputs": [],
   "source": [
    "class Tokenizer:\n",
    "    def __init__(self):\n",
    "        self.id2allo = ['<PAD>', '<SOW>', '<EOW>'] + list(allo_counts.keys())\n",
    "        self.vocab_allos = {c:i for i, c in enumerate(self.id2allo)}\n",
    "        \n",
    "    def get_num_allos(self):\n",
    "        return len(self.vocab_allos)\n",
    "        \n",
    "    def get_allo_pad(self):\n",
    "        return self.vocab_allos['<PAD>']\n",
    "              \n",
    "    def get_allo_eos(self):\n",
    "        return self.vocab_allos['<EOW>']\n",
    "    \n",
    "    def get_allo_sos(self):\n",
    "        return self.vocab_allos['<SOW>']\n",
    "    \n",
    "    def tokenize_item(self, item, eos=False, sos=False):\n",
    "        allos = [self.vocab_allos[p] for p in item['allo_trans']]\n",
    "        if eos:\n",
    "            allos = allos + [self.get_allo_eos()]\n",
    "        if sos:\n",
    "            allos = [self.get_allo_sos()] + allos \n",
    "        return {'original': item['original'],\n",
    "                'allos': torch.LongTensor(allos),\n",
    "                'mfcc': torch.Tensor(item['mfcc'])}\n",
    "    \n",
    "    def convert_to_str(self, ids):\n",
    "        return [self.id2allo[p_id] for p_id in ids]\n",
    "       "
   ]
  },
  {
   "cell_type": "code",
   "execution_count": 34,
   "id": "aedb42ed-7f62-4314-8db9-d3efcd2a465d",
   "metadata": {},
   "outputs": [],
   "source": [
    "tokenizer = Tokenizer()#vocab_chars, vocab_phones, vocab_allos)"
   ]
  },
  {
   "cell_type": "code",
   "execution_count": 35,
   "id": "af6eabaa-a316-4735-8b9e-7c2c908773ae",
   "metadata": {},
   "outputs": [
    {
     "name": "stdout",
     "output_type": "stream",
     "text": [
      "len(train_sents)=28722 len(test_sents)=3192\n"
     ]
    }
   ],
   "source": [
    "train_sents, test_sents = train_test_split(data, random_state=42, train_size=0.9)\n",
    "print(f'{len(train_sents)=} {len(test_sents)=}')"
   ]
  },
  {
   "cell_type": "code",
   "execution_count": 36,
   "id": "b53ecec2-1ad5-48a9-8d14-211e2ca761f5",
   "metadata": {},
   "outputs": [
    {
     "data": {
      "text/plain": [
       "{'original': 'собираетесь',\n",
       " 'allos': tensor([17, 18, 49, 33,  4,  8,  7, 32, 24, 32, 30]),\n",
       " 'mfcc': tensor([[-1.6563, -2.2166,  0.8081, -0.1208, -0.6138,  0.6541,  0.0511,  0.0069,\n",
       "           0.2130, -0.0668,  0.2532,  0.2240],\n",
       "         [-1.6036,  0.9226, -0.3021,  0.3414,  0.5319,  0.0045, -0.3544, -0.2907,\n",
       "          -0.5060,  0.2235, -0.2849, -0.2422],\n",
       "         [-2.4982,  1.0026,  0.9844,  0.4713,  0.2465,  0.1875,  0.2490,  0.1110,\n",
       "           0.1316, -0.2013, -0.0277, -0.1297],\n",
       "         [-1.5548,  0.7157, -0.3934,  0.5409,  0.9099,  0.0644, -0.3211, -0.4354,\n",
       "          -0.4499,  0.3068, -0.4063, -0.3727],\n",
       "         [-1.1864,  1.0103, -0.0262, -0.4557,  0.3519,  0.6018,  0.0193, -0.1357,\n",
       "          -0.0668, -0.1528, -0.3075, -0.0094],\n",
       "         [-0.7638,  0.6373, -0.4776,  0.3449,  0.2549, -0.1636, -0.4679, -0.4928,\n",
       "          -0.5079,  0.3783, -0.2444, -0.2005],\n",
       "         [-1.1476,  0.4669, -0.1523,  0.6649,  0.6351, -0.0343, -0.2571, -0.3677,\n",
       "          -0.2433,  0.3627, -0.4419, -0.2943],\n",
       "         [-1.8243,  0.6991, -0.1731,  0.7781,  0.8667,  0.0081, -0.4345, -0.2865,\n",
       "          -0.5143,  0.2559, -0.6453, -0.5460],\n",
       "         [-1.2893, -2.1183,  0.5614,  0.2759, -0.3146,  0.3069,  0.0180,  0.1368,\n",
       "           0.3523, -0.1566,  0.1860,  0.1922],\n",
       "         [-1.4337,  0.4759, -0.1410,  0.7865,  0.6546,  0.0623, -0.4113, -0.1465,\n",
       "          -0.2645,  0.0191, -0.3910, -0.1907],\n",
       "         [-1.7948, -2.3000,  0.7160,  0.3504, -0.3574,  0.7236, -0.1298,  0.0132,\n",
       "           0.4411, -0.0771,  0.0805,  0.2777]])}"
      ]
     },
     "execution_count": 36,
     "metadata": {},
     "output_type": "execute_result"
    }
   ],
   "source": [
    "tokenizer.tokenize_item(train_sents[0][1])"
   ]
  },
  {
   "cell_type": "code",
   "execution_count": 37,
   "id": "c66a1ff4-f9ba-47cb-8e83-7c9d8e429a77",
   "metadata": {},
   "outputs": [],
   "source": [
    "class SeqAMDataSet:\n",
    "    def __init__(self, sents, tokenizer):\n",
    "        self.tokenizer = tokenizer\n",
    "        self.tokenized = [[tokenizer.tokenize_item(item) for item in s] for s in sents]\n",
    "        self.indexes = [(s_id, w_id) for s_id, s in enumerate(self.tokenized) for w_id in range(len(s))]\n",
    "    \n",
    "    def __len__(self):\n",
    "        return len(self.indexes)\n",
    "    \n",
    "    def size(self, index):\n",
    "        s_id, w_id = self.indexes[index]\n",
    "        return len(self.tokenized[s_id][w_id])\n",
    "    \n",
    "    def __getitem__(self, index):\n",
    "        s_id, w_id = self.indexes[index]\n",
    "        return self.tokenized[s_id][w_id]\n",
    "    \n",
    "    def collate(self, items):\n",
    "        #chars = [item['chars'] for item in items]\n",
    "        #phones = [item['phones'] for item in items]\n",
    "        allos = [item['allos'] for item in items]\n",
    "        orig = [item['original'] for item in items]\n",
    "        mfcc = [item['mfcc'] for item in items]\n",
    "        #print(items)\n",
    "        return {'allos': pad_sequence(allos, batch_first=False, padding_value=self.tokenizer.get_allo_pad()),\n",
    "                'mfcc': pad_sequence(mfcc, batch_first=False, padding_value=0.0),\n",
    "                'original': orig}\n",
    "                "
   ]
  },
  {
   "cell_type": "code",
   "execution_count": 39,
   "id": "f3ce56fb-45e8-4d8c-b046-ef63b0e295c3",
   "metadata": {},
   "outputs": [],
   "source": [
    "\n",
    "class SortedSampler(torch.utils.data.Sampler):\n",
    "    def __init__(self, ds):\n",
    "        self.ds = ds\n",
    "        self.sizes_and_index = [(self.ds.size(i), i) for i in range(len(self.ds))]\n",
    "\n",
    "    def __len__(self):\n",
    "        return len(self.sizes_and_index)\n",
    "\n",
    "    def __iter__(self):\n",
    "        return iter((i for s, i in sorted(self.sizes_and_index)))\n",
    "    \n",
    "def make_sorted_dataloader(ds, min_sample_len=2, **kwargs):\n",
    "    assert 'collate_fn' not in kwargs and 'sampler' not in kwargs and 'shuffle' not in kwargs , f\"bad kwargs {kwargs}\"\n",
    "    return DataLoader(ds, \n",
    "                      collate_fn=ds.collate, \n",
    "                      sampler=SortedSampler(ds),\n",
    "                      shuffle=False, \n",
    "                      **kwargs)"
   ]
  },
  {
   "cell_type": "code",
   "execution_count": 40,
   "id": "89dc341e-3b85-4d76-a817-92d807f33a43",
   "metadata": {},
   "outputs": [],
   "source": [
    "train_ds = SeqAMDataSet(train_sents, tokenizer)\n",
    "test_ds = SeqAMDataSet(test_sents, tokenizer)"
   ]
  },
  {
   "cell_type": "code",
   "execution_count": 41,
   "id": "c8e98ddb-3d19-4dee-8fd0-54b8855aeddd",
   "metadata": {},
   "outputs": [],
   "source": [
    "btz=256\n",
    "train_dl = make_sorted_dataloader(train_ds, batch_size=btz)\n",
    "test_dl = make_sorted_dataloader(test_ds, batch_size=btz)"
   ]
  },
  {
   "cell_type": "code",
   "execution_count": 42,
   "id": "b5e90761-6dd5-49cd-9b9d-0d2b4c944793",
   "metadata": {
    "jupyter": {
     "source_hidden": true
    },
    "tags": []
   },
   "outputs": [],
   "source": [
    "class PositionalEncoding(nn.Module):\n",
    "    def __init__(self, dim_model, dropout_p, max_len):\n",
    "        super().__init__()\n",
    "        # Modified version from: https://pytorch.org/tutorials/beginner/transformer_tutorial.html\n",
    "        # max_len determines how far the position can have an effect on a token (window)\n",
    "        \n",
    "        # Info\n",
    "        self.dropout = nn.Dropout(dropout_p)\n",
    "        \n",
    "        # Encoding - From formula\n",
    "        pos_encoding = torch.zeros(max_len, dim_model)\n",
    "        positions_list = torch.arange(0, max_len, dtype=torch.float).view(-1, 1) # 0, 1, 2, 3, 4, 5\n",
    "        division_term = torch.exp(torch.arange(0, dim_model, 2).float() * (-math.log(10000.0)) / dim_model) # 1000^(2i/dim_model)\n",
    "        \n",
    "        # PE(pos, 2i) = sin(pos/1000^(2i/dim_model))\n",
    "        pos_encoding[:, 0::2] = torch.sin(positions_list * division_term)\n",
    "        \n",
    "        # PE(pos, 2i + 1) = cos(pos/1000^(2i/dim_model))\n",
    "        pos_encoding[:, 1::2] = torch.cos(positions_list * division_term)\n",
    "        \n",
    "        # Saving buffer (same as parameter without gradients needed)\n",
    "        pos_encoding = pos_encoding.unsqueeze(0).transpose(0, 1)\n",
    "        self.register_buffer(\"pos_encoding\", pos_encoding)\n",
    "        \n",
    "    def forward(self, token_embedding: torch.tensor) -> torch.tensor:\n",
    "        # Residual connection + pos encoding\n",
    "        return self.dropout(token_embedding + self.pos_encoding[:token_embedding.size(0), :])\n",
    "\n",
    "class AMTransformerGen(nn.Module):\n",
    "    def __init__(self, input_vs, mfcc_dim=12, dim=512, nhead=8, \n",
    "                                                num_encoder_layers=6, \n",
    "                                                dim_feedforward=1024, \n",
    "                                                dropout=0.1,\n",
    "                                                input_padding_id=0):\n",
    "        super().__init__()\n",
    "        self.dim= dim\n",
    "        self.input_padding_id=input_padding_id\n",
    "        self.embeddings = nn.Embedding(input_vs, dim, padding_idx=input_padding_id)\n",
    "        self.pos_embs = PositionalEncoding(dim, 0, 40)\n",
    "        #self.out_embs = nn.Embedding(out_vs, dim, padding_idx=0)\n",
    "        encoder_layer = torch.nn.TransformerEncoderLayer(d_model=dim, \n",
    "                                                         nhead=nhead, \n",
    "                                                         dim_feedforward=dim_feedforward, \n",
    "                                                         dropout=dropout,\n",
    "                                                         batch_first=False)\n",
    "        \n",
    "        self.encoder = nn.TransformerEncoder(encoder_layer, num_layers=num_encoder_layers)\n",
    "    \n",
    "        self.head = nn.Linear(dim, mfcc_dim)\n",
    "    \n",
    "    def forward(self, x):\n",
    "        #print(f'{x.shape=} {tgt.shape=}')\n",
    "        #print(f'{x=} {tgt=}')\n",
    "        src_key_padding_mask = (x == self.input_padding_id).T\n",
    "        x = self.embeddings(x) * math.sqrt(self.dim)\n",
    "        x = self.pos_embs(x)\n",
    "        #print(f'{x.shape=}')\n",
    "        x = self.encoder(x)\n",
    "        #tgt_mask = self.transformer.generate_square_subsequent_mask(tgt.shape[0]).to(x.device)\n",
    "        out = self.head(F.relu(x)) #* (x != self.input_padding_id).float()\n",
    "        return out"
   ]
  },
  {
   "cell_type": "code",
   "execution_count": 47,
   "id": "b49be729-fec4-46ad-8135-4c336e6660c6",
   "metadata": {
    "jupyter": {
     "source_hidden": true
    },
    "tags": []
   },
   "outputs": [],
   "source": [
    "class LitMSE(pl.LightningModule):\n",
    "    def __init__(self, model, lr=1e-4):\n",
    "        super().__init__()\n",
    "        self.lr = lr\n",
    "        self.model = model\n",
    "        self.criterion = nn.MSELoss()\n",
    "    \n",
    "    def forward(self, x):\n",
    "        return self.model(x)\n",
    "    \n",
    "    def compute_loss(self, batch, batch_idx):\n",
    "        x, tgt = batch['allos'], batch['mfcc']\n",
    "        #print(f'{x.shape=} {y.shape=}')\n",
    "        logits = self(x)\n",
    "        #print(f'{x.shape=}, {logits.shape=}, {tgt.shape=}')\n",
    "        \n",
    "        loss = self.criterion(logits.view(-1), tgt.view(-1))\n",
    "        return loss, logits\n",
    "    \n",
    "    def training_step(self, batch, batch_idx):\n",
    "        # Logging to TensorBoard by default\n",
    "        loss, logits = self.compute_loss(batch, batch_idx)\n",
    "        self.log(\"train_loss\", loss)\n",
    "        return loss\n",
    "    \n",
    "    def validation_step(self, batch, batch_idx):\n",
    "        loss, logits = self.compute_loss(batch, batch_idx)\n",
    "        self.log(\"val_loss\", loss,  prog_bar=True)\n",
    "        return loss\n",
    "\n",
    "    def configure_optimizers(self):\n",
    "        optimizer = torch.optim.Adam(self.parameters(), lr=self.lr)\n",
    "        lr_scheduler = lr_scheduler_config = {           \n",
    "            \"scheduler\": torch.optim.lr_scheduler.ExponentialLR(optimizer, 0.95),\n",
    "            \"interval\": \"epoch\"}\n",
    "        return {'optimizer': optimizer,\n",
    "                'lr_scheduler': lr_scheduler}"
   ]
  },
  {
   "cell_type": "code",
   "execution_count": 48,
   "id": "5ad53e07-d5c3-4f65-81e3-705cd93192f2",
   "metadata": {
    "collapsed": true,
    "jupyter": {
     "outputs_hidden": true
    },
    "tags": []
   },
   "outputs": [
    {
     "name": "stderr",
     "output_type": "stream",
     "text": [
      "GPU available: True, used: True\n",
      "TPU available: False, using: 0 TPU cores\n",
      "IPU available: False, using: 0 IPUs\n",
      "LOCAL_RANK: 0 - CUDA_VISIBLE_DEVICES: [0]\n",
      "\n",
      "  | Name      | Type             | Params\n",
      "-----------------------------------------------\n",
      "0 | model     | AMTransformerGen | 12.7 M\n",
      "1 | criterion | MSELoss          | 0     \n",
      "-----------------------------------------------\n",
      "12.7 M    Trainable params\n",
      "0         Non-trainable params\n",
      "12.7 M    Total params\n",
      "50.618    Total estimated model params size (MB)\n"
     ]
    },
    {
     "name": "stdout",
     "output_type": "stream",
     "text": [
      "best lr is 0.0001\n"
     ]
    },
    {
     "data": {
      "application/vnd.jupyter.widget-view+json": {
       "model_id": "",
       "version_major": 2,
       "version_minor": 0
      },
      "text/plain": [
       "Validation sanity check: 0it [00:00, ?it/s]"
      ]
     },
     "metadata": {},
     "output_type": "display_data"
    },
    {
     "data": {
      "application/vnd.jupyter.widget-view+json": {
       "model_id": "55356b34338b45ce80c39b21109d1d6b",
       "version_major": 2,
       "version_minor": 0
      },
      "text/plain": [
       "Training: 0it [00:00, ?it/s]"
      ]
     },
     "metadata": {},
     "output_type": "display_data"
    },
    {
     "name": "stderr",
     "output_type": "stream",
     "text": [
      "/mnt/hdd/mitrofanov-aa/project/study/anaconda/envs/sr/lib/python3.8/site-packages/pytorch_lightning/utilities/data.py:56: UserWarning: Trying to infer the `batch_size` from an ambiguous collection. The batch size we found is 24. To avoid any miscalculations, use `self.log(..., batch_size=batch_size)`.\n",
      "  warning_cache.warn(\n"
     ]
    },
    {
     "data": {
      "application/vnd.jupyter.widget-view+json": {
       "model_id": "",
       "version_major": 2,
       "version_minor": 0
      },
      "text/plain": [
       "Validating: 0it [00:00, ?it/s]"
      ]
     },
     "metadata": {},
     "output_type": "display_data"
    },
    {
     "name": "stderr",
     "output_type": "stream",
     "text": [
      "/mnt/hdd/mitrofanov-aa/project/study/anaconda/envs/sr/lib/python3.8/site-packages/pytorch_lightning/utilities/data.py:56: UserWarning: Trying to infer the `batch_size` from an ambiguous collection. The batch size we found is 22. To avoid any miscalculations, use `self.log(..., batch_size=batch_size)`.\n",
      "  warning_cache.warn(\n"
     ]
    },
    {
     "data": {
      "application/vnd.jupyter.widget-view+json": {
       "model_id": "",
       "version_major": 2,
       "version_minor": 0
      },
      "text/plain": [
       "Validating: 0it [00:00, ?it/s]"
      ]
     },
     "metadata": {},
     "output_type": "display_data"
    },
    {
     "data": {
      "application/vnd.jupyter.widget-view+json": {
       "model_id": "",
       "version_major": 2,
       "version_minor": 0
      },
      "text/plain": [
       "Validating: 0it [00:00, ?it/s]"
      ]
     },
     "metadata": {},
     "output_type": "display_data"
    },
    {
     "data": {
      "application/vnd.jupyter.widget-view+json": {
       "model_id": "",
       "version_major": 2,
       "version_minor": 0
      },
      "text/plain": [
       "Validating: 0it [00:00, ?it/s]"
      ]
     },
     "metadata": {},
     "output_type": "display_data"
    },
    {
     "data": {
      "application/vnd.jupyter.widget-view+json": {
       "model_id": "",
       "version_major": 2,
       "version_minor": 0
      },
      "text/plain": [
       "Validating: 0it [00:00, ?it/s]"
      ]
     },
     "metadata": {},
     "output_type": "display_data"
    },
    {
     "data": {
      "application/vnd.jupyter.widget-view+json": {
       "model_id": "",
       "version_major": 2,
       "version_minor": 0
      },
      "text/plain": [
       "Validating: 0it [00:00, ?it/s]"
      ]
     },
     "metadata": {},
     "output_type": "display_data"
    },
    {
     "data": {
      "application/vnd.jupyter.widget-view+json": {
       "model_id": "",
       "version_major": 2,
       "version_minor": 0
      },
      "text/plain": [
       "Validating: 0it [00:00, ?it/s]"
      ]
     },
     "metadata": {},
     "output_type": "display_data"
    },
    {
     "data": {
      "application/vnd.jupyter.widget-view+json": {
       "model_id": "",
       "version_major": 2,
       "version_minor": 0
      },
      "text/plain": [
       "Validating: 0it [00:00, ?it/s]"
      ]
     },
     "metadata": {},
     "output_type": "display_data"
    },
    {
     "data": {
      "application/vnd.jupyter.widget-view+json": {
       "model_id": "",
       "version_major": 2,
       "version_minor": 0
      },
      "text/plain": [
       "Validating: 0it [00:00, ?it/s]"
      ]
     },
     "metadata": {},
     "output_type": "display_data"
    },
    {
     "data": {
      "application/vnd.jupyter.widget-view+json": {
       "model_id": "",
       "version_major": 2,
       "version_minor": 0
      },
      "text/plain": [
       "Validating: 0it [00:00, ?it/s]"
      ]
     },
     "metadata": {},
     "output_type": "display_data"
    }
   ],
   "source": [
    "tt = LitMSE(AMTransformerGen(tokenizer.get_num_allos()+1), lr=1e-4)\n",
    "#tt = tt.load_from_checkpoint(model=TranscriptTransformer(tokenizer.get_num_chars()+1, tokenizer.get_num_phones()+1), checkpoint_path='models/tt2/lightning_logs/version_0/checkpoints/epoch=99-step=25799.ckpt')\n",
    "trainer = pl.Trainer(gpus=1, \n",
    "                     auto_lr_find=True, \n",
    "                     max_epochs=10, \n",
    "                     log_every_n_steps=300, \n",
    "                     default_root_dir=\"models/3/AM.mse\",)\n",
    "                    #overfit_batches=10)\n",
    "#trainer.tune(tt, train_dl, test_dl) # fit(dnn, train_dl)\n",
    "print(f\"best lr is {tt.lr}\")\n",
    "trainer.fit(tt, train_dl, test_dl)"
   ]
  },
  {
   "cell_type": "code",
   "execution_count": 74,
   "id": "36b3ea09-90b0-42fe-ac5f-9552f7fd40ea",
   "metadata": {},
   "outputs": [
    {
     "data": {
      "image/png": "[encoded data removed]",
      "text/plain": [
       "<Figure size 432x288 with 2 Axes>"
      ]
     },
     "metadata": {
      "needs_background": "light"
     },
     "output_type": "display_data"
    }
   ],
   "source": [
    "def plot_mfcc(mfcc, title='MFCC', **kwargs):\n",
    "    seaborn.heatmap(mfcc.T.numpy(), **kwargs)\n",
    "    plt.show()\n",
    "plot_mfcc(test_ds[1]['mfcc'])"
   ]
  },
  {
   "cell_type": "code",
   "execution_count": 75,
   "id": "52da3190-6083-4115-981d-3f834d5b6852",
   "metadata": {
    "collapsed": true,
    "jupyter": {
     "outputs_hidden": true
    },
    "tags": []
   },
   "outputs": [
    {
     "data": {
      "image/png": "[encoded data removed]",
      "text/plain": [
       "<Figure size 432x288 with 2 Axes>"
      ]
     },
     "metadata": {
      "needs_background": "light"
     },
     "output_type": "display_data"
    },
    {
     "data": {
      "image/png": "[encoded data removed]",
      "text/plain": [
       "<Figure size 432x288 with 2 Axes>"
      ]
     },
     "metadata": {
      "needs_background": "light"
     },
     "output_type": "display_data"
    },
    {
     "data": {
      "image/png": "[encoded data removed]",
      "text/plain": [
       "<Figure size 432x288 with 2 Axes>"
      ]
     },
     "metadata": {
      "needs_background": "light"
     },
     "output_type": "display_data"
    },
    {
     "data": {
      "image/png": "[encoded data removed]",
      "text/plain": [
       "<Figure size 432x288 with 2 Axes>"
      ]
     },
     "metadata": {
      "needs_background": "light"
     },
     "output_type": "display_data"
    },
    {
     "data": {
      "image/png": "[encoded data removed]",
      "text/plain": [
       "<Figure size 432x288 with 2 Axes>"
      ]
     },
     "metadata": {
      "needs_background": "light"
     },
     "output_type": "display_data"
    },
    {
     "data": {
      "image/png": "[encoded data removed]",
      "text/plain": [
       "<Figure size 432x288 with 2 Axes>"
      ]
     },
     "metadata": {
      "needs_background": "light"
     },
     "output_type": "display_data"
    },
    {
     "data": {
      "image/png": "[encoded data removed]",
      "text/plain": [
       "<Figure size 432x288 with 2 Axes>"
      ]
     },
     "metadata": {
      "needs_background": "light"
     },
     "output_type": "display_data"
    },
    {
     "data": {
      "image/png": "[encoded data removed]",
      "text/plain": [
       "<Figure size 432x288 with 2 Axes>"
      ]
     },
     "metadata": {
      "needs_background": "light"
     },
     "output_type": "display_data"
    },
    {
     "data": {
      "image/png": "[encoded data removed]",
      "text/plain": [
       "<Figure size 432x288 with 2 Axes>"
      ]
     },
     "metadata": {
      "needs_background": "light"
     },
     "output_type": "display_data"
    },
    {
     "data": {
      "image/png": "[encoded data removed]",
      "text/plain": [
       "<Figure size 432x288 with 2 Axes>"
      ]
     },
     "metadata": {
      "needs_background": "light"
     },
     "output_type": "display_data"
    }
   ],
   "source": [
    "for i in range(10):\n",
    "    item = test_ds[i]\n",
    "    mfcc = item['mfcc']\n",
    "    with torch.no_grad():\n",
    "        logits = tt(item['allos'].view(-1, 1)).squeeze()\n",
    "    diff = abs(mfcc - logits)\n",
    "    plot_mfcc(diff, title=f'difference for {i} test item', vmin=0, vmax=3)\n"
   ]
  },
  {
   "cell_type": "code",
   "execution_count": null,
   "id": "7b99c699-0f90-4cb1-b3f7-30c23754742c",
   "metadata": {},
   "outputs": [],
   "source": []
  },
  {
   "cell_type": "code",
   "execution_count": 71,
   "id": "8e5fb5a3-227f-414f-a9bd-01d67c2f4255",
   "metadata": {},
   "outputs": [],
   "source": [
    "tt2 = tt.load_from_checkpoint(model=AMTransformerGen(tokenizer.get_num_allos()+1),\n",
    "                             checkpoint_path='models/3/AM.mse/lightning_logs/version_6/checkpoints/epoch=9-step=10709.ckpt')"
   ]
  },
  {
   "cell_type": "code",
   "execution_count": 77,
   "id": "4a895df4-63a2-4f4e-b884-aa210f9dbb2c",
   "metadata": {},
   "outputs": [],
   "source": [
    "eval_base = get_base('data/lab2/test_submit.xml')"
   ]
  },
  {
   "cell_type": "code",
   "execution_count": 78,
   "id": "589cc696-4373-4b13-a491-10d930dcc411",
   "metadata": {
    "collapsed": true,
    "jupyter": {
     "outputs_hidden": true
    },
    "tags": []
   },
   "outputs": [
    {
     "data": {
      "text/plain": [
       "[[{'original': 'Реально', 'ph_trans': [], 'allo_trans': [], 'mfcc': []},\n",
       "  {'original': 'начать', 'ph_trans': [], 'allo_trans': [], 'mfcc': []},\n",
       "  {'original': 'день', 'ph_trans': [], 'allo_trans': [], 'mfcc': []},\n",
       "  {'original': 'с', 'ph_trans': [], 'allo_trans': [], 'mfcc': []},\n",
       "  {'original': 'улыбки -', 'ph_trans': [], 'allo_trans': [], 'mfcc': []},\n",
       "  {'original': 'это', 'ph_trans': [], 'allo_trans': [], 'mfcc': []},\n",
       "  {'original': 'проснуться', 'ph_trans': [], 'allo_trans': [], 'mfcc': []},\n",
       "  {'original': 'от', 'ph_trans': [], 'allo_trans': [], 'mfcc': []},\n",
       "  {'original': 'звонка', 'ph_trans': [], 'allo_trans': [], 'mfcc': []},\n",
       "  {'original': 'будильника', 'ph_trans': [], 'allo_trans': [], 'mfcc': []},\n",
       "  {'original': 'в', 'ph_trans': [], 'allo_trans': [], 'mfcc': []},\n",
       "  {'original': 'одну', 'ph_trans': [], 'allo_trans': [], 'mfcc': []},\n",
       "  {'original': 'минуту', 'ph_trans': [], 'allo_trans': [], 'mfcc': []},\n",
       "  {'original': 'первого', 'ph_trans': [], 'allo_trans': [], 'mfcc': []},\n",
       "  {'original': 'ночи,', 'ph_trans': [], 'allo_trans': [], 'mfcc': []},\n",
       "  {'original': 'широко', 'ph_trans': [], 'allo_trans': [], 'mfcc': []},\n",
       "  {'original': 'улыбнуться', 'ph_trans': [], 'allo_trans': [], 'mfcc': []},\n",
       "  {'original': 'и', 'ph_trans': [], 'allo_trans': [], 'mfcc': []},\n",
       "  {'original': 'спать', 'ph_trans': [], 'allo_trans': [], 'mfcc': []},\n",
       "  {'original': 'дальше.', 'ph_trans': [], 'allo_trans': [], 'mfcc': []}],\n",
       " [{'original': 'Согласитесь,', 'ph_trans': [], 'allo_trans': [], 'mfcc': []},\n",
       "  {'original': 'было', 'ph_trans': [], 'allo_trans': [], 'mfcc': []},\n",
       "  {'original': 'бы', 'ph_trans': [], 'allo_trans': [], 'mfcc': []},\n",
       "  {'original': 'гораздо', 'ph_trans': [], 'allo_trans': [], 'mfcc': []},\n",
       "  {'original': 'лучше,', 'ph_trans': [], 'allo_trans': [], 'mfcc': []},\n",
       "  {'original': 'если', 'ph_trans': [], 'allo_trans': [], 'mfcc': []},\n",
       "  {'original': 'бы', 'ph_trans': [], 'allo_trans': [], 'mfcc': []},\n",
       "  {'original': 'во', 'ph_trans': [], 'allo_trans': [], 'mfcc': []},\n",
       "  {'original': 'всех', 'ph_trans': [], 'allo_trans': [], 'mfcc': []},\n",
       "  {'original': 'фильмах,', 'ph_trans': [], 'allo_trans': [], 'mfcc': []},\n",
       "  {'original': 'в', 'ph_trans': [], 'allo_trans': [], 'mfcc': []},\n",
       "  {'original': 'которых', 'ph_trans': [], 'allo_trans': [], 'mfcc': []},\n",
       "  {'original': 'играет', 'ph_trans': [], 'allo_trans': [], 'mfcc': []},\n",
       "  {'original': 'Петров,', 'ph_trans': [], 'allo_trans': [], 'mfcc': []},\n",
       "  {'original': 'Петрова', 'ph_trans': [], 'allo_trans': [], 'mfcc': []},\n",
       "  {'original': 'бы', 'ph_trans': [], 'allo_trans': [], 'mfcc': []},\n",
       "  {'original': 'играл', 'ph_trans': [], 'allo_trans': [], 'mfcc': []},\n",
       "  {'original': 'Безруков.', 'ph_trans': [], 'allo_trans': [], 'mfcc': []}]]"
      ]
     },
     "execution_count": 78,
     "metadata": {},
     "output_type": "execute_result"
    }
   ],
   "source": [
    "eval_base[0:2]"
   ]
  },
  {
   "cell_type": "code",
   "execution_count": 79,
   "id": "8aa30ce8-2627-402f-8b63-89980db9b7ac",
   "metadata": {},
   "outputs": [],
   "source": [
    "eval_ds = SeqAMDataSet(eval_base, tokenizer)"
   ]
  },
  {
   "cell_type": "code",
   "execution_count": 83,
   "id": "6959930a-1614-4844-89c7-71568042055d",
   "metadata": {
    "tags": []
   },
   "outputs": [
    {
     "data": {
      "application/vnd.jupyter.widget-view+json": {
       "model_id": "b526f508156b46e494bc1ebdf2ec8304",
       "version_major": 2,
       "version_minor": 0
      },
      "text/plain": [
       "  0%|          | 0/3004 [00:00<?, ?it/s]"
      ]
     },
     "metadata": {},
     "output_type": "display_data"
    },
    {
     "name": "stdout",
     "output_type": "stream",
     "text": [
      "[{'original': 'Реально', 'allos': tensor([], dtype=torch.int64), 'mfcc': tensor([], size=(0, 12))}, {'original': 'начать', 'allos': tensor([], dtype=torch.int64), 'mfcc': tensor([], size=(0, 12))}]\n"
     ]
    }
   ],
   "source": [
    "eval_mfcc_predicted = []\n",
    "with torch.no_grad():\n",
    "    for i in tqdm(range(len(eval_ds))):\n",
    "        item = eval_ds[i]\n",
    "        logits = tt(item['allos'].view(-1, 1)).squeeze()\n",
    "        item['mfcc'] = logits\n",
    "        eval_mfcc_predicted.append(item)\n",
    "    \n",
    "print(eval_mfcc_predicted[:2])\n",
    "#plot_mfcc(eval_mfcc_predicted[0]['mfcc'])"
   ]
  },
  {
   "cell_type": "code",
   "execution_count": 115,
   "id": "d0437ec5-a230-45d7-a87c-36adc5cbde17",
   "metadata": {},
   "outputs": [],
   "source": [
    "#import simplejson as json\n",
    "\n",
    "import pprint\n",
    "def to_json(base, fname):\n",
    "    root_json = []\n",
    "    for sen in base:\n",
    "        seq_json = []\n",
    "        for item in sen:\n",
    "            word = {'content': item['original'],\n",
    "                   #'mfcc': '|'.join(( for c in item['mfcc'])} #TODO\n",
    "            seq_json.append(word)\n",
    "        root_json.append({'words': seq_json})\n",
    "    #root_json = root_json[:2]\n",
    "    with open(fname, 'w', encoding='utf-8') as outfile:\n",
    "        out_str = json.dump(root_json, outfile, ensure_ascii=False, indent=4)\n",
    "    #return {'root': root_json}\n",
    "    return out_str\n",
    "\n",
    "to_json(test_base_predicted, 'data/lab3/submit_mitrofanov.1.json')"
   ]
  },
  {
   "cell_type": "code",
   "execution_count": 116,
   "id": "d4db64a1-ddf5-4c36-9736-291dde70c495",
   "metadata": {},
   "outputs": [
    {
     "name": "stdout",
     "output_type": "stream",
     "text": [
      "Looking in indexes: https://nid-artifactory.ad.speechpro.com/artifactory/api/pypi/pypi/simple, https://nid-artifactory.ad.speechpro.com/artifactory/api/pypi/asr3-pip-local/simple\n",
      "Requirement already satisfied: simplejson in /mnt/hdd/mitrofanov-aa/project/study/anaconda/envs/sr/lib/python3.8/site-packages (3.17.6)\n"
     ]
    }
   ],
   "source": [
    "!pip install simplejson"
   ]
  },
  {
   "cell_type": "code",
   "execution_count": null,
   "id": "c7324196-3608-40e3-91ae-b8425229e8ed",
   "metadata": {},
   "outputs": [],
   "source": [
    "!head 'data/lab2/submit_mitrofanov2.5.json'"
   ]
  },
  {
   "cell_type": "code",
   "execution_count": null,
   "id": "ab712c9c-673a-4345-9f56-4d7f3a52d9ec",
   "metadata": {},
   "outputs": [],
   "source": []
  }
 ],
 "metadata": {
  "kernelspec": {
   "display_name": "Python 3 (ipykernel)",
   "language": "python",
   "name": "python3"
  },
  "language_info": {
   "codemirror_mode": {
    "name": "ipython",
    "version": 3
   },
   "file_extension": ".py",
   "mimetype": "text/x-python",
   "name": "python",
   "nbconvert_exporter": "python",
   "pygments_lexer": "ipython3",
   "version": "3.8.11"
  }
 },
 "nbformat": 4,
 "nbformat_minor": 5
}
