{
 "cells": [
  {
   "cell_type": "code",
   "execution_count": 1,
   "metadata": {
    "id": "Vo64v9ggzMVi",
    "tags": []
   },
   "outputs": [
    {
     "name": "stdout",
     "output_type": "stream",
     "text": [
      "Sun Nov 21 22:04:35 2021       \n",
      "+-----------------------------------------------------------------------------+\n",
      "| NVIDIA-SMI 440.59       Driver Version: 440.59       CUDA Version: 10.2     |\n",
      "|-------------------------------+----------------------+----------------------+\n",
      "| GPU  Name        Persistence-M| Bus-Id        Disp.A | Volatile Uncorr. ECC |\n",
      "| Fan  Temp  Perf  Pwr:Usage/Cap|         Memory-Usage | GPU-Util  Compute M. |\n",
      "|===============================+======================+======================|\n",
      "|   0  GeForce GTX 108...  On   | 00000000:01:00.0 Off |                  N/A |\n",
      "|  0%   34C    P8    10W / 250W |   1529MiB / 11175MiB |      0%      Default |\n",
      "+-------------------------------+----------------------+----------------------+\n",
      "                                                                               \n",
      "+-----------------------------------------------------------------------------+\n",
      "| Processes:                                                       GPU Memory |\n",
      "|  GPU       PID   Type   Process name                             Usage      |\n",
      "|=============================================================================|\n",
      "|    0      1253      G   /usr/lib/xorg/Xorg                            18MiB |\n",
      "|    0      1308      G   /usr/bin/gnome-shell                          69MiB |\n",
      "|    0      4267      C   ...oject/study/anaconda/envs/sr/bin/python  1129MiB |\n",
      "|    0      5464      G   /usr/lib/xorg/Xorg                            71MiB |\n",
      "|    0      5597      G   /usr/bin/gnome-shell                         225MiB |\n",
      "+-----------------------------------------------------------------------------+\n"
     ]
    }
   ],
   "source": [
    "!nvidia-smi"
   ]
  },
  {
   "cell_type": "code",
   "execution_count": 4,
   "metadata": {
    "id": "x-ZH_uBOzefX",
    "tags": []
   },
   "outputs": [],
   "source": [
    "PATH_TO_DATA = \"data/lab1/\""
   ]
  },
  {
   "cell_type": "markdown",
   "metadata": {
    "id": "NSRNJaJ6p8fo"
   },
   "source": [
    "\n",
    "NLP From Scratch: Translation with a Sequence to Sequence Network and Attention\n",
    "*******************************************************************************\n",
    "**Author**: `Sean Robertson <https://github.com/spro/practical-pytorch>`_\n",
    "\n",
    "This is the third and final tutorial on doing \"NLP From Scratch\", where we\n",
    "write our own classes and functions to preprocess the data to do our NLP\n",
    "modeling tasks. We hope after you complete this tutorial that you'll proceed to\n",
    "learn how `torchtext` can handle much of this preprocessing for you in the\n",
    "three tutorials immediately following this one.\n",
    "\n",
    "In this project we will be teaching a neural network to translate from\n",
    "French to English.\n",
    "\n",
    "::\n",
    "\n",
    "    [KEY: > input, = target, < output]\n",
    "\n",
    "    > il est en train de peindre un tableau .\n",
    "    = he is painting a picture .\n",
    "    < he is painting a picture .\n",
    "\n",
    "    > pourquoi ne pas essayer ce vin delicieux ?\n",
    "    = why not try that delicious wine ?\n",
    "    < why not try that delicious wine ?\n",
    "\n",
    "    > elle n est pas poete mais romanciere .\n",
    "    = she is not a poet but a novelist .\n",
    "    < she not not a poet but a novelist .\n",
    "\n",
    "    > vous etes trop maigre .\n",
    "    = you re too skinny .\n",
    "    < you re all alone .\n",
    "\n",
    "... to varying degrees of success.\n",
    "\n",
    "This is made possible by the simple but powerful idea of the `sequence\n",
    "to sequence network <https://arxiv.org/abs/1409.3215>`__, in which two\n",
    "recurrent neural networks work together to transform one sequence to\n",
    "another. An encoder network condenses an input sequence into a vector,\n",
    "and a decoder network unfolds that vector into a new sequence.\n",
    "\n",
    ".. figure:: /_static/img/seq-seq-images/seq2seq.png\n",
    "   :alt:\n",
    "\n",
    "To improve upon this model we'll use an `attention\n",
    "mechanism <https://arxiv.org/abs/1409.0473>`__, which lets the decoder\n",
    "learn to focus over a specific range of the input sequence.\n",
    "\n",
    "**Recommended Reading:**\n",
    "\n",
    "I assume you have at least installed PyTorch, know Python, and\n",
    "understand Tensors:\n",
    "\n",
    "-  https://pytorch.org/ For installation instructions\n",
    "-  :doc:`/beginner/deep_learning_60min_blitz` to get started with PyTorch in general\n",
    "-  :doc:`/beginner/pytorch_with_examples` for a wide and deep overview\n",
    "-  :doc:`/beginner/former_torchies_tutorial` if you are former Lua Torch user\n",
    "\n",
    "\n",
    "It would also be useful to know about Sequence to Sequence networks and\n",
    "how they work:\n",
    "\n",
    "-  `Learning Phrase Representations using RNN Encoder-Decoder for\n",
    "   Statistical Machine Translation <https://arxiv.org/abs/1406.1078>`__\n",
    "-  `Sequence to Sequence Learning with Neural\n",
    "   Networks <https://arxiv.org/abs/1409.3215>`__\n",
    "-  `Neural Machine Translation by Jointly Learning to Align and\n",
    "   Translate <https://arxiv.org/abs/1409.0473>`__\n",
    "-  `A Neural Conversational Model <https://arxiv.org/abs/1506.05869>`__\n",
    "\n",
    "You will also find the previous tutorials on\n",
    ":doc:`/intermediate/char_rnn_classification_tutorial`\n",
    "and :doc:`/intermediate/char_rnn_generation_tutorial`\n",
    "helpful as those concepts are very similar to the Encoder and Decoder\n",
    "models, respectively.\n",
    "\n",
    "**Requirements**\n",
    "\n"
   ]
  },
  {
   "cell_type": "code",
   "execution_count": 5,
   "metadata": {
    "id": "2SZiZa9Pp8fq",
    "tags": []
   },
   "outputs": [
    {
     "data": {
      "text/plain": [
       "device(type='cuda')"
      ]
     },
     "execution_count": 5,
     "metadata": {},
     "output_type": "execute_result"
    }
   ],
   "source": [
    "from __future__ import unicode_literals, print_function, division\n",
    "from io import open\n",
    "import unicodedata\n",
    "import string\n",
    "import re\n",
    "import random\n",
    "\n",
    "import torch\n",
    "import torch.nn as nn\n",
    "from torch import optim\n",
    "import torch.nn.functional as F\n",
    "\n",
    "device = torch.device(\"cuda\" if torch.cuda.is_available() else \"cpu\")\n",
    "device"
   ]
  },
  {
   "cell_type": "markdown",
   "metadata": {
    "id": "mmIUIQTbp8fq"
   },
   "source": [
    "Loading data files\n",
    "==================\n",
    "\n",
    "The data for this project is a set of many thousands of English to\n",
    "French translation pairs.\n",
    "\n",
    "`This question on Open Data Stack\n",
    "Exchange <https://opendata.stackexchange.com/questions/3888/dataset-of-sentences-translated-into-many-languages>`__\n",
    "pointed me to the open translation site https://tatoeba.org/ which has\n",
    "downloads available at https://tatoeba.org/eng/downloads - and better\n",
    "yet, someone did the extra work of splitting language pairs into\n",
    "individual text files here: https://www.manythings.org/anki/\n",
    "\n",
    "The English to French pairs are too big to include in the repo, so\n",
    "download to ``data/eng-fra.txt`` before continuing. The file is a tab\n",
    "separated list of translation pairs:\n",
    "\n",
    "::\n",
    "\n",
    "    I am cold.    J'ai froid.\n",
    "\n",
    ".. Note::\n",
    "   Download the data from\n",
    "   `here <https://download.pytorch.org/tutorial/data.zip>`_\n",
    "   and extract it to the current directory.\n",
    "\n"
   ]
  },
  {
   "cell_type": "markdown",
   "metadata": {
    "id": "Io0UO__rp8fr"
   },
   "source": [
    "Similar to the character encoding used in the character-level RNN\n",
    "tutorials, we will be representing each word in a language as a one-hot\n",
    "vector, or giant vector of zeros except for a single one (at the index\n",
    "of the word). Compared to the dozens of characters that might exist in a\n",
    "language, there are many many more words, so the encoding vector is much\n",
    "larger. We will however cheat a bit and trim the data to only use a few\n",
    "thousand words per language.\n",
    "\n",
    ".. figure:: /_static/img/seq-seq-images/word-encoding.png\n",
    "   :alt:\n",
    "\n",
    "\n",
    "\n"
   ]
  },
  {
   "cell_type": "markdown",
   "metadata": {
    "id": "sh9q9oFnp8fr"
   },
   "source": [
    "We'll need a unique index per word to use as the inputs and targets of\n",
    "the networks later. To keep track of all this we will use a helper class\n",
    "called ``Lang`` which has word → index (``word2index``) and index → word\n",
    "(``index2word``) dictionaries, as well as a count of each word\n",
    "``word2count`` which will be used to replace rare words later.\n",
    "\n",
    "\n"
   ]
  },
  {
   "cell_type": "code",
   "execution_count": 6,
   "metadata": {
    "id": "Zl1z_-6Gp8fr",
    "tags": []
   },
   "outputs": [],
   "source": [
    "SOS_token = 0\n",
    "EOS_token = 1\n",
    "\n",
    "\n",
    "class Lang:\n",
    "    def __init__(self, name):\n",
    "        self.name = name\n",
    "        self.word2index = {}\n",
    "        self.word2count = {}\n",
    "        self.index2word = {0: \"SOS\", 1: \"EOS\"}\n",
    "        self.n_words = 2  # Count SOS and EOS\n",
    "\n",
    "    def addSentence(self, sentence):\n",
    "        for word in sentence.split(' '):\n",
    "            self.addWord(word)\n",
    "\n",
    "    def addWord(self, word):\n",
    "        if word not in self.word2index:\n",
    "            self.word2index[word] = self.n_words\n",
    "            self.word2count[word] = 1\n",
    "            self.index2word[self.n_words] = word\n",
    "            self.n_words += 1\n",
    "        else:\n",
    "            self.word2count[word] += 1"
   ]
  },
  {
   "cell_type": "markdown",
   "metadata": {
    "id": "H8zHsgpwp8fs"
   },
   "source": [
    "The files are all in Unicode, to simplify we will turn Unicode\n",
    "characters to ASCII, make everything lowercase, and trim most\n",
    "punctuation.\n",
    "\n",
    "\n"
   ]
  },
  {
   "cell_type": "code",
   "execution_count": 7,
   "metadata": {
    "id": "3Qsqf5x5p8fs",
    "tags": []
   },
   "outputs": [],
   "source": [
    "# Turn a Unicode string to plain ASCII, thanks to\n",
    "# https://stackoverflow.com/a/518232/2809427\n",
    "def unicodeToAscii(s):\n",
    "    return ''.join(\n",
    "        c for c in unicodedata.normalize('NFD', s)\n",
    "        if unicodedata.category(c) != 'Mn'\n",
    "    )\n",
    "\n",
    "# Lowercase, trim, and remove non-letter characters\n",
    "\n",
    "\n",
    "def normalizeString(s):\n",
    "    s = unicodeToAscii(s.lower().strip())\n",
    "    s = re.sub(r\"([.!?])\", r\" \\1\", s)\n",
    "    s = re.sub(r\"[^a-zA-Zа-я-А-ЯёЁ\\-.!?]+\", r\" \", s)\n",
    "    return s"
   ]
  },
  {
   "cell_type": "markdown",
   "metadata": {
    "id": "tGzKzpayp8ft"
   },
   "source": [
    "To read the data file we will split the file into lines, and then split\n",
    "lines into pairs. The files are all English → Other Language, so if we\n",
    "want to translate from Other Language → English I added the ``reverse``\n",
    "flag to reverse the pairs.\n",
    "\n",
    "\n"
   ]
  },
  {
   "cell_type": "code",
   "execution_count": 8,
   "metadata": {
    "id": "RsQs9K_7p8ft",
    "tags": []
   },
   "outputs": [],
   "source": [
    "def readLangs(lang1, lang2, reverse=False):\n",
    "    print(\"Reading lines...\")\n",
    "\n",
    "    # Read the file and split into lines\n",
    "    lines = open(f'{PATH_TO_DATA}/%s-%s.txt' % (lang1, lang2), encoding='utf-8').\\\n",
    "        read().strip().split('\\n')\n",
    "\n",
    "    # Split every line into pairs and normalize\n",
    "    pairs = [[normalizeString(s) for s in l.split('\\t')] for l in lines]\n",
    "    # Reverse pairs, make Lang instances\n",
    "    if reverse:\n",
    "        pairs = [list(reversed(p)) for p in pairs]\n",
    "        input_lang = Lang(lang2)\n",
    "        output_lang = Lang(lang1)\n",
    "    else:\n",
    "        input_lang = Lang(lang1)\n",
    "        output_lang = Lang(lang2)\n",
    "\n",
    "    return input_lang, output_lang, pairs"
   ]
  },
  {
   "cell_type": "markdown",
   "metadata": {
    "id": "8JpUtVoDp8ft"
   },
   "source": [
    "Since there are a *lot* of example sentences and we want to train\n",
    "something quickly, we'll trim the data set to only relatively short and\n",
    "simple sentences. Here the maximum length is 10 words (that includes\n",
    "ending punctuation) and we're filtering to sentences that translate to\n",
    "the form \"I am\" or \"He is\" etc. (accounting for apostrophes replaced\n",
    "earlier).\n",
    "\n",
    "\n"
   ]
  },
  {
   "cell_type": "code",
   "execution_count": 9,
   "metadata": {
    "id": "eChLrFQLp8ft",
    "tags": []
   },
   "outputs": [],
   "source": [
    "MAX_LENGTH = 10\n",
    "\n",
    "eng_prefixes = (\n",
    "    \"i am \", \"i m \",\n",
    "    \"he is\", \"he s \",\n",
    "    \"she is\", \"she s \",\n",
    "    \"you are\", \"you re \",\n",
    "    \"we are\", \"we re \",\n",
    "    \"they are\", \"they re \"\n",
    ")\n",
    "\n",
    "\n",
    "def filterPair(p):\n",
    "    return len(p[0].split(' ')) < MAX_LENGTH and len(p[1].split(' ')) < MAX_LENGTH\n",
    "\n",
    "\n",
    "def filterPairs(pairs):\n",
    "    return [pair for pair in pairs if filterPair(pair)]"
   ]
  },
  {
   "cell_type": "markdown",
   "metadata": {
    "id": "j4ByWdXvp8fu"
   },
   "source": [
    "The full process for preparing the data is:\n",
    "\n",
    "-  Read text file and split into lines, split lines into pairs\n",
    "-  Normalize text, filter by length and content\n",
    "-  Make word lists from sentences in pairs\n",
    "\n",
    "\n"
   ]
  },
  {
   "cell_type": "code",
   "execution_count": 10,
   "metadata": {
    "id": "ju6JkuSLp8fu",
    "tags": []
   },
   "outputs": [
    {
     "name": "stdout",
     "output_type": "stream",
     "text": [
      "Reading lines...\n",
      "Read 190206 sentence pairs\n",
      "137614\n",
      "Trimmed to 137614 sentence pairs\n",
      "Counting words...\n",
      "Counted words:\n",
      "fra 21448\n",
      "eng 11935\n",
      "['les deux facons d ecrire sont correctes .', 'both spellings are correct .']\n"
     ]
    }
   ],
   "source": [
    "def prepareData(lang1, lang2, reverse=False):\n",
    "    input_lang, output_lang, pairs = readLangs(lang1, lang2, reverse)\n",
    "    print(\"Read %s sentence pairs\" % len(pairs))\n",
    "    pairs = filterPairs(pairs)\n",
    "    print(len(pairs))\n",
    "    print(\"Trimmed to %s sentence pairs\" % len(pairs))\n",
    "    print(\"Counting words...\")\n",
    "    for pair in pairs:\n",
    "        input_lang.addSentence(pair[0])\n",
    "        output_lang.addSentence(pair[1])\n",
    "    print(\"Counted words:\")\n",
    "    print(input_lang.name, input_lang.n_words)\n",
    "    print(output_lang.name, output_lang.n_words)\n",
    "    return input_lang, output_lang, pairs\n",
    "\n",
    "\n",
    "input_lang, output_lang, pairs = prepareData('eng', 'fra', reverse=True)\n",
    "print(random.choice(pairs))"
   ]
  },
  {
   "cell_type": "code",
   "execution_count": 11,
   "metadata": {
    "id": "r7JehMqloeC3",
    "tags": []
   },
   "outputs": [
    {
     "data": {
      "text/plain": [
       "[['va !', 'go .'],\n",
       " ['marche .', 'go .'],\n",
       " ['bouge !', 'go .'],\n",
       " ['salut !', 'hi .'],\n",
       " ['salut .', 'hi .'],\n",
       " ['cours !', 'run !'],\n",
       " ['courez !', 'run !'],\n",
       " ['prenez vos jambes a vos cous !', 'run !'],\n",
       " ['file !', 'run !'],\n",
       " ['filez !', 'run !']]"
      ]
     },
     "execution_count": 11,
     "metadata": {},
     "output_type": "execute_result"
    }
   ],
   "source": [
    "pairs[:10]"
   ]
  },
  {
   "cell_type": "markdown",
   "metadata": {
    "id": "_--M0uy7p8fu"
   },
   "source": [
    "The Seq2Seq Model\n",
    "=================\n",
    "\n",
    "A Recurrent Neural Network, or RNN, is a network that operates on a\n",
    "sequence and uses its own output as input for subsequent steps.\n",
    "\n",
    "A `Sequence to Sequence network <https://arxiv.org/abs/1409.3215>`__, or\n",
    "seq2seq network, or `Encoder Decoder\n",
    "network <https://arxiv.org/pdf/1406.1078v3.pdf>`__, is a model\n",
    "consisting of two RNNs called the encoder and decoder. The encoder reads\n",
    "an input sequence and outputs a single vector, and the decoder reads\n",
    "that vector to produce an output sequence.\n",
    "\n",
    ".. figure:: /_static/img/seq-seq-images/seq2seq.png\n",
    "   :alt:\n",
    "\n",
    "Unlike sequence prediction with a single RNN, where every input\n",
    "corresponds to an output, the seq2seq model frees us from sequence\n",
    "length and order, which makes it ideal for translation between two\n",
    "languages.\n",
    "\n",
    "Consider the sentence \"Je ne suis pas le chat noir\" → \"I am not the\n",
    "black cat\". Most of the words in the input sentence have a direct\n",
    "translation in the output sentence, but are in slightly different\n",
    "orders, e.g. \"chat noir\" and \"black cat\". Because of the \"ne/pas\"\n",
    "construction there is also one more word in the input sentence. It would\n",
    "be difficult to produce a correct translation directly from the sequence\n",
    "of input words.\n",
    "\n",
    "With a seq2seq model the encoder creates a single vector which, in the\n",
    "ideal case, encodes the \"meaning\" of the input sequence into a single\n",
    "vector — a single point in some N dimensional space of sentences.\n",
    "\n",
    "\n"
   ]
  },
  {
   "cell_type": "markdown",
   "metadata": {
    "id": "6Iyp-1dXp8fu"
   },
   "source": [
    "The Encoder\n",
    "-----------\n",
    "\n",
    "The encoder of a seq2seq network is a RNN that outputs some value for\n",
    "every word from the input sentence. For every input word the encoder\n",
    "outputs a vector and a hidden state, and uses the hidden state for the\n",
    "next input word.\n",
    "\n",
    ".. figure:: /_static/img/seq-seq-images/encoder-network.png\n",
    "   :alt:\n",
    "\n",
    "\n",
    "\n"
   ]
  },
  {
   "cell_type": "code",
   "execution_count": 12,
   "metadata": {
    "id": "cDRQCDxXp8fv",
    "tags": []
   },
   "outputs": [],
   "source": [
    "class EncoderRNN(nn.Module):\n",
    "    def __init__(self, input_size, hidden_size):\n",
    "        super(EncoderRNN, self).__init__()\n",
    "        self.hidden_size = hidden_size\n",
    "\n",
    "        self.embedding = nn.Embedding(input_size, hidden_size)\n",
    "        self.gru = nn.GRU(hidden_size, hidden_size)\n",
    "\n",
    "    def forward(self, input, hidden):\n",
    "        embedded = self.embedding(input).view(1, 1, -1)\n",
    "        output = embedded\n",
    "        output, hidden = self.gru(output, hidden)\n",
    "        return output, hidden\n",
    "\n",
    "    def initHidden(self):\n",
    "        return torch.zeros(1, 1, self.hidden_size, device=device)"
   ]
  },
  {
   "cell_type": "markdown",
   "metadata": {
    "id": "eNBo3TMXp8fv"
   },
   "source": [
    "The Decoder\n",
    "-----------\n",
    "\n",
    "The decoder is another RNN that takes the encoder output vector(s) and\n",
    "outputs a sequence of words to create the translation.\n",
    "\n",
    "\n"
   ]
  },
  {
   "cell_type": "markdown",
   "metadata": {
    "id": "_xaFImQPp8fv"
   },
   "source": [
    "Simple Decoder\n",
    "^^^^^^^^^^^^^^\n",
    "\n",
    "In the simplest seq2seq decoder we use only last output of the encoder.\n",
    "This last output is sometimes called the *context vector* as it encodes\n",
    "context from the entire sequence. This context vector is used as the\n",
    "initial hidden state of the decoder.\n",
    "\n",
    "At every step of decoding, the decoder is given an input token and\n",
    "hidden state. The initial input token is the start-of-string ``<SOS>``\n",
    "token, and the first hidden state is the context vector (the encoder's\n",
    "last hidden state).\n",
    "\n",
    ".. figure:: /_static/img/seq-seq-images/decoder-network.png\n",
    "   :alt:\n",
    "\n",
    "\n",
    "\n"
   ]
  },
  {
   "cell_type": "code",
   "execution_count": 13,
   "metadata": {
    "id": "uGhlfLnVp8fv",
    "tags": []
   },
   "outputs": [],
   "source": [
    "class DecoderRNN(nn.Module):\n",
    "    def __init__(self, hidden_size, output_size):\n",
    "        super(DecoderRNN, self).__init__()\n",
    "        self.hidden_size = hidden_size\n",
    "\n",
    "        self.embedding = nn.Embedding(output_size, hidden_size)\n",
    "        self.gru = nn.GRU(hidden_size, hidden_size)\n",
    "        self.out = nn.Linear(hidden_size, output_size)\n",
    "        self.softmax = nn.LogSoftmax(dim=1)\n",
    "\n",
    "    def forward(self, input, hidden, encoder_outputs=None):\n",
    "        output = self.embedding(input).view(1, 1, -1)\n",
    "        output = F.relu(output)\n",
    "        output, hidden = self.gru(output, hidden)\n",
    "        output = self.softmax(self.out(output[0]))\n",
    "        return output, hidden, None\n",
    "\n",
    "    def initHidden(self):\n",
    "        return torch.zeros(1, 1, self.hidden_size, device=device)"
   ]
  },
  {
   "cell_type": "markdown",
   "metadata": {
    "id": "ZdB7vtezp8fv"
   },
   "source": [
    "I encourage you to train and observe the results of this model, but to\n",
    "save space we'll be going straight for the gold and introducing the\n",
    "Attention Mechanism.\n",
    "\n",
    "\n"
   ]
  },
  {
   "cell_type": "markdown",
   "metadata": {
    "id": "sOp_cYFvp8fw"
   },
   "source": [
    "Attention Decoder\n",
    "^^^^^^^^^^^^^^^^^\n",
    "\n",
    "If only the context vector is passed between the encoder and decoder,\n",
    "that single vector carries the burden of encoding the entire sentence.\n",
    "\n",
    "Attention allows the decoder network to \"focus\" on a different part of\n",
    "the encoder's outputs for every step of the decoder's own outputs. First\n",
    "we calculate a set of *attention weights*. These will be multiplied by\n",
    "the encoder output vectors to create a weighted combination. The result\n",
    "(called ``attn_applied`` in the code) should contain information about\n",
    "that specific part of the input sequence, and thus help the decoder\n",
    "choose the right output words.\n",
    "\n",
    ".. figure:: https://i.imgur.com/1152PYf.png\n",
    "   :alt:\n",
    "\n",
    "Calculating the attention weights is done with another feed-forward\n",
    "layer ``attn``, using the decoder's input and hidden state as inputs.\n",
    "Because there are sentences of all sizes in the training data, to\n",
    "actually create and train this layer we have to choose a maximum\n",
    "sentence length (input length, for encoder outputs) that it can apply\n",
    "to. Sentences of the maximum length will use all the attention weights,\n",
    "while shorter sentences will only use the first few.\n",
    "\n",
    ".. figure:: /_static/img/seq-seq-images/attention-decoder-network.png\n",
    "   :alt:\n",
    "\n",
    "\n",
    "\n"
   ]
  },
  {
   "cell_type": "code",
   "execution_count": 14,
   "metadata": {
    "id": "vHUA-Uwmp8fw",
    "tags": []
   },
   "outputs": [],
   "source": [
    "class AttnDecoderRNN(nn.Module):\n",
    "    def __init__(self, hidden_size, output_size, dropout_p=0.1, max_length=MAX_LENGTH):\n",
    "        super(AttnDecoderRNN, self).__init__()\n",
    "        self.hidden_size = hidden_size\n",
    "        self.output_size = output_size\n",
    "        self.dropout_p = dropout_p\n",
    "        self.max_length = max_length\n",
    "\n",
    "        self.embedding = nn.Embedding(self.output_size, self.hidden_size)\n",
    "        self.attn = nn.Linear(self.hidden_size * 2, self.max_length)\n",
    "        self.attn_combine = nn.Linear(self.hidden_size * 2, self.hidden_size)\n",
    "        self.dropout = nn.Dropout(self.dropout_p)\n",
    "        self.gru = nn.GRU(self.hidden_size, self.hidden_size)\n",
    "        self.out = nn.Linear(self.hidden_size, self.output_size)\n",
    "\n",
    "    def forward(self, input, hidden, encoder_outputs):\n",
    "        embedded = self.embedding(input).view(1, 1, -1)\n",
    "        embedded = self.dropout(embedded)\n",
    "\n",
    "        attn_weights = F.softmax(\n",
    "            self.attn(torch.cat((embedded[0], hidden[0]), 1)), dim=1)\n",
    "        attn_applied = torch.bmm(attn_weights.unsqueeze(0),\n",
    "                                 encoder_outputs.unsqueeze(0))\n",
    "\n",
    "        output = torch.cat((embedded[0], attn_applied[0]), 1)\n",
    "        output = self.attn_combine(output).unsqueeze(0)\n",
    "\n",
    "        output = F.relu(output)\n",
    "        output, hidden = self.gru(output, hidden)\n",
    "\n",
    "        output = F.log_softmax(self.out(output[0]), dim=1)\n",
    "        return output, hidden, attn_weights\n",
    "\n",
    "    def initHidden(self):\n",
    "        return torch.zeros(1, 1, self.hidden_size, device=device)"
   ]
  },
  {
   "cell_type": "markdown",
   "metadata": {
    "id": "VVF-6XCGp8fw"
   },
   "source": [
    "<div class=\"alert alert-info\"><h4>Note</h4><p>There are other forms of attention that work around the length\n",
    "  limitation by using a relative position approach. Read about \"local\n",
    "  attention\" in `Effective Approaches to Attention-based Neural Machine\n",
    "  Translation <https://arxiv.org/abs/1508.04025>`__.</p></div>\n",
    "\n",
    "Training\n",
    "========\n",
    "\n",
    "Preparing Training Data\n",
    "-----------------------\n",
    "\n",
    "To train, for each pair we will need an input tensor (indexes of the\n",
    "words in the input sentence) and target tensor (indexes of the words in\n",
    "the target sentence). While creating these vectors we will append the\n",
    "EOS token to both sequences.\n",
    "\n",
    "\n"
   ]
  },
  {
   "cell_type": "code",
   "execution_count": 15,
   "metadata": {
    "id": "2EqJbIidp8fw",
    "tags": []
   },
   "outputs": [],
   "source": [
    "def indexesFromSentence(lang, sentence):\n",
    "    return [lang.word2index[word] for word in sentence.split(' ')]\n",
    "\n",
    "\n",
    "def tensorFromSentence(lang, sentence):\n",
    "    indexes = indexesFromSentence(lang, sentence)\n",
    "    indexes.append(EOS_token)\n",
    "    return torch.tensor(indexes, dtype=torch.long, device=device).view(-1, 1)\n",
    "\n",
    "\n",
    "def tensorsFromPair(pair, input_lang, output_lang):\n",
    "    input_tensor = tensorFromSentence(input_lang, pair[0])\n",
    "    target_tensor = tensorFromSentence(output_lang, pair[1])\n",
    "    return (input_tensor, target_tensor)"
   ]
  },
  {
   "cell_type": "markdown",
   "metadata": {
    "id": "WZGgbyg7p8fw"
   },
   "source": [
    "Training the Model\n",
    "------------------\n",
    "\n",
    "To train we run the input sentence through the encoder, and keep track\n",
    "of every output and the latest hidden state. Then the decoder is given\n",
    "the ``<SOS>`` token as its first input, and the last hidden state of the\n",
    "encoder as its first hidden state.\n",
    "\n",
    "\"Teacher forcing\" is the concept of using the real target outputs as\n",
    "each next input, instead of using the decoder's guess as the next input.\n",
    "Using teacher forcing causes it to converge faster but `when the trained\n",
    "network is exploited, it may exhibit\n",
    "instability <http://citeseerx.ist.psu.edu/viewdoc/download?doi=10.1.1.378.4095&rep=rep1&type=pdf>`__.\n",
    "\n",
    "You can observe outputs of teacher-forced networks that read with\n",
    "coherent grammar but wander far from the correct translation -\n",
    "intuitively it has learned to represent the output grammar and can \"pick\n",
    "up\" the meaning once the teacher tells it the first few words, but it\n",
    "has not properly learned how to create the sentence from the translation\n",
    "in the first place.\n",
    "\n",
    "Because of the freedom PyTorch's autograd gives us, we can randomly\n",
    "choose to use teacher forcing or not with a simple if statement. Turn\n",
    "``teacher_forcing_ratio`` up to use more of it.\n",
    "\n",
    "\n"
   ]
  },
  {
   "cell_type": "code",
   "execution_count": 16,
   "metadata": {
    "id": "BXEtuwcvp8fw",
    "tags": []
   },
   "outputs": [],
   "source": [
    "teacher_forcing_ratio = 0.9\n",
    "\n",
    "\n",
    "def train(input_tensor, target_tensor, encoder, decoder, encoder_optimizer, decoder_optimizer, criterion, max_length=MAX_LENGTH):\n",
    "    encoder_hidden = encoder.initHidden()\n",
    "\n",
    "    encoder_optimizer.zero_grad()\n",
    "    decoder_optimizer.zero_grad()\n",
    "\n",
    "    input_length = input_tensor.size(0)\n",
    "    target_length = target_tensor.size(0)\n",
    "\n",
    "    encoder_outputs = torch.zeros(max_length, encoder.hidden_size, device=device)\n",
    "\n",
    "    loss = 0\n",
    "\n",
    "    for ei in range(input_length):\n",
    "        encoder_output, encoder_hidden = encoder(\n",
    "            input_tensor[ei], encoder_hidden)\n",
    "        encoder_outputs[ei] = encoder_output[0, 0]\n",
    "\n",
    "    decoder_input = torch.tensor([[SOS_token]], device=device)\n",
    "\n",
    "    decoder_hidden = encoder_hidden\n",
    "\n",
    "    use_teacher_forcing = True if random.random() < teacher_forcing_ratio else False\n",
    "\n",
    "    if use_teacher_forcing:\n",
    "        # Teacher forcing: Feed the target as the next input\n",
    "        for di in range(target_length):\n",
    "            decoder_output, decoder_hidden, decoder_attention = decoder(\n",
    "                decoder_input, decoder_hidden, encoder_outputs)\n",
    "            loss += criterion(decoder_output, target_tensor[di])\n",
    "            decoder_input = target_tensor[di]  # Teacher forcing\n",
    "\n",
    "    else:\n",
    "        # Without teacher forcing: use its own predictions as the next input\n",
    "        for di in range(target_length):\n",
    "            decoder_output, decoder_hidden, decoder_attention = decoder(\n",
    "                decoder_input, decoder_hidden, encoder_outputs)\n",
    "            topv, topi = decoder_output.topk(1)\n",
    "            decoder_input = topi.squeeze().detach()  # detach from history as input\n",
    "\n",
    "            loss += criterion(decoder_output, target_tensor[di])\n",
    "            if decoder_input.item() == EOS_token:\n",
    "                break\n",
    "\n",
    "    loss.backward()\n",
    "\n",
    "    encoder_optimizer.step()\n",
    "    decoder_optimizer.step()\n",
    "\n",
    "    return loss.item() / target_length"
   ]
  },
  {
   "cell_type": "markdown",
   "metadata": {
    "id": "1LfjNCkgp8fx"
   },
   "source": [
    "This is a helper function to print time elapsed and estimated time\n",
    "remaining given the current time and progress %.\n",
    "\n",
    "\n"
   ]
  },
  {
   "cell_type": "code",
   "execution_count": 17,
   "metadata": {
    "id": "mvpqFkz9p8fx",
    "tags": []
   },
   "outputs": [],
   "source": [
    "import time\n",
    "import math\n",
    "\n",
    "\n",
    "def asMinutes(s):\n",
    "    m = math.floor(s / 60)\n",
    "    s -= m * 60\n",
    "    return '%dm %ds' % (m, s)\n",
    "\n",
    "\n",
    "def timeSince(since, percent):\n",
    "    now = time.time()\n",
    "    s = now - since\n",
    "    es = s / (percent)\n",
    "    rs = es - s\n",
    "    return '%s (- %s)' % (asMinutes(s), asMinutes(rs))"
   ]
  },
  {
   "cell_type": "markdown",
   "metadata": {
    "id": "s6o6FbbSp8fx"
   },
   "source": [
    "The whole training process looks like this:\n",
    "\n",
    "-  Start a timer\n",
    "-  Initialize optimizers and criterion\n",
    "-  Create set of training pairs\n",
    "-  Start empty losses array for plotting\n",
    "\n",
    "Then we call ``train`` many times and occasionally print the progress (%\n",
    "of examples, time so far, estimated time) and average loss.\n",
    "\n",
    "\n"
   ]
  },
  {
   "cell_type": "code",
   "execution_count": 18,
   "metadata": {
    "id": "8M9Vf7KNp8fx",
    "tags": []
   },
   "outputs": [],
   "source": [
    "def trainIters(encoder, decoder, n_iters, pairs, input_lang, output_lang,\n",
    "               print_every=1000, plot_every=100, learning_rate=0.01):\n",
    "    start = time.time()\n",
    "    plot_losses = []\n",
    "    print_loss_total = 0  # Reset every print_every\n",
    "    plot_loss_total = 0  # Reset every plot_every\n",
    "\n",
    "    encoder_optimizer = optim.SGD(encoder.parameters(), lr=learning_rate)\n",
    "    decoder_optimizer = optim.SGD(decoder.parameters(), lr=learning_rate)\n",
    "    training_pairs = [tensorsFromPair(random.choice(pairs), input_lang, output_lang)\n",
    "                      for i in range(n_iters)]\n",
    "    criterion = nn.NLLLoss()\n",
    "\n",
    "    for iter in range(1, n_iters + 1):\n",
    "        training_pair = training_pairs[iter - 1]\n",
    "        input_tensor = training_pair[0]\n",
    "        target_tensor = training_pair[1]\n",
    "\n",
    "        loss = train(input_tensor, target_tensor, encoder,\n",
    "                     decoder, encoder_optimizer, decoder_optimizer, criterion)\n",
    "        print_loss_total += loss\n",
    "        plot_loss_total += loss\n",
    "\n",
    "        if iter % print_every == 0:\n",
    "            print_loss_avg = print_loss_total / print_every\n",
    "            print_loss_total = 0\n",
    "            print('%s (%d %d%%) %.4f' % (timeSince(start, iter / n_iters),\n",
    "                                         iter, iter / n_iters * 100, print_loss_avg))\n",
    "\n",
    "        if iter % plot_every == 0:\n",
    "            plot_loss_avg = plot_loss_total / plot_every\n",
    "            plot_losses.append(plot_loss_avg)\n",
    "            plot_loss_total = 0\n",
    "\n",
    "    showPlot(plot_losses)"
   ]
  },
  {
   "cell_type": "markdown",
   "metadata": {
    "id": "wKi9vD86p8fx"
   },
   "source": [
    "Plotting results\n",
    "----------------\n",
    "\n",
    "Plotting is done with matplotlib, using the array of loss values\n",
    "``plot_losses`` saved while training.\n",
    "\n",
    "\n"
   ]
  },
  {
   "cell_type": "code",
   "execution_count": 19,
   "metadata": {
    "id": "w12fLEV3p8fx",
    "tags": []
   },
   "outputs": [],
   "source": [
    "import matplotlib.pyplot as plt\n",
    "plt.switch_backend('agg')\n",
    "import matplotlib.ticker as ticker\n",
    "import numpy as np\n",
    "%matplotlib inline\n",
    "\n",
    "\n",
    "def showPlot(points):\n",
    "    plt.figure()\n",
    "    fig, ax = plt.subplots()\n",
    "    # this locator puts ticks at regular intervals\n",
    "    loc = ticker.MultipleLocator(base=0.2)\n",
    "    ax.yaxis.set_major_locator(loc)\n",
    "    plt.plot(points)"
   ]
  },
  {
   "cell_type": "markdown",
   "metadata": {
    "id": "iD5CJB8Vp8fx"
   },
   "source": [
    "Evaluation\n",
    "==========\n",
    "\n",
    "Evaluation is mostly the same as training, but there are no targets so\n",
    "we simply feed the decoder's predictions back to itself for each step.\n",
    "Every time it predicts a word we add it to the output string, and if it\n",
    "predicts the EOS token we stop there. We also store the decoder's\n",
    "attention outputs for display later.\n",
    "\n",
    "\n"
   ]
  },
  {
   "cell_type": "code",
   "execution_count": 20,
   "metadata": {
    "id": "fxIq86fIp8fx",
    "tags": []
   },
   "outputs": [],
   "source": [
    "def evaluate(encoder, decoder, sentence, input_lang, output_lang, max_length=MAX_LENGTH):\n",
    "    with torch.no_grad():\n",
    "        input_tensor = tensorFromSentence(input_lang, sentence)\n",
    "        input_length = input_tensor.size()[0]\n",
    "        encoder_hidden = encoder.initHidden()\n",
    "\n",
    "        encoder_outputs = torch.zeros(max_length, encoder.hidden_size, device=device)\n",
    "\n",
    "        for ei in range(input_length):\n",
    "            encoder_output, encoder_hidden = encoder(input_tensor[ei],\n",
    "                                                     encoder_hidden)\n",
    "            encoder_outputs[ei] += encoder_output[0, 0]\n",
    "\n",
    "        decoder_input = torch.tensor([[SOS_token]], device=device)  # SOS\n",
    "\n",
    "        decoder_hidden = encoder_hidden\n",
    "\n",
    "        decoded_words = []\n",
    "        decoder_attentions = torch.zeros(max_length, max_length)\n",
    "\n",
    "        for di in range(max_length):\n",
    "            decoder_output, decoder_hidden, decoder_attention = decoder(\n",
    "                decoder_input, decoder_hidden, encoder_outputs)\n",
    "            if decoder_attention is not None:\n",
    "                decoder_attentions[di] = decoder_attention.data\n",
    "            topv, topi = decoder_output.data.topk(1)\n",
    "            if topi.item() == EOS_token:\n",
    "                decoded_words.append('<EOS>')\n",
    "                break\n",
    "            else:\n",
    "                decoded_words.append(output_lang.index2word[topi.item()])\n",
    "\n",
    "            decoder_input = topi.squeeze().detach()\n",
    "\n",
    "        return decoded_words, decoder_attentions[:di + 1]"
   ]
  },
  {
   "cell_type": "markdown",
   "metadata": {
    "id": "hnjxHPyjp8fy"
   },
   "source": [
    "We can evaluate random sentences from the training set and print out the\n",
    "input, target, and output to make some subjective quality judgements:\n",
    "\n",
    "\n"
   ]
  },
  {
   "cell_type": "code",
   "execution_count": 21,
   "metadata": {
    "id": "HzNCK0Jzp8fy",
    "tags": []
   },
   "outputs": [],
   "source": [
    "def evaluateRandomly(encoder, decoder, pairs, input_lang, output_lang, n=10):\n",
    "    for i in range(n):\n",
    "        pair = random.choice(pairs)\n",
    "        print('>', pair[0])\n",
    "        print('=', pair[1])\n",
    "        output_words, attentions = evaluate(encoder, decoder, pair[0], input_lang, output_lang)\n",
    "        output_sentence = ' '.join(output_words)\n",
    "        print('<', output_sentence)\n",
    "        print('')"
   ]
  },
  {
   "cell_type": "markdown",
   "metadata": {
    "id": "-qTcxIsHp8fy"
   },
   "source": [
    "Training and Evaluating\n",
    "=======================\n",
    "\n",
    "With all these helper functions in place (it looks like extra work, but\n",
    "it makes it easier to run multiple experiments) we can actually\n",
    "initialize a network and start training.\n",
    "\n",
    "Remember that the input sentences were heavily filtered. For this small\n",
    "dataset we can use relatively small networks of 256 hidden nodes and a\n",
    "single GRU layer. After about 40 minutes on a MacBook CPU we'll get some\n",
    "reasonable results.\n",
    "\n",
    ".. Note::\n",
    "   If you run this notebook you can train, interrupt the kernel,\n",
    "   evaluate, and continue training later. Comment out the lines where the\n",
    "   encoder and decoder are initialized and run ``trainIters`` again.\n",
    "\n",
    "\n"
   ]
  },
  {
   "cell_type": "code",
   "execution_count": 22,
   "metadata": {
    "id": "7QDPKU47p8fy",
    "tags": []
   },
   "outputs": [
    {
     "name": "stdout",
     "output_type": "stream",
     "text": [
      "0m 58s (- 18m 37s) (5000 5%) 4.2652\n",
      "1m 53s (- 17m 4s) (10000 10%) 3.5142\n",
      "2m 48s (- 15m 56s) (15000 15%) 3.1966\n",
      "3m 43s (- 14m 54s) (20000 20%) 2.9846\n",
      "4m 38s (- 13m 54s) (25000 25%) 2.8491\n",
      "5m 32s (- 12m 56s) (30000 30%) 2.7295\n",
      "6m 27s (- 11m 58s) (35000 35%) 2.6372\n",
      "7m 21s (- 11m 1s) (40000 40%) 2.5689\n",
      "8m 15s (- 10m 5s) (45000 45%) 2.4628\n",
      "9m 9s (- 9m 9s) (50000 50%) 2.4547\n",
      "10m 4s (- 8m 14s) (55000 55%) 2.3805\n",
      "10m 58s (- 7m 19s) (60000 60%) 2.3249\n",
      "11m 52s (- 6m 23s) (65000 65%) 2.3227\n",
      "12m 47s (- 5m 28s) (70000 70%) 2.2719\n",
      "13m 41s (- 4m 33s) (75000 75%) 2.2254\n",
      "14m 36s (- 3m 39s) (80000 80%) 2.2060\n",
      "15m 30s (- 2m 44s) (85000 85%) 2.1906\n",
      "16m 24s (- 1m 49s) (90000 90%) 2.1503\n",
      "17m 19s (- 0m 54s) (95000 95%) 2.1220\n",
      "18m 14s (- 0m 0s) (100000 100%) 2.1203\n"
     ]
    },
    {
     "data": {
      "text/plain": [
       "<Figure size 432x288 with 0 Axes>"
      ]
     },
     "metadata": {},
     "output_type": "display_data"
    },
    {
     "data": {
      "image/png": "[encoded data removed]",
      "text/plain": [
       "<Figure size 432x288 with 1 Axes>"
      ]
     },
     "metadata": {
      "needs_background": "light"
     },
     "output_type": "display_data"
    }
   ],
   "source": [
    "hidden_size = 256\n",
    "encoder1 = EncoderRNN(input_lang.n_words, hidden_size).to(device)\n",
    "attn_decoder1 = AttnDecoderRNN(hidden_size, output_lang.n_words, dropout_p=0.1).to(device)\n",
    "\n",
    "trainIters(encoder1, attn_decoder1, 100000, pairs, input_lang=input_lang, output_lang=output_lang, print_every=5000)"
   ]
  },
  {
   "cell_type": "code",
   "execution_count": 23,
   "metadata": {
    "tags": []
   },
   "outputs": [],
   "source": [
    "#trainIters(encoder1, attn_decoder1, 10000, print_every=500)\n",
    "    "
   ]
  },
  {
   "cell_type": "code",
   "execution_count": 24,
   "metadata": {
    "id": "3PMfl2Ehp8fy",
    "tags": []
   },
   "outputs": [
    {
     "name": "stdout",
     "output_type": "stream",
     "text": [
      "> je suis reticent a aider tom .\n",
      "= i m reluctant to help tom .\n",
      "< i m used to help tom . <EOS>\n",
      "\n",
      "> si vous voulez discuter discutons !\n",
      "= if you want to talk let s talk .\n",
      "< if you want to see if so much . <EOS>\n",
      "\n",
      "> il joue dans sa chambre .\n",
      "= he is playing in his room .\n",
      "< he is in his room . <EOS>\n",
      "\n",
      "> et si on faisait une pause ?\n",
      "= what do you say to taking a rest ?\n",
      "< and should i were ? <EOS>\n",
      "\n",
      "> il nettoie son placard .\n",
      "= he s cleaning out his closet .\n",
      "< he s his teacher . <EOS>\n",
      "\n",
      "> quel est donc tout ce bruit ?\n",
      "= what s all this noise ?\n",
      "< what s all the matter ? <EOS>\n",
      "\n",
      "> ne vous y rendez pas tete nue .\n",
      "= don t go without a hat .\n",
      "< don t make your word . <EOS>\n",
      "\n",
      "> il voyagea a travers le pays .\n",
      "= he traveled throughout the country .\n",
      "< he made his word . <EOS>\n",
      "\n",
      "> j ai hate de te voir .\n",
      "= i can t wait to see you .\n",
      "< i can see you see . <EOS>\n",
      "\n",
      "> cherchez-vous quelqu un ?\n",
      "= are you looking for someone ?\n",
      "< are you someone ? <EOS>\n",
      "\n"
     ]
    }
   ],
   "source": [
    "evaluateRandomly(encoder1, attn_decoder1, pairs, input_lang, output_lang)"
   ]
  },
  {
   "cell_type": "markdown",
   "metadata": {
    "id": "1PZZkpHrp8fy"
   },
   "source": [
    "Visualizing Attention\n",
    "---------------------\n",
    "\n",
    "A useful property of the attention mechanism is its highly interpretable\n",
    "outputs. Because it is used to weight specific encoder outputs of the\n",
    "input sequence, we can imagine looking where the network is focused most\n",
    "at each time step.\n",
    "\n",
    "You could simply run ``plt.matshow(attentions)`` to see attention output\n",
    "displayed as a matrix, with the columns being input steps and rows being\n",
    "output steps:\n",
    "\n",
    "\n"
   ]
  },
  {
   "cell_type": "code",
   "execution_count": 26,
   "metadata": {
    "id": "gIDmE0s6p8fy",
    "tags": []
   },
   "outputs": [
    {
     "name": "stdout",
     "output_type": "stream",
     "text": [
      "['i', 'm', 'too', 'cold', '.', '<EOS>']\n"
     ]
    },
    {
     "data": {
      "image/png": "[encoded data removed]",
      "text/plain": [
       "<Figure size 480x288 with 1 Axes>"
      ]
     },
     "metadata": {
      "needs_background": "light"
     },
     "output_type": "display_data"
    }
   ],
   "source": [
    "output_words, attentions = evaluate(\n",
    "    encoder1, attn_decoder1, \"je suis trop froid .\", input_lang, output_lang)\n",
    "plt.matshow(attentions.numpy())\n",
    "print(output_words)"
   ]
  },
  {
   "cell_type": "markdown",
   "metadata": {
    "id": "R3x-LR6Zp8fy"
   },
   "source": [
    "For a better viewing experience we will do the extra work of adding axes\n",
    "and labels:\n",
    "\n",
    "\n"
   ]
  },
  {
   "cell_type": "code",
   "execution_count": 27,
   "metadata": {
    "tags": []
   },
   "outputs": [],
   "source": [
    "def showAttention(input_sentence, output_words, attentions):\n",
    "    # Set up figure with colorbar\n",
    "    fig = plt.figure()\n",
    "    ax = fig.add_subplot(111)\n",
    "    cax = ax.matshow(attentions.numpy(), cmap='bone')\n",
    "    fig.colorbar(cax)\n",
    "\n",
    "    # Set up axes\n",
    "    ax.set_xticklabels([''] + input_sentence.split(' ') +\n",
    "                       ['<EOS>'], rotation=90)\n",
    "    ax.set_yticklabels([''] + output_words)\n",
    "\n",
    "    # Show label at every tick\n",
    "    ax.xaxis.set_major_locator(ticker.MultipleLocator(1))\n",
    "    ax.yaxis.set_major_locator(ticker.MultipleLocator(1))\n",
    "\n",
    "    plt.show()\n",
    "\n",
    "\n",
    "def evaluateAndShowAttention(input_sentence, input_lang, output_lang):\n",
    "    output_words, attentions = evaluate(\n",
    "        encoder1, attn_decoder1, input_sentence, input_lang, output_lang)\n",
    "    print('input =', input_sentence)\n",
    "    print('output =', ' '.join(output_words))\n",
    "    showAttention(input_sentence, output_words, attentions)"
   ]
  },
  {
   "cell_type": "code",
   "execution_count": 28,
   "metadata": {
    "id": "gy6TvR0zp8fy",
    "tags": []
   },
   "outputs": [
    {
     "name": "stdout",
     "output_type": "stream",
     "text": [
      "input = elle a cinq ans de moins que moi .\n",
      "output = she has two years than me . <EOS>\n"
     ]
    },
    {
     "name": "stderr",
     "output_type": "stream",
     "text": [
      "/tmp/ipykernel_14839/4163146951.py:9: UserWarning: FixedFormatter should only be used together with FixedLocator\n",
      "  ax.set_xticklabels([''] + input_sentence.split(' ') +\n",
      "/tmp/ipykernel_14839/4163146951.py:11: UserWarning: FixedFormatter should only be used together with FixedLocator\n",
      "  ax.set_yticklabels([''] + output_words)\n"
     ]
    },
    {
     "data": {
      "image/png": "[encoded data removed]",
      "text/plain": [
       "<Figure size 432x288 with 2 Axes>"
      ]
     },
     "metadata": {
      "needs_background": "light"
     },
     "output_type": "display_data"
    },
    {
     "name": "stdout",
     "output_type": "stream",
     "text": [
      "input = elle est trop petit .\n",
      "output = she s too fast . <EOS>\n"
     ]
    },
    {
     "data": {
      "image/png": "[encoded data removed]",
      "text/plain": [
       "<Figure size 432x288 with 2 Axes>"
      ]
     },
     "metadata": {
      "needs_background": "light"
     },
     "output_type": "display_data"
    },
    {
     "name": "stdout",
     "output_type": "stream",
     "text": [
      "input = je ne crains pas de mourir .\n",
      "output = i m not going to die . <EOS>\n"
     ]
    },
    {
     "data": {
      "image/png": "[encoded data removed]",
      "text/plain": [
       "<Figure size 432x288 with 2 Axes>"
      ]
     },
     "metadata": {
      "needs_background": "light"
     },
     "output_type": "display_data"
    },
    {
     "name": "stdout",
     "output_type": "stream",
     "text": [
      "input = c est un jeune directeur plein de talent .\n",
      "output = he s a young young friend . <EOS>\n"
     ]
    },
    {
     "data": {
      "image/png": "[encoded data removed]",
      "text/plain": [
       "<Figure size 432x288 with 2 Axes>"
      ]
     },
     "metadata": {
      "needs_background": "light"
     },
     "output_type": "display_data"
    }
   ],
   "source": [
    "\n",
    "\n",
    "\n",
    "evaluateAndShowAttention(\"elle a cinq ans de moins que moi .\", input_lang, output_lang)\n",
    "\n",
    "evaluateAndShowAttention(\"elle est trop petit .\", input_lang, output_lang)\n",
    "\n",
    "evaluateAndShowAttention(\"je ne crains pas de mourir .\", input_lang, output_lang)\n",
    "\n",
    "evaluateAndShowAttention(\"c est un jeune directeur plein de talent .\", input_lang, output_lang)"
   ]
  },
  {
   "cell_type": "markdown",
   "metadata": {
    "id": "rmE9WXEKp8fz"
   },
   "source": [
    "Exercises\n",
    "=========\n",
    "\n",
    "-  Try with a different dataset\n",
    "\n",
    "   -  Another language pair\n",
    "   -  Human → Machine (e.g. IOT commands)\n",
    "   -  Chat → Response\n",
    "   -  Question → Answer\n",
    "\n",
    "-  Replace the embeddings with pre-trained word embeddings such as word2vec or\n",
    "   GloVe\n",
    "-  Try with more layers, more hidden units, and more sentences. Compare\n",
    "   the training time and results.\n",
    "-  If you use a translation file where pairs have two of the same phrase\n",
    "   (``I am test \\t I am test``), you can use this as an autoencoder. Try\n",
    "   this:\n",
    "\n",
    "   -  Train as an autoencoder\n",
    "   -  Save only the Encoder network\n",
    "   -  Train a new Decoder for translation from there\n",
    "\n",
    "\n"
   ]
  },
  {
   "cell_type": "markdown",
   "metadata": {},
   "source": [
    "# ENG - FRA"
   ]
  },
  {
   "cell_type": "code",
   "execution_count": 29,
   "metadata": {
    "tags": []
   },
   "outputs": [
    {
     "name": "stdout",
     "output_type": "stream",
     "text": [
      "Reading lines...\n",
      "Read 190206 sentence pairs\n",
      "137614\n",
      "Trimmed to 137614 sentence pairs\n",
      "Counting words...\n",
      "Counted words:\n",
      "eng 11935\n",
      "fra 21448\n",
      "['you didn t answer my question .', 'tu ne repondis pas a ma question .']\n"
     ]
    }
   ],
   "source": [
    "input_lang, output_lang, pairs = prepareData('eng', 'fra', reverse=False)\n",
    "print(random.choice(pairs))"
   ]
  },
  {
   "cell_type": "code",
   "execution_count": 30,
   "metadata": {
    "tags": []
   },
   "outputs": [
    {
     "name": "stdout",
     "output_type": "stream",
     "text": [
      "0m 28s (- 23m 31s) (2000 2%) 5.2996\n",
      "0m 53s (- 21m 26s) (4000 4%) 4.4666\n",
      "1m 18s (- 20m 32s) (6000 6%) 4.1653\n",
      "1m 43s (- 19m 52s) (8000 8%) 3.8776\n",
      "2m 8s (- 19m 18s) (10000 10%) 3.7753\n",
      "2m 33s (- 18m 46s) (12000 12%) 3.6852\n",
      "2m 58s (- 18m 17s) (14000 14%) 3.5144\n",
      "3m 23s (- 17m 49s) (16000 16%) 3.4570\n",
      "3m 48s (- 17m 20s) (18000 18%) 3.3650\n",
      "4m 13s (- 16m 55s) (20000 20%) 3.3420\n",
      "4m 38s (- 16m 28s) (22000 22%) 3.2587\n",
      "5m 3s (- 16m 2s) (24000 24%) 3.2117\n",
      "5m 29s (- 15m 36s) (26000 26%) 3.1360\n",
      "5m 54s (- 15m 10s) (28000 28%) 3.1348\n",
      "6m 19s (- 14m 44s) (30000 30%) 3.0527\n",
      "6m 43s (- 14m 18s) (32000 32%) 3.0723\n",
      "7m 8s (- 13m 52s) (34000 34%) 2.9915\n",
      "7m 33s (- 13m 26s) (36000 36%) 2.9358\n",
      "7m 59s (- 13m 1s) (38000 38%) 2.9114\n",
      "8m 24s (- 12m 36s) (40000 40%) 2.8806\n",
      "8m 49s (- 12m 10s) (42000 42%) 2.8656\n",
      "9m 14s (- 11m 45s) (44000 44%) 2.8278\n",
      "9m 39s (- 11m 19s) (46000 46%) 2.7797\n",
      "10m 4s (- 10m 54s) (48000 48%) 2.7901\n",
      "10m 29s (- 10m 29s) (50000 50%) 2.7259\n",
      "10m 54s (- 10m 4s) (52000 52%) 2.7479\n",
      "11m 19s (- 9m 38s) (54000 54%) 2.6982\n",
      "11m 44s (- 9m 13s) (56000 56%) 2.6969\n",
      "12m 9s (- 8m 48s) (58000 57%) 2.6376\n",
      "12m 34s (- 8m 23s) (60000 60%) 2.5994\n",
      "12m 59s (- 7m 57s) (62000 62%) 2.6080\n",
      "13m 24s (- 7m 32s) (64000 64%) 2.6578\n",
      "13m 49s (- 7m 7s) (66000 66%) 2.5710\n",
      "14m 14s (- 6m 42s) (68000 68%) 2.5625\n",
      "14m 39s (- 6m 16s) (70000 70%) 2.5676\n",
      "15m 4s (- 5m 51s) (72000 72%) 2.5058\n",
      "15m 29s (- 5m 26s) (74000 74%) 2.5156\n",
      "15m 54s (- 5m 1s) (76000 76%) 2.5156\n",
      "16m 19s (- 4m 36s) (78000 78%) 2.5001\n",
      "16m 44s (- 4m 11s) (80000 80%) 2.4634\n",
      "17m 9s (- 3m 45s) (82000 82%) 2.4875\n",
      "17m 34s (- 3m 20s) (84000 84%) 2.4667\n",
      "17m 59s (- 2m 55s) (86000 86%) 2.4745\n",
      "18m 24s (- 2m 30s) (88000 88%) 2.4090\n",
      "18m 49s (- 2m 5s) (90000 90%) 2.4527\n",
      "19m 14s (- 1m 40s) (92000 92%) 2.4258\n",
      "19m 39s (- 1m 15s) (94000 94%) 2.4197\n",
      "20m 4s (- 0m 50s) (96000 96%) 2.4192\n",
      "20m 29s (- 0m 25s) (98000 98%) 2.4019\n",
      "20m 54s (- 0m 0s) (100000 100%) 2.3932\n"
     ]
    },
    {
     "data": {
      "text/plain": [
       "<Figure size 432x288 with 0 Axes>"
      ]
     },
     "metadata": {},
     "output_type": "display_data"
    },
    {
     "data": {
      "image/png": "[encoded data removed]",
      "text/plain": [
       "<Figure size 432x288 with 1 Axes>"
      ]
     },
     "metadata": {
      "needs_background": "light"
     },
     "output_type": "display_data"
    }
   ],
   "source": [
    "hidden_size = 256\n",
    "encoder1 = EncoderRNN(input_lang.n_words, hidden_size).to(device)\n",
    "attn_decoder1 = AttnDecoderRNN(hidden_size, output_lang.n_words, dropout_p=0.1).to(device)\n",
    "\n",
    "trainIters(encoder1, attn_decoder1, 100000, pairs, input_lang=input_lang, output_lang=output_lang, print_every=2000)\n"
   ]
  },
  {
   "cell_type": "code",
   "execution_count": 31,
   "metadata": {
    "tags": []
   },
   "outputs": [
    {
     "name": "stdout",
     "output_type": "stream",
     "text": [
      "> do i have to change my diet ?\n",
      "= dois-je alterer mon regime ?\n",
      "< avez-vous de faire mes cheveux ? <EOS>\n",
      "\n",
      "> i m at my place .\n",
      "= je suis chez moi .\n",
      "< je suis a ma mere . <EOS>\n",
      "\n",
      "> the population of this village had decreased .\n",
      "= la population de ce village avait diminue .\n",
      "< le voleur a fait son bureau . <EOS>\n",
      "\n",
      "> the walls were painted light brown .\n",
      "= les murs etaient peints de couleur ocre .\n",
      "< les arbres etaient etaient etaient . <EOS>\n",
      "\n",
      "> i wish i had a camera .\n",
      "= j aimerais disposer d un appareil photo .\n",
      "< j ai fait avoir fait une pomme . <EOS>\n",
      "\n",
      "> the boys played in the mud .\n",
      "= les garcons jouerent dans la boue .\n",
      "< le chat dans le feu . <EOS>\n",
      "\n",
      "> i didn t finish the job .\n",
      "= je n ai pas fini le travail .\n",
      "< je n ai pas pu le travail . <EOS>\n",
      "\n",
      "> he s a lovely young man .\n",
      "= c est un charmant jeune homme .\n",
      "< il fait un homme homme . <EOS>\n",
      "\n",
      "> i don t disagree .\n",
      "= je n y suis pas oppose .\n",
      "< je n ai pas de la . <EOS>\n",
      "\n",
      "> are you sure they can do this ?\n",
      "= etes-vous sur qu elles peuvent faire ca ?\n",
      "< es-tu sure que nous pouvons ca ? <EOS>\n",
      "\n"
     ]
    }
   ],
   "source": [
    "evaluateRandomly(encoder1, attn_decoder1, pairs, input_lang, output_lang)"
   ]
  },
  {
   "cell_type": "code",
   "execution_count": 32,
   "metadata": {
    "tags": []
   },
   "outputs": [
    {
     "name": "stdout",
     "output_type": "stream",
     "text": [
      "input = tom always works hard .\n",
      "output = tom travaille toujours dur . <EOS>\n"
     ]
    },
    {
     "name": "stderr",
     "output_type": "stream",
     "text": [
      "/tmp/ipykernel_14839/4163146951.py:9: UserWarning: FixedFormatter should only be used together with FixedLocator\n",
      "  ax.set_xticklabels([''] + input_sentence.split(' ') +\n",
      "/tmp/ipykernel_14839/4163146951.py:11: UserWarning: FixedFormatter should only be used together with FixedLocator\n",
      "  ax.set_yticklabels([''] + output_words)\n"
     ]
    },
    {
     "data": {
      "image/png": "[encoded data removed]",
      "text/plain": [
       "<Figure size 432x288 with 2 Axes>"
      ]
     },
     "metadata": {
      "needs_background": "light"
     },
     "output_type": "display_data"
    }
   ],
   "source": [
    "evaluateAndShowAttention(\"tom always works hard .\", input_lang, output_lang)"
   ]
  },
  {
   "cell_type": "markdown",
   "metadata": {},
   "source": [
    "# ENG-RU"
   ]
  },
  {
   "cell_type": "code",
   "execution_count": 33,
   "metadata": {
    "tags": []
   },
   "outputs": [
    {
     "name": "stdout",
     "output_type": "stream",
     "text": [
      "Reading lines...\n",
      "Read 431097 sentence pairs\n",
      "356434\n",
      "Trimmed to 356434 sentence pairs\n",
      "Counting words...\n",
      "Counted words:\n",
      "eng 15022\n",
      "rus 48024\n",
      "['tell me about your wife .', 'расскажи мне о своеи жене .']\n"
     ]
    }
   ],
   "source": [
    "input_lang, output_lang, pairs = prepareData('eng', 'rus', reverse=False)\n",
    "print(random.choice(pairs))"
   ]
  },
  {
   "cell_type": "code",
   "execution_count": null,
   "metadata": {
    "tags": []
   },
   "outputs": [
    {
     "name": "stdout",
     "output_type": "stream",
     "text": [
      "1m 30s (- 40m 48s) (5000 3%) 5.1846\n",
      "2m 55s (- 38m 2s) (10000 7%) 4.4794\n",
      "4m 20s (- 36m 7s) (15000 10%) 4.1402\n",
      "5m 44s (- 34m 27s) (20000 14%) 3.9400\n",
      "7m 9s (- 32m 57s) (25000 17%) 3.7866\n",
      "8m 35s (- 31m 29s) (30000 21%) 3.6121\n",
      "10m 0s (- 30m 0s) (35000 25%) 3.5343\n",
      "11m 24s (- 28m 31s) (40000 28%) 3.4360\n",
      "12m 49s (- 27m 4s) (45000 32%) 3.3135\n",
      "14m 14s (- 25m 38s) (50000 35%) 3.2384\n",
      "15m 39s (- 24m 12s) (55000 39%) 3.2294\n",
      "17m 4s (- 22m 45s) (60000 42%) 3.1440\n",
      "18m 29s (- 21m 19s) (65000 46%) 3.1069\n",
      "19m 54s (- 19m 54s) (70000 50%) 3.0560\n",
      "21m 19s (- 18m 28s) (75000 53%) 3.0021\n",
      "22m 44s (- 17m 3s) (80000 57%) 2.9833\n",
      "24m 9s (- 15m 37s) (85000 60%) 2.9443\n",
      "25m 33s (- 14m 12s) (90000 64%) 2.8778\n",
      "26m 58s (- 12m 46s) (95000 67%) 2.8421\n",
      "28m 24s (- 11m 21s) (100000 71%) 2.8069\n",
      "29m 48s (- 9m 56s) (105000 75%) 2.7642\n",
      "31m 13s (- 8m 31s) (110000 78%) 2.7396\n",
      "32m 38s (- 7m 5s) (115000 82%) 2.7336\n",
      "34m 3s (- 5m 40s) (120000 85%) 2.7175\n",
      "35m 28s (- 4m 15s) (125000 89%) 2.7083\n",
      "36m 53s (- 2m 50s) (130000 92%) 2.6780\n",
      "38m 18s (- 1m 25s) (135000 96%) 2.6583\n"
     ]
    }
   ],
   "source": [
    "hidden_size = 256\n",
    "encoder1_er = EncoderRNN(input_lang.n_words, hidden_size).to(device)\n",
    "attn_decoder1_er = AttnDecoderRNN(hidden_size, output_lang.n_words, dropout_p=0.1).to(device)\n",
    "\n",
    "\n",
    "trainIters(encoder1_er, attn_decoder1_er, 140000, pairs, input_lang, output_lang,  print_every=5000)"
   ]
  },
  {
   "cell_type": "code",
   "execution_count": null,
   "metadata": {
    "tags": []
   },
   "outputs": [],
   "source": [
    "evaluateRandomly(encoder1, attn_decoder1, pairs, input_lang, output_lang)"
   ]
  },
  {
   "cell_type": "code",
   "execution_count": null,
   "metadata": {
    "tags": []
   },
   "outputs": [],
   "source": [
    "evaluateAndShowAttention(\"tom always works hard .\", input_lang, output_lang)"
   ]
  },
  {
   "cell_type": "markdown",
   "metadata": {},
   "source": [
    "# Английский автоэнкодер\n"
   ]
  },
  {
   "cell_type": "code",
   "execution_count": null,
   "metadata": {
    "tags": []
   },
   "outputs": [],
   "source": [
    "#input_lang, ru_lang, eng_ru_pairs = prepareData('eng', 'rus', reverse=False)\n",
    "ru_lang = output_lang\n",
    "eng_ru_pairs = pairs\n",
    "#output_lang = input_lang\n",
    "\n",
    "eng_eng_pairs = [[f, f] for f, _ in eng_ru_pairs]\n",
    "print(random.choice(eng_eng_pairs))"
   ]
  },
  {
   "cell_type": "code",
   "execution_count": 38,
   "metadata": {
    "tags": []
   },
   "outputs": [
    {
     "name": "stdout",
     "output_type": "stream",
     "text": [
      "7m 55s (- 31m 43s) (28000 20%) 1.8890\n",
      "8m 29s (- 31m 7s) (30000 21%) 1.8179\n",
      "9m 3s (- 30m 33s) (32000 22%) 1.7658\n",
      "9m 36s (- 29m 58s) (34000 24%) 1.7028\n",
      "10m 10s (- 29m 23s) (36000 25%) 1.6915\n",
      "10m 44s (- 28m 49s) (38000 27%) 1.6099\n",
      "11m 17s (- 28m 14s) (40000 28%) 1.5614\n",
      "11m 51s (- 27m 40s) (42000 30%) 1.5215\n",
      "12m 25s (- 27m 6s) (44000 31%) 1.5275\n",
      "12m 58s (- 26m 31s) (46000 32%) 1.4595\n",
      "13m 32s (- 25m 57s) (48000 34%) 1.3947\n",
      "14m 6s (- 25m 22s) (50000 35%) 1.4075\n",
      "14m 39s (- 24m 48s) (52000 37%) 1.3562\n",
      "15m 13s (- 24m 14s) (54000 38%) 1.3209\n",
      "15m 46s (- 23m 40s) (56000 40%) 1.2477\n",
      "16m 20s (- 23m 6s) (58000 41%) 1.2602\n",
      "16m 54s (- 22m 32s) (60000 42%) 1.2595\n",
      "17m 28s (- 21m 58s) (62000 44%) 1.2193\n",
      "18m 2s (- 21m 24s) (64000 45%) 1.1831\n",
      "18m 35s (- 20m 51s) (66000 47%) 1.1789\n",
      "19m 9s (- 20m 17s) (68000 48%) 1.1410\n",
      "19m 43s (- 19m 43s) (70000 50%) 1.1709\n",
      "20m 17s (- 19m 9s) (72000 51%) 1.1223\n",
      "20m 51s (- 18m 36s) (74000 52%) 1.1041\n",
      "21m 25s (- 18m 2s) (76000 54%) 1.1004\n",
      "21m 58s (- 17m 28s) (78000 55%) 1.0595\n",
      "22m 32s (- 16m 54s) (80000 57%) 1.0563\n",
      "23m 6s (- 16m 20s) (82000 58%) 1.0697\n",
      "23m 40s (- 15m 46s) (84000 60%) 1.0309\n",
      "24m 13s (- 15m 12s) (86000 61%) 0.9569\n",
      "24m 47s (- 14m 39s) (88000 62%) 0.9974\n",
      "25m 21s (- 14m 5s) (90000 64%) 0.9948\n",
      "25m 54s (- 13m 31s) (92000 65%) 0.9736\n",
      "26m 28s (- 12m 57s) (94000 67%) 0.9529\n",
      "27m 2s (- 12m 23s) (96000 68%) 0.9475\n",
      "27m 36s (- 11m 49s) (98000 70%) 0.9562\n",
      "28m 10s (- 11m 16s) (100000 71%) 0.9595\n",
      "28m 44s (- 10m 42s) (102000 72%) 0.8594\n",
      "29m 18s (- 10m 8s) (104000 74%) 0.9319\n",
      "29m 52s (- 9m 34s) (106000 75%) 0.9062\n",
      "30m 25s (- 9m 0s) (108000 77%) 0.8624\n",
      "30m 59s (- 8m 27s) (110000 78%) 0.8912\n",
      "31m 33s (- 7m 53s) (112000 80%) 0.8902\n",
      "32m 7s (- 7m 19s) (114000 81%) 0.8548\n",
      "32m 41s (- 6m 45s) (116000 82%) 0.8094\n",
      "33m 15s (- 6m 12s) (118000 84%) 0.8113\n",
      "33m 49s (- 5m 38s) (120000 85%) 0.8347\n",
      "34m 23s (- 5m 4s) (122000 87%) 0.8183\n",
      "34m 56s (- 4m 30s) (124000 88%) 0.8032\n",
      "35m 30s (- 3m 56s) (126000 90%) 0.8058\n",
      "36m 4s (- 3m 22s) (128000 91%) 0.7821\n",
      "36m 38s (- 2m 49s) (130000 92%) 0.7928\n",
      "37m 11s (- 2m 15s) (132000 94%) 0.7928\n",
      "37m 45s (- 1m 41s) (134000 95%) 0.8215\n",
      "38m 19s (- 1m 7s) (136000 97%) 0.7647\n",
      "38m 52s (- 0m 33s) (138000 98%) 0.7936\n",
      "39m 26s (- 0m 0s) (140000 100%) 0.7364\n"
     ]
    },
    {
     "data": {
      "text/plain": [
       "<Figure size 432x288 with 0 Axes>"
      ]
     },
     "metadata": {},
     "output_type": "display_data"
    },
    {
     "data": {
      "image/png": "[encoded data removed]",
      "text/plain": [
       "<Figure size 432x288 with 1 Axes>"
      ]
     },
     "metadata": {
      "needs_background": "light"
     },
     "output_type": "display_data"
    }
   ],
   "source": [
    "hidden_size = 256\n",
    "encoder_eng = EncoderRNN(input_lang.n_words, hidden_size).to(device)\n",
    "decoder_eng = DecoderRNN(hidden_size, output_lang.n_words).to(device)\n",
    "\n",
    "trainIters(encoder_eng, decoder_eng, 140000, eng_eng_pairs, input_lang, input_lang, print_every=2000)"
   ]
  },
  {
   "cell_type": "markdown",
   "metadata": {},
   "source": [
    "Вот теперь модель хоть приблизительно норм"
   ]
  },
  {
   "cell_type": "code",
   "execution_count": 39,
   "metadata": {
    "tags": []
   },
   "outputs": [
    {
     "name": "stdout",
     "output_type": "stream",
     "text": [
      "> spring is coming .\n",
      "= весна наступает .\n",
      "< coming is coming . <EOS>\n",
      "\n",
      "> the teacher was surrounded by her students .\n",
      "= учительницу окружали ее ученики .\n",
      "< the sun was by her by . <EOS>\n",
      "\n",
      "> everyone is scared .\n",
      "= все напуганы .\n",
      "< everyone is scared . <EOS>\n",
      "\n",
      "> that s what we re doing now .\n",
      "= мы этим сеичас и занимаемся .\n",
      "< that s what we re doing now . <EOS>\n",
      "\n",
      "> we ll find one .\n",
      "= мы одну наидем .\n",
      "< we ll find one . <EOS>\n",
      "\n",
      "> i didn t know you were so lonely .\n",
      "= я не знал что ты так одинок .\n",
      "< i didn t know you were so . <EOS>\n",
      "\n",
      "> i haven t seen you in here before .\n",
      "= я тебя раньше здесь не видел .\n",
      "< i haven t seen you in here . <EOS>\n",
      "\n",
      "> when did the movie start ?\n",
      "= когда начался фильм ?\n",
      "< when did the movie start ? <EOS>\n",
      "\n",
      "> it happened at about half past four .\n",
      "= это произошло приблизительно в половину пятого .\n",
      "< it happened about at all six . <EOS>\n",
      "\n",
      "> we re monks .\n",
      "= мы монахи .\n",
      "< we re wet . <EOS>\n",
      "\n"
     ]
    }
   ],
   "source": [
    "evaluateRandomly(encoder_eng, decoder_eng,  pairs, input_lang, input_lang)"
   ]
  },
  {
   "cell_type": "code",
   "execution_count": 40,
   "metadata": {
    "tags": []
   },
   "outputs": [],
   "source": [
    "# Заморозим энкодер и обучим eng-rus\n",
    "for param in encoder_eng.parameters():\n",
    "    param.requires_grad = False"
   ]
  },
  {
   "cell_type": "code",
   "execution_count": 41,
   "metadata": {
    "tags": []
   },
   "outputs": [
    {
     "name": "stdout",
     "output_type": "stream",
     "text": [
      "['how do you know tom won t win ?', 'откуда ты знаешь что том не победит ?']\n",
      "0m 18s (- 23m 42s) (1000 1%) 5.7896\n",
      "0m 32s (- 21m 12s) (2000 2%) 5.0430\n",
      "0m 47s (- 20m 11s) (3000 3%) 4.7771\n",
      "1m 1s (- 19m 36s) (4000 5%) 4.6166\n",
      "1m 16s (- 19m 10s) (5000 6%) 4.5805\n",
      "1m 31s (- 18m 44s) (6000 7%) 4.4086\n",
      "1m 45s (- 18m 24s) (7000 8%) 4.3771\n",
      "2m 0s (- 18m 5s) (8000 10%) 4.1873\n",
      "2m 15s (- 17m 46s) (9000 11%) 4.2614\n",
      "2m 29s (- 17m 27s) (10000 12%) 4.0618\n",
      "2m 44s (- 17m 11s) (11000 13%) 4.1104\n",
      "2m 59s (- 16m 55s) (12000 15%) 4.0395\n",
      "3m 13s (- 16m 39s) (13000 16%) 3.9591\n",
      "3m 28s (- 16m 23s) (14000 17%) 3.9245\n",
      "3m 43s (- 16m 7s) (15000 18%) 3.8369\n",
      "3m 57s (- 15m 51s) (16000 20%) 3.7776\n",
      "4m 12s (- 15m 35s) (17000 21%) 3.7297\n",
      "4m 27s (- 15m 21s) (18000 22%) 3.7765\n",
      "4m 42s (- 15m 5s) (19000 23%) 3.7800\n",
      "4m 56s (- 14m 50s) (20000 25%) 3.6600\n",
      "5m 11s (- 14m 35s) (21000 26%) 3.6833\n",
      "5m 26s (- 14m 19s) (22000 27%) 3.5962\n",
      "5m 40s (- 14m 4s) (23000 28%) 3.5898\n",
      "5m 55s (- 13m 49s) (24000 30%) 3.6039\n",
      "6m 10s (- 13m 34s) (25000 31%) 3.6100\n",
      "6m 25s (- 13m 20s) (26000 32%) 3.5295\n",
      "6m 39s (- 13m 4s) (27000 33%) 3.4607\n",
      "6m 54s (- 12m 49s) (28000 35%) 3.3887\n",
      "7m 9s (- 12m 35s) (29000 36%) 3.4746\n",
      "7m 23s (- 12m 19s) (30000 37%) 3.4613\n",
      "7m 38s (- 12m 5s) (31000 38%) 3.4629\n",
      "7m 53s (- 11m 50s) (32000 40%) 3.4719\n",
      "8m 8s (- 11m 35s) (33000 41%) 3.3923\n",
      "8m 23s (- 11m 20s) (34000 42%) 3.3318\n",
      "8m 37s (- 11m 5s) (35000 43%) 3.3441\n",
      "8m 52s (- 10m 50s) (36000 45%) 3.3192\n",
      "9m 7s (- 10m 36s) (37000 46%) 3.3703\n",
      "9m 22s (- 10m 21s) (38000 47%) 3.3259\n",
      "9m 36s (- 10m 6s) (39000 48%) 3.3130\n",
      "9m 51s (- 9m 51s) (40000 50%) 3.2666\n",
      "10m 6s (- 9m 37s) (41000 51%) 3.3194\n",
      "10m 21s (- 9m 22s) (42000 52%) 3.3864\n",
      "10m 36s (- 9m 7s) (43000 53%) 3.2894\n",
      "10m 51s (- 8m 52s) (44000 55%) 3.1948\n",
      "11m 5s (- 8m 37s) (45000 56%) 3.1632\n",
      "11m 20s (- 8m 22s) (46000 57%) 3.2409\n",
      "11m 35s (- 8m 8s) (47000 58%) 3.1760\n",
      "11m 49s (- 7m 53s) (48000 60%) 3.1300\n",
      "12m 4s (- 7m 38s) (49000 61%) 3.1530\n",
      "12m 19s (- 7m 23s) (50000 62%) 3.1733\n",
      "12m 34s (- 7m 8s) (51000 63%) 3.2179\n",
      "12m 48s (- 6m 54s) (52000 65%) 3.1604\n",
      "13m 3s (- 6m 39s) (53000 66%) 3.1849\n",
      "13m 18s (- 6m 24s) (54000 67%) 3.0488\n",
      "13m 33s (- 6m 9s) (55000 68%) 3.0247\n",
      "13m 47s (- 5m 54s) (56000 70%) 3.1158\n",
      "14m 2s (- 5m 40s) (57000 71%) 3.0579\n",
      "14m 17s (- 5m 25s) (58000 72%) 3.0812\n",
      "14m 32s (- 5m 10s) (59000 73%) 3.1561\n",
      "14m 46s (- 4m 55s) (60000 75%) 3.0569\n",
      "15m 1s (- 4m 40s) (61000 76%) 3.0163\n",
      "15m 16s (- 4m 26s) (62000 77%) 3.0341\n",
      "15m 30s (- 4m 11s) (63000 78%) 3.0655\n",
      "15m 45s (- 3m 56s) (64000 80%) 3.0653\n",
      "16m 0s (- 3m 41s) (65000 81%) 2.9890\n",
      "16m 15s (- 3m 26s) (66000 82%) 2.9448\n",
      "16m 29s (- 3m 12s) (67000 83%) 2.9939\n",
      "16m 44s (- 2m 57s) (68000 85%) 3.0580\n",
      "16m 59s (- 2m 42s) (69000 86%) 2.9975\n",
      "17m 13s (- 2m 27s) (70000 87%) 3.0082\n",
      "17m 28s (- 2m 12s) (71000 88%) 2.9416\n",
      "17m 43s (- 1m 58s) (72000 90%) 2.9621\n",
      "17m 58s (- 1m 43s) (73000 91%) 3.0113\n",
      "18m 12s (- 1m 28s) (74000 92%) 2.9483\n",
      "18m 27s (- 1m 13s) (75000 93%) 2.9201\n",
      "18m 42s (- 0m 59s) (76000 95%) 2.8363\n",
      "18m 57s (- 0m 44s) (77000 96%) 3.0460\n",
      "19m 11s (- 0m 29s) (78000 97%) 2.8932\n",
      "19m 26s (- 0m 14s) (79000 98%) 2.9404\n",
      "19m 41s (- 0m 0s) (80000 100%) 2.9503\n"
     ]
    },
    {
     "data": {
      "text/plain": [
       "<Figure size 432x288 with 0 Axes>"
      ]
     },
     "metadata": {},
     "output_type": "display_data"
    },
    {
     "data": {
      "image/png": "[encoded data removed]",
      "text/plain": [
       "<Figure size 432x288 with 1 Axes>"
      ]
     },
     "metadata": {
      "needs_background": "light"
     },
     "output_type": "display_data"
    }
   ],
   "source": [
    "print(random.choice(eng_ru_pairs))\n",
    "\n",
    "attn_decoder1 = AttnDecoderRNN(hidden_size, output_lang.n_words, dropout_p=0.1).to(device)\n",
    "\n",
    "trainIters(encoder_eng, attn_decoder1, 80000, eng_ru_pairs, input_lang, ru_lang, print_every=1000)"
   ]
  },
  {
   "cell_type": "code",
   "execution_count": 42,
   "metadata": {
    "tags": []
   },
   "outputs": [
    {
     "name": "stdout",
     "output_type": "stream",
     "text": [
      "> tom started the engine .\n",
      "= том запустил двигатель .\n",
      "< том начал . <EOS>\n",
      "\n",
      "> when was this university founded ?\n",
      "= когда был открыт этот университет ?\n",
      "< когда это было была ? <EOS>\n",
      "\n",
      "> tom wanted to see me .\n",
      "= том хотел меня видеть .\n",
      "< том хотел увидеть меня . <EOS>\n",
      "\n",
      "> are you going to the movies ?\n",
      "= ты идешь в кино ?\n",
      "< вы идете на поезд ? <EOS>\n",
      "\n",
      "> you know this .\n",
      "= ты это знаешь .\n",
      "< ты это знаешь . <EOS>\n",
      "\n",
      "> who got hurt ?\n",
      "= кого поранило ?\n",
      "< кто мог ? <EOS>\n",
      "\n",
      "> we need a map .\n",
      "= нам нужна карта .\n",
      "< нам нужен нужен . <EOS>\n",
      "\n",
      "> wow that s so interesting !\n",
      "= ух ты как интересно !\n",
      "< какая это не так ли произошло <EOS>\n",
      "\n",
      "> i must ve missed something .\n",
      "= я наверное что-то пропустил .\n",
      "< я должен больше был . <EOS>\n",
      "\n",
      "> tom told me he didn t smoke .\n",
      "= том сказал мне что он не курит .\n",
      "< том сказал мне что он не может . <EOS>\n",
      "\n"
     ]
    }
   ],
   "source": [
    "evaluateRandomly(encoder_eng, attn_decoder1, eng_ru_pairs, input_lang, ru_lang)"
   ]
  },
  {
   "cell_type": "code",
   "execution_count": null,
   "metadata": {},
   "outputs": [],
   "source": []
  }
 ],
 "metadata": {
  "kernelspec": {
   "display_name": "Python 3 (ipykernel)",
   "language": "python",
   "name": "python3"
  },
  "language_info": {
   "codemirror_mode": {
    "name": "ipython",
    "version": 3
   },
   "file_extension": ".py",
   "mimetype": "text/x-python",
   "name": "python",
   "nbconvert_exporter": "python",
   "pygments_lexer": "ipython3",
   "version": "3.8.11"
  }
 },
 "nbformat": 4,
 "nbformat_minor": 4
}
