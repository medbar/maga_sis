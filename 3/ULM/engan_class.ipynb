{
 "cells": [
  {
   "cell_type": "code",
   "execution_count": 1,
   "metadata": {
    "colab": {
     "base_uri": "https://localhost:8080/"
    },
    "id": "Pw2lkj4nDIzg",
    "outputId": "53cf586f-0e39-4165-d7c3-5964d6de2890"
   },
   "outputs": [],
   "source": [
    "#!pip install torch==1.9.1+cu111 torchaudio==0.9.1 -f https://download.pytorch.org/whl/torch_stable.html\n",
    "#!pip install torch==1.9.1+cpu torchaudio==0.9.1 -f https://download.pytorch.org/whl/torch_stable.html\n",
    "#!pip install torchaudio"
   ]
  },
  {
   "cell_type": "code",
   "execution_count": 2,
   "metadata": {
    "id": "SxoHYcGXjQAg"
   },
   "outputs": [],
   "source": [
    "#!pip install audtorch\n",
    "%load_ext autoreload\n",
    "%autoreload 2"
   ]
  },
  {
   "cell_type": "code",
   "execution_count": 3,
   "metadata": {
    "id": "5MOnh6w-C9HM"
   },
   "outputs": [],
   "source": [
    "import torch\n",
    "import os\n",
    "import torchaudio\n",
    "import numpy as np\n",
    "import pandas as pd\n",
    "import matplotlib.pyplot as plt\n",
    "import IPython.display as ipd\n",
    "import random\n",
    "import sklearn \n",
    "\n",
    "from IPython.display import clear_output\n",
    "import tqdm.notebook as tqdm\n",
    "from efficientnet_pytorch import EfficientNet\n",
    "from efficientnet_pytorch.utils import Conv2dStaticSamePadding\n",
    "from torch import nn\n",
    "from sklearn.metrics import classification_report\n",
    "\n",
    "import torch.nn.functional as F\n",
    "\n",
    "#import audtorch\n",
    "%matplotlib inline"
   ]
  },
  {
   "cell_type": "code",
   "execution_count": 4,
   "metadata": {},
   "outputs": [],
   "source": [
    "from utils.dataloader import make_sorted_dataloader, collate_with_paddings\n",
    "from utils.chunk_dataset import ChunkDataSet\n",
    "from utils.zip_dataset import ZippedDataSet\n",
    "from utils.chunk_augmented_dataset import ChunkAugDataSet\n"
   ]
  },
  {
   "cell_type": "code",
   "execution_count": 5,
   "metadata": {},
   "outputs": [],
   "source": [
    "chunk_sz=2"
   ]
  },
  {
   "cell_type": "code",
   "execution_count": 6,
   "metadata": {},
   "outputs": [
    {
     "name": "stdout",
     "output_type": "stream",
     "text": [
      "Loaded 719 noises\n",
      "1680 chunks\n"
     ]
    }
   ],
   "source": [
    "_ds = ChunkAugDataSet('./data/Data/test', 'data/noises/yacup', chunk_size_s=chunk_sz, return_wav=True, min_amp=0.0, max_amp=0.01)"
   ]
  },
  {
   "cell_type": "code",
   "execution_count": 7,
   "metadata": {},
   "outputs": [],
   "source": [
    "#ds[0]"
   ]
  },
  {
   "cell_type": "code",
   "execution_count": 8,
   "metadata": {},
   "outputs": [
    {
     "data": {
      "application/vnd.jupyter.widget-view+json": {
       "model_id": "b65f49fe627e4973bf42e8d626d1f53e",
       "version_major": 2,
       "version_minor": 0
      },
      "text/plain": [
       "  0%|          | 0/1680 [00:00<?, ?it/s]"
      ]
     },
     "metadata": {},
     "output_type": "display_data"
    },
    {
     "ename": "KeyboardInterrupt",
     "evalue": "",
     "output_type": "error",
     "traceback": [
      "\u001b[0;31m---------------------------------------------------------------------------\u001b[0m",
      "\u001b[0;31mKeyboardInterrupt\u001b[0m                         Traceback (most recent call last)",
      "\u001b[0;32m/tmp/ipykernel_4882/727826096.py\u001b[0m in \u001b[0;36m<module>\u001b[0;34m\u001b[0m\n\u001b[1;32m      1\u001b[0m \u001b[0mbs\u001b[0m \u001b[0;34m=\u001b[0m \u001b[0;34m[\u001b[0m\u001b[0;34m]\u001b[0m\u001b[0;34m\u001b[0m\u001b[0;34m\u001b[0m\u001b[0m\n\u001b[1;32m      2\u001b[0m \u001b[0;32mfor\u001b[0m \u001b[0mi\u001b[0m \u001b[0;32min\u001b[0m \u001b[0mtqdm\u001b[0m\u001b[0;34m.\u001b[0m\u001b[0mtqdm\u001b[0m\u001b[0;34m(\u001b[0m\u001b[0mrange\u001b[0m\u001b[0;34m(\u001b[0m\u001b[0mlen\u001b[0m\u001b[0;34m(\u001b[0m\u001b[0m_ds\u001b[0m\u001b[0;34m)\u001b[0m\u001b[0;34m)\u001b[0m\u001b[0;34m)\u001b[0m\u001b[0;34m:\u001b[0m\u001b[0;34m\u001b[0m\u001b[0;34m\u001b[0m\u001b[0m\n\u001b[0;32m----> 3\u001b[0;31m     \u001b[0ms\u001b[0m \u001b[0;34m=\u001b[0m \u001b[0m_ds\u001b[0m\u001b[0;34m[\u001b[0m\u001b[0mi\u001b[0m\u001b[0;34m]\u001b[0m\u001b[0;34m\u001b[0m\u001b[0;34m\u001b[0m\u001b[0m\n\u001b[0m\u001b[1;32m      4\u001b[0m     \u001b[0ma\u001b[0m \u001b[0;34m=\u001b[0m  \u001b[0msum\u001b[0m\u001b[0;34m(\u001b[0m\u001b[0ms\u001b[0m\u001b[0;34m[\u001b[0m\u001b[0;34m'labels'\u001b[0m\u001b[0;34m]\u001b[0m\u001b[0;34m)\u001b[0m\u001b[0;34m/\u001b[0m\u001b[0mlen\u001b[0m\u001b[0;34m(\u001b[0m\u001b[0ms\u001b[0m\u001b[0;34m[\u001b[0m\u001b[0;34m'labels'\u001b[0m\u001b[0;34m]\u001b[0m\u001b[0;34m)\u001b[0m\u001b[0;34m\u001b[0m\u001b[0;34m\u001b[0m\u001b[0m\n\u001b[1;32m      5\u001b[0m     \u001b[0;31m#print(a)\u001b[0m\u001b[0;34m\u001b[0m\u001b[0;34m\u001b[0m\u001b[0;34m\u001b[0m\u001b[0m\n",
      "\u001b[0;32m/mnt/hdd/mitrofanov-aa/project/maga_sis/3/ULM/utils/chunk_augmented_dataset.py\u001b[0m in \u001b[0;36m__getitem__\u001b[0;34m(self, index)\u001b[0m\n\u001b[1;32m     84\u001b[0m         \u001b[0mseq\u001b[0m \u001b[0;34m=\u001b[0m \u001b[0mself\u001b[0m\u001b[0;34m.\u001b[0m\u001b[0msegments\u001b[0m\u001b[0;34m[\u001b[0m\u001b[0mindex\u001b[0m\u001b[0;34m]\u001b[0m\u001b[0;34m\u001b[0m\u001b[0;34m\u001b[0m\u001b[0m\n\u001b[1;32m     85\u001b[0m         \u001b[0mnoise\u001b[0m \u001b[0;34m=\u001b[0m \u001b[0mself\u001b[0m\u001b[0;34m.\u001b[0m\u001b[0mselect_random_noise\u001b[0m\u001b[0;34m(\u001b[0m\u001b[0;34m)\u001b[0m\u001b[0;34m\u001b[0m\u001b[0;34m\u001b[0m\u001b[0m\n\u001b[0;32m---> 86\u001b[0;31m         \u001b[0mwav\u001b[0m \u001b[0;34m=\u001b[0m \u001b[0madd_noise\u001b[0m\u001b[0;34m(\u001b[0m\u001b[0mseq\u001b[0m\u001b[0;34m.\u001b[0m\u001b[0mwav\u001b[0m\u001b[0;34m,\u001b[0m \u001b[0mnoise\u001b[0m\u001b[0;34m,\u001b[0m \u001b[0mself\u001b[0m\u001b[0;34m.\u001b[0m\u001b[0mmin_amp\u001b[0m\u001b[0;34m,\u001b[0m \u001b[0mself\u001b[0m\u001b[0;34m.\u001b[0m\u001b[0mmax_amp\u001b[0m\u001b[0;34m)\u001b[0m\u001b[0;34m\u001b[0m\u001b[0;34m\u001b[0m\u001b[0m\n\u001b[0m\u001b[1;32m     87\u001b[0m         \u001b[0mfeats\u001b[0m \u001b[0;34m=\u001b[0m \u001b[0mself\u001b[0m\u001b[0;34m.\u001b[0m\u001b[0mtransform\u001b[0m\u001b[0;34m(\u001b[0m\u001b[0mwav\u001b[0m\u001b[0;34m)\u001b[0m\u001b[0;34m.\u001b[0m\u001b[0msqueeze\u001b[0m\u001b[0;34m(\u001b[0m\u001b[0;34m)\u001b[0m \u001b[0;31m# featsXtime\u001b[0m\u001b[0;34m\u001b[0m\u001b[0;34m\u001b[0m\u001b[0m\n\u001b[1;32m     88\u001b[0m         \u001b[0manno\u001b[0m \u001b[0;34m=\u001b[0m \u001b[0mseq\u001b[0m\u001b[0;34m.\u001b[0m\u001b[0manno\u001b[0m\u001b[0;34m\u001b[0m\u001b[0;34m\u001b[0m\u001b[0m\n",
      "\u001b[0;32m/mnt/hdd/mitrofanov-aa/project/maga_sis/3/ULM/utils/segment_data.py\u001b[0m in \u001b[0;36mwav\u001b[0;34m(self)\u001b[0m\n\u001b[1;32m     59\u001b[0m     \u001b[0;34m@\u001b[0m\u001b[0mproperty\u001b[0m\u001b[0;34m\u001b[0m\u001b[0;34m\u001b[0m\u001b[0m\n\u001b[1;32m     60\u001b[0m     \u001b[0;32mdef\u001b[0m \u001b[0mwav\u001b[0m\u001b[0;34m(\u001b[0m\u001b[0mself\u001b[0m\u001b[0;34m)\u001b[0m\u001b[0;34m:\u001b[0m\u001b[0;34m\u001b[0m\u001b[0;34m\u001b[0m\u001b[0m\n\u001b[0;32m---> 61\u001b[0;31m         \u001b[0;32mreturn\u001b[0m \u001b[0mself\u001b[0m\u001b[0;34m.\u001b[0m\u001b[0mwav_keeper\u001b[0m\u001b[0;34m.\u001b[0m\u001b[0mwav\u001b[0m\u001b[0;34m\u001b[0m\u001b[0;34m\u001b[0m\u001b[0m\n\u001b[0m\u001b[1;32m     62\u001b[0m \u001b[0;34m\u001b[0m\u001b[0m\n\u001b[1;32m     63\u001b[0m     \u001b[0;34m@\u001b[0m\u001b[0mproperty\u001b[0m\u001b[0;34m\u001b[0m\u001b[0;34m\u001b[0m\u001b[0m\n",
      "\u001b[0;32m/mnt/hdd/mitrofanov-aa/project/maga_sis/3/ULM/utils/segment_data.py\u001b[0m in \u001b[0;36mwav\u001b[0;34m(self)\u001b[0m\n\u001b[1;32m     18\u001b[0m         \u001b[0mframe_offset\u001b[0m \u001b[0;34m=\u001b[0m \u001b[0mint\u001b[0m\u001b[0;34m(\u001b[0m\u001b[0mself\u001b[0m\u001b[0;34m.\u001b[0m\u001b[0mstart_sec\u001b[0m \u001b[0;34m*\u001b[0m \u001b[0morig_freq\u001b[0m\u001b[0;34m)\u001b[0m\u001b[0;34m\u001b[0m\u001b[0;34m\u001b[0m\u001b[0m\n\u001b[1;32m     19\u001b[0m         \u001b[0mnum_frames\u001b[0m \u001b[0;34m=\u001b[0m \u001b[0mint\u001b[0m\u001b[0;34m(\u001b[0m\u001b[0mself\u001b[0m\u001b[0;34m.\u001b[0m\u001b[0mend_sec\u001b[0m \u001b[0;34m*\u001b[0m \u001b[0morig_freq\u001b[0m \u001b[0;34m-\u001b[0m \u001b[0mframe_offset\u001b[0m\u001b[0;34m)\u001b[0m\u001b[0;34m\u001b[0m\u001b[0;34m\u001b[0m\u001b[0m\n\u001b[0;32m---> 20\u001b[0;31m         wav, _ = torchaudio.load(self.wav_fname, \n\u001b[0m\u001b[1;32m     21\u001b[0m                               \u001b[0mframe_offset\u001b[0m\u001b[0;34m=\u001b[0m\u001b[0mframe_offset\u001b[0m\u001b[0;34m,\u001b[0m\u001b[0;34m\u001b[0m\u001b[0;34m\u001b[0m\u001b[0m\n\u001b[1;32m     22\u001b[0m                               num_frames=num_frames)\n",
      "\u001b[0;32m/mnt/hdd/mitrofanov-aa/project/study/anaconda/envs/sr/lib/python3.8/site-packages/torchaudio/backend/sox_io_backend.py\u001b[0m in \u001b[0;36mload\u001b[0;34m(filepath, frame_offset, num_frames, normalize, channels_first, format)\u001b[0m\n\u001b[1;32m    150\u001b[0m                 filepath, frame_offset, num_frames, normalize, channels_first, format)\n\u001b[1;32m    151\u001b[0m         \u001b[0mfilepath\u001b[0m \u001b[0;34m=\u001b[0m \u001b[0mos\u001b[0m\u001b[0;34m.\u001b[0m\u001b[0mfspath\u001b[0m\u001b[0;34m(\u001b[0m\u001b[0mfilepath\u001b[0m\u001b[0;34m)\u001b[0m\u001b[0;34m\u001b[0m\u001b[0;34m\u001b[0m\u001b[0m\n\u001b[0;32m--> 152\u001b[0;31m     return torch.ops.torchaudio.sox_io_load_audio_file(\n\u001b[0m\u001b[1;32m    153\u001b[0m         filepath, frame_offset, num_frames, normalize, channels_first, format)\n\u001b[1;32m    154\u001b[0m \u001b[0;34m\u001b[0m\u001b[0m\n",
      "\u001b[0;31mKeyboardInterrupt\u001b[0m: "
     ]
    }
   ],
   "source": [
    "bs = []\n",
    "for i in tqdm.tqdm(range(len(_ds))):\n",
    "    s = _ds[i]\n",
    "    a =  sum(s['labels'])/len(s['labels'])\n",
    "    #print(a)\n",
    "    if a < 0.2: \n",
    "        bs.append(s)\n",
    "s = bs[-1]\n",
    "plt.figure(figsize=(10, 5))\n",
    "plt.plot(s['wav'][0, ::4])\n",
    "plt.plot(np.repeat(s['labels']/10, 160))\n",
    "plt.show()"
   ]
  },
  {
   "cell_type": "code",
   "execution_count": 9,
   "metadata": {},
   "outputs": [
    {
     "data": {
      "image/png": "[encoded data removed]",
      "text/plain": [
       "<Figure size 720x360 with 1 Axes>"
      ]
     },
     "metadata": {
      "needs_background": "light"
     },
     "output_type": "display_data"
    }
   ],
   "source": [
    "plt.figure(figsize=(10, 5))\n",
    "plt.plot(s['wav'][0, ::4])\n",
    "plt.plot(np.repeat(s['labels'], 160))\n",
    "plt.show()"
   ]
  },
  {
   "cell_type": "code",
   "execution_count": 10,
   "metadata": {},
   "outputs": [
    {
     "data": {
      "text/html": [
       "\n",
       "                <audio  controls=\"controls\" >\n",
       "                    <source src=\"data:audio/wav;base64,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\" type=\"audio/wav\" />\n",
       "                    Your browser does not support the audio element.\n",
       "                </audio>\n",
       "              "
      ],
      "text/plain": [
       "<IPython.lib.display.Audio object>"
      ]
     },
     "metadata": {},
     "output_type": "display_data"
    }
   ],
   "source": [
    "ipd.display(ipd.Audio(s['wav'], rate=16000))"
   ]
  },
  {
   "cell_type": "code",
   "execution_count": 11,
   "metadata": {
    "id": "SIvBajunNwAA"
   },
   "outputs": [
    {
     "name": "stdout",
     "output_type": "stream",
     "text": [
      "1680 chunks\n",
      "zip_fname='data/Data/test_chunk2s_msl0.zip' exists! Using that archive\n"
     ]
    }
   ],
   "source": [
    "#train_ds = \n",
    "#chunk_sz=2\n",
    "#train_ds = ZippedDataSet(f'data/Data/train_chunk{chunk_sz}s_msl0.zip', ChunkAugDataSet('./data/Data/train', chunk_size_s=chunk_sz), rewrite=False, min_sample_len=0)\n",
    "test_ds = ZippedDataSet(f'data/Data/test_chunk{chunk_sz}s_msl0.zip', ChunkDataSet('./data/Data/test', chunk_size_s=chunk_sz), rewrite=False, min_sample_len=0)"
   ]
  },
  {
   "cell_type": "code",
   "execution_count": 40,
   "metadata": {},
   "outputs": [
    {
     "name": "stdout",
     "output_type": "stream",
     "text": [
      "Loaded 719 noises\n",
      "13734 chunks\n"
     ]
    }
   ],
   "source": [
    "train_ds = ChunkAugDataSet('./data/Data/train', 'data/noises/yacup', chunk_size_s=chunk_sz, return_wav=False, min_amp=0.0, max_amp=1.2)"
   ]
  },
  {
   "cell_type": "markdown",
   "metadata": {
    "id": "xfEChOprLWxg"
   },
   "source": [
    "![image.png](data:image/png;base64,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)"
   ]
  },
  {
   "cell_type": "code",
   "execution_count": 13,
   "metadata": {},
   "outputs": [],
   "source": [
    "class ClsDatasetWrapper:\n",
    "    def __init__(self, ds):\n",
    "        self.ds = ds\n",
    "        self.brackets_l = torch.Tensor([0,    0.45, 0.6, 0.8])\n",
    "        self.brackets_r = torch.Tensor([0.45, 0.6,  0.8, 1.1])\n",
    "    \n",
    "    def __getitem__(self, index):\n",
    "        item  = self.ds[index]\n",
    "        l = item['labels'].mean() # .view(-1, 1)\n",
    "        cls_labels = torch.where((self.brackets_l <= l) & (self.brackets_r > l))[0][0] # torch.nonzero((brackets_l <= l) & (brackets_r > l))[:, 1]\n",
    "        #print(cls_labels)\n",
    "        assert cls_labels.shape == l.shape, f'{cls_labels=} {l=}'\n",
    "        item['cls_labels'] = cls_labels\n",
    "        return item\n",
    "    \n",
    "    def __len__(self):\n",
    "        return len(self.ds)\n",
    "\n",
    "    def total_sec(self):\n",
    "        return self.ds.total_sec()\n",
    "\n",
    "    def size(self, index):\n",
    "        return self.ds.size(index)\n",
    "    \n",
    "    def __getattr__(self, name):\n",
    "        return getattr(self.ds, name)\n",
    "    \n",
    "train_cls_ds = ClsDatasetWrapper(train_ds)\n",
    "test_cls_ds = ClsDatasetWrapper(test_ds)"
   ]
  },
  {
   "cell_type": "code",
   "execution_count": 14,
   "metadata": {},
   "outputs": [],
   "source": [
    "# print(train_cls_ds[1]['feats'])\n",
    "# t = torchaudio.transforms.TimeMasking(100)\n",
    "# t.train()\n",
    "# print(t(train_cls_ds[1]['feats']))\n",
    "# t.eval()\n",
    "# print(t(train_cls_ds[1]['feats']))\n"
   ]
  },
  {
   "cell_type": "code",
   "execution_count": 15,
   "metadata": {},
   "outputs": [
    {
     "data": {
      "text/plain": [
       "torch.Size([80, 50])"
      ]
     },
     "execution_count": 15,
     "metadata": {},
     "output_type": "execute_result"
    }
   ],
   "source": [
    "train_cls_ds[0]['feats'].shape"
   ]
  },
  {
   "cell_type": "code",
   "execution_count": 16,
   "metadata": {},
   "outputs": [
    {
     "data": {
      "text/plain": [
       "-1"
      ]
     },
     "execution_count": 16,
     "metadata": {},
     "output_type": "execute_result"
    }
   ],
   "source": [
    "getattr(train_cls_ds.ds, 'min_sample_len', -1)"
   ]
  },
  {
   "cell_type": "code",
   "execution_count": 17,
   "metadata": {},
   "outputs": [],
   "source": [
    "class EfficientNetASR(nn.Module):                                                                                                                                                                 \n",
    "    def __init__(self, efficient_net_version='b0', num_cls=4, aug_prob=0.9):                                                                                                                                         \n",
    "        super().__init__()\n",
    "        assert efficient_net_version is not None\n",
    "        self.aug_prob = aug_prob\n",
    "        self.aug = nn.Sequential(torchaudio.transforms.TimeMasking(8), #12\n",
    "                                        torchaudio.transforms.TimeMasking(8), #12\n",
    "                                        torchaudio.transforms.FrequencyMasking(6),\n",
    "                                        torchaudio.transforms.FrequencyMasking(6))\n",
    "            \n",
    "        self.efficientnet_model = EfficientNet.from_pretrained('efficientnet-%s' % efficient_net_version)                                                                                                                                                             \n",
    "        self.efficientnet_model._conv_stem = Conv2dStaticSamePadding(1, 32, kernel_size=(3, 3), stride=(2, 2), bias=False, image_size=(128, 188))\n",
    "        self.dropout = nn.Dropout(0.1)\n",
    "        self.fc = nn.Linear(1000, 256, bias=True)                                                                                                                                  \n",
    "        self.head = nn.Linear(256, num_cls)\n",
    "        #self.sig = torch.nn.Sigmoid()\n",
    "        \n",
    "    def forward(self, x):\n",
    "        if self.training:\n",
    "            p = random.random()\n",
    "            if p <= self.aug_prob:    \n",
    "                x = self.aug(x)\n",
    "        else:\n",
    "            x = self.aug(x)\n",
    "        x = x.unsqueeze(dim=1)\n",
    "        x = F.relu(self.efficientnet_model(x))\n",
    "        x = self.dropout(x)\n",
    "        x = F.relu(self.fc(x))\n",
    "        x = self.head(x)\n",
    "        #print(x.shape)\n",
    "        return x\n"
   ]
  },
  {
   "cell_type": "code",
   "execution_count": null,
   "metadata": {},
   "outputs": [],
   "source": [
    "\n"
   ]
  },
  {
   "cell_type": "code",
   "execution_count": 104,
   "metadata": {
    "id": "LNV5yFwDRKy6"
   },
   "outputs": [
    {
     "data": {
      "application/vnd.jupyter.widget-view+json": {
       "model_id": "85663f638aa0419cb9d073583abbdd5d",
       "version_major": 2,
       "version_minor": 0
      },
      "text/plain": [
       "  0%|          | 0/1680 [00:00<?, ?it/s]"
      ]
     },
     "metadata": {},
     "output_type": "display_data"
    },
    {
     "data": {
      "text/plain": [
       "tensor([197., 726., 498., 259.])"
      ]
     },
     "execution_count": 104,
     "metadata": {},
     "output_type": "execute_result"
    }
   ],
   "source": [
    "# def get_cls_weights(ds, num_classes=4):\n",
    "#     cls2num = [0]*num_classes\n",
    "#     for i in tqdm.tqdm(range(len(ds))):\n",
    "#         item = ds[i]\n",
    "#         cls2num[item['cls_labels']]+=1\n",
    "#     return torch.Tensor(cls2num)\n",
    "# get_cls_weights(train_cls_ds)"
   ]
  },
  {
   "cell_type": "code",
   "execution_count": 18,
   "metadata": {},
   "outputs": [],
   "source": [
    "class FocalLoss(nn.Module):\n",
    "    def __init__(self, gamma = 2, eps = 1e-7):\n",
    "        super(FocalLoss, self).__init__()\n",
    "        self.gamma = gamma\n",
    "        self.eps = eps\n",
    "        self.ce = nn.CrossEntropyLoss()\n",
    "\n",
    "    def forward(self, input, target):\n",
    "        logp = self.ce(input, target)\n",
    "        p = torch.exp(-logp).detach()\n",
    "        loss = (1 - p) ** self.gamma * logp\n",
    "        return loss.mean()"
   ]
  },
  {
   "cell_type": "code",
   "execution_count": 19,
   "metadata": {},
   "outputs": [],
   "source": [
    "def get_criterion(train_ds, criterion='ce', device='cpu', gamma=1):\n",
    "    if criterion == 'ce':\n",
    "        #weights = get_cls_weights(train_ds) ** gamma\n",
    "        weights = torch.Tensor([ 399., 3363., 4060.,  310.]) ** gamma\n",
    "        return nn.CrossEntropyLoss(weight=(1/weights).to(device), ignore_index=-1)\n",
    "    if criterion == 'focal':\n",
    "        return FocalLoss(gamma=focal_gamma)\n",
    "    "
   ]
  },
  {
   "cell_type": "code",
   "execution_count": 20,
   "metadata": {
    "id": "tlWU_ne7HUWH"
   },
   "outputs": [],
   "source": [
    "def eval_reg(model, dataloader, device='cpu'):\n",
    "    model.eval()\n",
    "    raise NotImplementedError()\n",
    "    losses = []\n",
    "    with torch.no_grad():\n",
    "        for batch in dataloader:\n",
    "            x_batch = batch['feats'].to(device) #btz X feat_dim X seq_len\n",
    "            y_batch = batch['labels'].to(device)\n",
    "            pad_batch = batch['padding'].to(device)\n",
    "            #print(x_batch.shape, y_batch.shape)\n",
    "\n",
    "            logits = model(x_batch) #* pad_batch\n",
    "\n",
    "            logits_mean = logits.mean(dim=1)#/pad_batch.sum(dim=1)\n",
    "            y_mean = y_batch.sum(dim=1)/pad_batch.sum(dim=1)\n",
    "            loss = ((y_mean - logits_mean)**2).mean().cpu().item()\n",
    "            losses.append(loss)\n",
    "    return np.mean(losses)\n",
    "\n",
    "def eval_cls(model, dataloader, device='cpu', calc_report=True, criterion=None):\n",
    "    model.eval()\n",
    "    losses = []\n",
    "    if criterion is None:\n",
    "        criterion = nn.CrossEntropyLoss(ignore_index=-1)\n",
    "    truth = []\n",
    "    predicted = [] \n",
    "    with torch.no_grad():\n",
    "        for batch in dataloader:\n",
    "            x_batch = batch['feats'].to(device) #btz X feat_dim X seq_len\n",
    "            y_batch = batch['cls_labels'].to(device)\n",
    "            pad_batch = batch['padding'].to(device)\n",
    "            #print(x_batch.shape, y_batch.shape)\n",
    "\n",
    "            logits = model(x_batch) \n",
    "            #print(logits.shape, y_batch.shape)\n",
    "            loss = criterion(logits, y_batch)\n",
    "            losses.append(loss.item())\n",
    "            predicted.append(logits.argmax(dim=-1).cpu().numpy())\n",
    "            truth.append(batch['cls_labels'].cpu().numpy())\n",
    "    cr = None\n",
    "    conf_matrix = None\n",
    "    if calc_report:\n",
    "        truth = np.concatenate(truth)\n",
    "        predicted = np.concatenate(predicted)\n",
    "        labels = [f'[{l:.2f},{r:.2f})' for l,r in zip([0,    0.45, 0.6, 0.8], [0.45, 0.6,  0.8, 1.1])]\n",
    "        cr = classification_report(truth, predicted, target_names=labels)\n",
    "        conf_matrix = sklearn.metrics.confusion_matrix(truth, predicted)#, labels=labels)\n",
    "    return np.mean(losses), cr, conf_matrix\n",
    "\n",
    "\n",
    "        \n",
    "def train_per_chunk(model, train_dl, val_dl, \n",
    "                    epochs=10, \n",
    "                    device='cpu', \n",
    "                    lr=1e-3, \n",
    "                    gamma=0.95,\n",
    "                    weight_decay=1e-6,\n",
    "                    criterion=None):\n",
    "    optimizer = torch.optim.Adam(model.parameters(), lr=lr, weight_decay=weight_decay)\n",
    "    scheduler = torch.optim.lr_scheduler.ExponentialLR(optimizer, gamma=gamma)\n",
    "    if criterion is None:\n",
    "        criterion = nn.CrossEntropyLoss(ignore_index=-1)\n",
    "    \n",
    "    train_losses = []\n",
    "    val_losses = []\n",
    "    last_val = float('inf')\n",
    "    t1 = tqdm.tqdm(range(1, epochs+1))\n",
    "    best_val_loss = float('inf')\n",
    "    for e in t1:\n",
    "        #print(f'Epoch {e}/{epochs}')\n",
    "        #tqdm.tqdm\n",
    "        losses = []\n",
    "        t2 = (train_dl)\n",
    "        for batch in t2:\n",
    "            model.train()\n",
    "            x_batch = batch['feats'].to(device) #btz X feat_dim X seq_len\n",
    "            y_batch = batch['cls_labels'].to(device)\n",
    "            pad_batch = batch['padding'].to(device)\n",
    "            #print(x_batch.shape, y_batch.shape)\n",
    "\n",
    "            logits = model(x_batch) #* pad_batch         \n",
    "            loss  = criterion(logits, y_batch)\n",
    "            loss.backward()\n",
    "            optimizer.step()\n",
    "            losses.append(loss.cpu().item())\n",
    "\n",
    "            t1.set_description(desc=f\"Ep {e}, loss={losses[-1]:.5f}, val={last_val:.5f}\")\n",
    "            #break\n",
    "        scheduler.step()\n",
    "        train_losses.append(np.mean(losses))\n",
    "        last_val, cr, _ = eval_cls(model, val_dl, device=device, criterion=criterion, calc_report=False)\n",
    "        print(f'Epoch {e}: Average train loss {train_losses[-1]}. Val loss {last_val}')\n",
    "        val_losses.append(last_val)\n",
    "        if best_val_loss > last_val:\n",
    "            torch.save(model, 'models/model.best.pt')\n",
    "            best_val_loss = last_val\n",
    "            print(f\"Best val loss {last_val}\")\n",
    "        #print(cr)\n",
    "        \n",
    "    plt.figure(figsize=(8, 8)); plt.title('Train losses')\n",
    "    plt.xlabel('iter') ; plt.ylabel('loss'); plt.grid()\n",
    "    plt.plot(train_losses, label='train loss')\n",
    "    val_losses = np.array(val_losses)\n",
    "    val_losses[val_losses>2] = 2\n",
    "    plt.plot(val_losses, label='test loss')\n",
    "    plt.legend()\n",
    "    plt.show()\n",
    "    return model "
   ]
  },
  {
   "cell_type": "code",
   "execution_count": 21,
   "metadata": {},
   "outputs": [],
   "source": [
    "#train_cls_ds.sizes"
   ]
  },
  {
   "cell_type": "code",
   "execution_count": 34,
   "metadata": {
    "id": "6zUq4JAMb7iJ"
   },
   "outputs": [
    {
     "name": "stdout",
     "output_type": "stream",
     "text": [
      "Dataloader min_sample_len=0\n",
      "SortedSampler remove 0 (1680 -> 1680)\n"
     ]
    }
   ],
   "source": [
    "btz=128\n",
    "device='cuda'\n",
    "# train_dl = make_sorted_dataloader(train_cls_ds, batch_size=btz, min_sample_len=0)\n",
    "train_dl = torch.utils.data.DataLoader(train_cls_ds, \n",
    "                      collate_fn=collate_with_paddings, \n",
    "                      batch_size=btz,                      \n",
    "                      shuffle=True, num_workers=10)\n",
    "\n",
    "test_dl = make_sorted_dataloader(test_cls_ds, batch_size=btz, min_sample_len=0)\n"
   ]
  },
  {
   "cell_type": "code",
   "execution_count": 30,
   "metadata": {},
   "outputs": [
    {
     "data": {
      "text/plain": [
       "14"
      ]
     },
     "execution_count": 30,
     "metadata": {},
     "output_type": "execute_result"
    }
   ],
   "source": [
    "len(test_dl)"
   ]
  },
  {
   "cell_type": "code",
   "execution_count": 31,
   "metadata": {},
   "outputs": [
    {
     "name": "stdout",
     "output_type": "stream",
     "text": [
      "Loaded pretrained weights for efficientnet-b1\n",
      "3.7099316716194153\n",
      "              precision    recall  f1-score   support\n",
      "\n",
      " [0.00,0.45)       0.11      0.54      0.19       197\n",
      " [0.45,0.60)       0.29      0.01      0.01       726\n",
      " [0.60,0.80)       0.22      0.15      0.18       498\n",
      " [0.80,1.10)       0.14      0.21      0.17       259\n",
      "\n",
      "    accuracy                           0.14      1680\n",
      "   macro avg       0.19      0.23      0.14      1680\n",
      "weighted avg       0.22      0.14      0.11      1680\n",
      "\n",
      "[[106   2  39  50]\n",
      " [366   4 182 174]\n",
      " [295   4  76 123]\n",
      " [157   4  43  55]]\n"
     ]
    }
   ],
   "source": [
    "model = EfficientNetASR('b1').to(device)\n",
    "r = eval_cls(model, test_dl, device=device, criterion=None)\n",
    "print(r[0])\n",
    "print(r[1])\n",
    "print(r[2])"
   ]
  },
  {
   "cell_type": "code",
   "execution_count": 50,
   "metadata": {},
   "outputs": [
    {
     "data": {
      "application/vnd.jupyter.widget-view+json": {
       "model_id": "ccefa349e48b4502b41e79d3ed9cdeea",
       "version_major": 2,
       "version_minor": 0
      },
      "text/plain": [
       "  0%|          | 0/10 [00:00<?, ?it/s]"
      ]
     },
     "metadata": {},
     "output_type": "display_data"
    },
    {
     "name": "stdout",
     "output_type": "stream",
     "text": [
      "WARNING: element 7766, anno.shape[0]=40 (corr_anno_len=51), feats.shape[-1]=51, self.feats2anno_rate=1\n",
      "WARNING: element 8058, anno.shape[0]=44 (corr_anno_len=51), feats.shape[-1]=51, self.feats2anno_rate=1\n",
      "Epoch 1: Average train loss 1.3234783190268058. Val loss 1.626684273992266\n",
      "Best val loss 1.626684273992266\n",
      "WARNING: element 7766, anno.shape[0]=40 (corr_anno_len=51), feats.shape[-1]=51, self.feats2anno_rate=1\n",
      "WARNING: element 8058, anno.shape[0]=44 (corr_anno_len=51), feats.shape[-1]=51, self.feats2anno_rate=1\n",
      "Epoch 2: Average train loss 1.2818843181486483. Val loss 1.8492136640208108\n",
      "WARNING: element 7766, anno.shape[0]=40 (corr_anno_len=51), feats.shape[-1]=51, self.feats2anno_rate=1\n",
      "WARNING: element 8058, anno.shape[0]=44 (corr_anno_len=51), feats.shape[-1]=51, self.feats2anno_rate=1\n",
      "Epoch 3: Average train loss 1.2369817705066115. Val loss 1.631259799003601\n",
      "WARNING: element 7766, anno.shape[0]=40 (corr_anno_len=51), feats.shape[-1]=51, self.feats2anno_rate=1\n",
      "WARNING: element 8058, anno.shape[0]=44 (corr_anno_len=51), feats.shape[-1]=51, self.feats2anno_rate=1\n",
      "Epoch 4: Average train loss 1.2328940894868639. Val loss 1.5414704552718572\n",
      "Best val loss 1.5414704552718572\n",
      "WARNING: element 8058, anno.shape[0]=44 (corr_anno_len=51), feats.shape[-1]=51, self.feats2anno_rate=1\n",
      "WARNING: element 7766, anno.shape[0]=40 (corr_anno_len=51), feats.shape[-1]=51, self.feats2anno_rate=1\n",
      "Epoch 5: Average train loss 1.2165527167143646. Val loss 1.6832014684166228\n",
      "WARNING: element 8058, anno.shape[0]=44 (corr_anno_len=51), feats.shape[-1]=51, self.feats2anno_rate=1\n",
      "WARNING: element 7766, anno.shape[0]=40 (corr_anno_len=51), feats.shape[-1]=51, self.feats2anno_rate=1\n",
      "Epoch 6: Average train loss 1.2238005951598838. Val loss 1.6428066875253404\n",
      "WARNING: element 8058, anno.shape[0]=44 (corr_anno_len=51), feats.shape[-1]=51, self.feats2anno_rate=1\n",
      "WARNING: element 7766, anno.shape[0]=40 (corr_anno_len=51), feats.shape[-1]=51, self.feats2anno_rate=1\n",
      "Epoch 7: Average train loss 1.2247942239046097. Val loss 1.6895612989153181\n",
      "WARNING: element 7766, anno.shape[0]=40 (corr_anno_len=51), feats.shape[-1]=51, self.feats2anno_rate=1\n",
      "WARNING: element 8058, anno.shape[0]=44 (corr_anno_len=51), feats.shape[-1]=51, self.feats2anno_rate=1\n",
      "Epoch 8: Average train loss 1.221798065635893. Val loss 1.7338705318314689\n",
      "WARNING: element 7766, anno.shape[0]=40 (corr_anno_len=51), feats.shape[-1]=51, self.feats2anno_rate=1\n",
      "WARNING: element 8058, anno.shape[0]=44 (corr_anno_len=51), feats.shape[-1]=51, self.feats2anno_rate=1\n",
      "Epoch 9: Average train loss 1.2162758818379156. Val loss 2.080517973218645\n",
      "WARNING: element 7766, anno.shape[0]=40 (corr_anno_len=51), feats.shape[-1]=51, self.feats2anno_rate=1\n",
      "WARNING: element 8058, anno.shape[0]=44 (corr_anno_len=51), feats.shape[-1]=51, self.feats2anno_rate=1\n",
      "Epoch 10: Average train loss 1.2193920181857214. Val loss 1.4772942108767373\n",
      "Best val loss 1.4772942108767373\n"
     ]
    },
    {
     "data": {
      "image/png": "[encoded data removed]",
      "text/plain": [
       "<Figure size 576x576 with 1 Axes>"
      ]
     },
     "metadata": {
      "needs_background": "light"
     },
     "output_type": "display_data"
    }
   ],
   "source": [
    "criterion = get_criterion(train_cls_ds, 'ce', device, gamma=1)\n",
    "model = torch.load('models/it2/effnet.chunk2s_mls0.100e.sa10x2_20x2.pt')\n",
    "model.aug_prob = 0.9\n",
    "# model = EfficientNetASR('b1').to(device)\n",
    "#model = CNN_blstm().to(device)\n",
    "model = train_per_chunk(model, \n",
    "                        train_dl, test_dl,  # egs_list=['028_2016-04-06_Nottingham']\n",
    "                        epochs=10, \n",
    "                        lr=1e-4,\n",
    "                        weight_decay=1e-4, \n",
    "                        gamma=1,\n",
    "                        device=device, \n",
    "                        criterion=criterion)\n",
    "torch.save(model, 'models/it3/effnet.tmp.pt')\n",
    "# train= val=0.01172. btz=40, epochs=60, lr=1e-4\n",
    "# train= val=0.01155. btz=128, epochs=60, lr=1e-4\n",
    "# train= val=. btz=128, epochs=60, lr=1e-3\n",
    "# train= val=. btz=128, epochs=60, lr=1e-5\n",
    "# mse^2 train= val=0.01417. btz=128, epochs=60, lr=1e-3\n"
   ]
  },
  {
   "cell_type": "code",
   "execution_count": 142,
   "metadata": {},
   "outputs": [],
   "source": [
    "torch.save(model, 'models/it3/effnet.tmp.pt')"
   ]
  },
  {
   "cell_type": "code",
   "execution_count": 113,
   "metadata": {},
   "outputs": [],
   "source": [
    "# criterion = get_criterion(train_cls_ds, 'focal', device)\n",
    "# model = EfficientNetASR('b1').to(device)\n",
    "# #model = CNN_blstm().to(device)\n",
    "# model = train_per_chunk(model, \n",
    "#                         train_dl, test_dl,  # egs_list=['028_2016-04-06_Nottingham']\n",
    "#                         epochs=200, \n",
    "#                         lr=1e-4,\n",
    "#                         weight_decay=1e-6, \n",
    "#                         gamma=1,\n",
    "#                         device=device, \n",
    "#                         criterion=criterion)\n",
    "# torch.save(model, 'models/it2/effnet.focal.pt')"
   ]
  },
  {
   "cell_type": "code",
   "execution_count": 114,
   "metadata": {},
   "outputs": [],
   "source": [
    "#model = torch.load('models/it2/effnet.chunk.4c.pt')"
   ]
  },
  {
   "cell_type": "code",
   "execution_count": 115,
   "metadata": {
    "tags": []
   },
   "outputs": [],
   "source": [
    "# losses = []\n",
    "# for lr in [1e-3, 1e-4, 2e-4]:\n",
    "#     for g in [1, 0.95, 0.9]:\n",
    "#         for w in [1e-6, 0, 1e-2]:\n",
    "#             print(f'Parameters {lr=} {g=} {w=}')\n",
    "#             model = EfficientNetASR('b1').to(device)\n",
    "#             #model = CNN_blstm().to(device)\n",
    "#             model = train_per_chunk(model, \n",
    "#                                     train_dl, test_dl,  # egs_list=['028_2016-04-06_Nottingham']\n",
    "#                                     epochs=100, \n",
    "#                                     lr=lr,\n",
    "#                                     weight_decay=w, \n",
    "#                                     gamma=g,\n",
    "#                                     device=device, \n",
    "#                                     criterion=criterion)\n",
    "#             loss_train, cr = eval_cls(model, train_dl, device=device)\n",
    "#             print(f'{loss=}')\n",
    "#             print(cr)\n",
    "#             loss, cr = eval_cls(model, test_dl, device=device)\n",
    "#             print(f'{loss=}')\n",
    "#             print(cr)\n",
    "#             losses.append((lr, g, w, loss_train, loss))\n",
    "# losses"
   ]
  },
  {
   "cell_type": "code",
   "execution_count": 52,
   "metadata": {},
   "outputs": [
    {
     "name": "stdout",
     "output_type": "stream",
     "text": [
      "loss=1.5327570395810264\n",
      "              precision    recall  f1-score   support\n",
      "\n",
      " [0.00,0.45)       0.10      0.36      0.16       197\n",
      " [0.45,0.60)       0.00      0.00      0.00       726\n",
      " [0.60,0.80)       0.42      0.10      0.17       498\n",
      " [0.80,1.10)       0.24      0.80      0.37       259\n",
      "\n",
      "    accuracy                           0.20      1680\n",
      "   macro avg       0.19      0.32      0.17      1680\n",
      "weighted avg       0.17      0.20      0.13      1680\n",
      "\n",
      "[[ 70   0  19 108]\n",
      " [394   0  39 293]\n",
      " [189   0  52 257]\n",
      " [ 36   0  15 208]]\n"
     ]
    },
    {
     "name": "stderr",
     "output_type": "stream",
     "text": [
      "/mnt/hdd/mitrofanov-aa/project/study/anaconda/envs/sr/lib/python3.8/site-packages/sklearn/metrics/_classification.py:1308: UndefinedMetricWarning: Precision and F-score are ill-defined and being set to 0.0 in labels with no predicted samples. Use `zero_division` parameter to control this behavior.\n",
      "  _warn_prf(average, modifier, msg_start, len(result))\n",
      "/mnt/hdd/mitrofanov-aa/project/study/anaconda/envs/sr/lib/python3.8/site-packages/sklearn/metrics/_classification.py:1308: UndefinedMetricWarning: Precision and F-score are ill-defined and being set to 0.0 in labels with no predicted samples. Use `zero_division` parameter to control this behavior.\n",
      "  _warn_prf(average, modifier, msg_start, len(result))\n",
      "/mnt/hdd/mitrofanov-aa/project/study/anaconda/envs/sr/lib/python3.8/site-packages/sklearn/metrics/_classification.py:1308: UndefinedMetricWarning: Precision and F-score are ill-defined and being set to 0.0 in labels with no predicted samples. Use `zero_division` parameter to control this behavior.\n",
      "  _warn_prf(average, modifier, msg_start, len(result))\n"
     ]
    }
   ],
   "source": [
    "#model = torch.load('models/it3/effnet.tmp.pt')\n",
    "\n",
    "loss, cr, conf = eval_cls(model, test_dl, device=device)\n",
    "print(f'{loss=}')\n",
    "print(cr)\n",
    "print(conf)"
   ]
  },
  {
   "cell_type": "code",
   "execution_count": 43,
   "metadata": {},
   "outputs": [
    {
     "name": "stdout",
     "output_type": "stream",
     "text": [
      "loss=1.553282380104065\n",
      "              precision    recall  f1-score   support\n",
      "\n",
      " [0.00,0.45)       0.08      0.23      0.12       197\n",
      " [0.45,0.60)       0.35      0.01      0.02       726\n",
      " [0.60,0.80)       0.00      0.00      0.00       498\n",
      " [0.80,1.10)       0.20      0.84      0.32       259\n",
      "\n",
      "    accuracy                           0.16      1680\n",
      "   macro avg       0.16      0.27      0.11      1680\n",
      "weighted avg       0.19      0.16      0.07      1680\n",
      "\n",
      "[[ 46   1   0 150]\n",
      " [334   6   0 386]\n",
      " [141   8   0 349]\n",
      " [ 40   2   0 217]]\n"
     ]
    },
    {
     "name": "stderr",
     "output_type": "stream",
     "text": [
      "/mnt/hdd/mitrofanov-aa/project/study/anaconda/envs/sr/lib/python3.8/site-packages/sklearn/metrics/_classification.py:1308: UndefinedMetricWarning: Precision and F-score are ill-defined and being set to 0.0 in labels with no predicted samples. Use `zero_division` parameter to control this behavior.\n",
      "  _warn_prf(average, modifier, msg_start, len(result))\n",
      "/mnt/hdd/mitrofanov-aa/project/study/anaconda/envs/sr/lib/python3.8/site-packages/sklearn/metrics/_classification.py:1308: UndefinedMetricWarning: Precision and F-score are ill-defined and being set to 0.0 in labels with no predicted samples. Use `zero_division` parameter to control this behavior.\n",
      "  _warn_prf(average, modifier, msg_start, len(result))\n",
      "/mnt/hdd/mitrofanov-aa/project/study/anaconda/envs/sr/lib/python3.8/site-packages/sklearn/metrics/_classification.py:1308: UndefinedMetricWarning: Precision and F-score are ill-defined and being set to 0.0 in labels with no predicted samples. Use `zero_division` parameter to control this behavior.\n",
      "  _warn_prf(average, modifier, msg_start, len(result))\n"
     ]
    }
   ],
   "source": [
    "\n",
    "model = torch.load('models/model.best.pt')\n",
    "loss, cr, conf = eval_cls(model, test_dl, device=device)\n",
    "print(f'{loss=}')\n",
    "print(cr)\n",
    "print(conf)\n",
    "# 0.013951944429427385"
   ]
  },
  {
   "cell_type": "code",
   "execution_count": null,
   "metadata": {},
   "outputs": [],
   "source": [
    "!cp "
   ]
  },
  {
   "cell_type": "code",
   "execution_count": null,
   "metadata": {},
   "outputs": [],
   "source": [
    "def brackets_acccuracy(model, dl, device='cpu'):\n",
    "    #, n=4\n",
    "    #brackets_l = np.linspace(0, 1.01, n+1)[:-1]\n",
    "   \n",
    "    #brackets_r = np.linspace(0, 1.01, n+1)[1:]\n",
    "    brackets_l = np.array([0,    0.45, 0.6, 0.8])\n",
    "    brackets_r = np.array([0.45, 0.6,  0.8, 1.1])\n",
    "    \n",
    "    predicted=[]\n",
    "    truth=[]\n",
    "    with torch.no_grad():\n",
    "        for batch in dl:\n",
    "            x = batch['feats'].to(device) \n",
    "            p = batch['padding']\n",
    "            labels = batch['labels'].sum(dim=1)/p.sum(dim=1)\n",
    "            labels = labels.view(-1).numpy() \n",
    "            \n",
    "            logits = model(x).cpu().view(-1).numpy()\n",
    "            assert labels.shape == logits.shape, f' {labels.shape=} {logits.shape=}'\n",
    "            for l, y in zip(logits, labels):\n",
    "                pos_l = np.where((brackets_l <= l) * (brackets_r > l))[0]\n",
    "                pos_y = np.where((brackets_l <= y) * (brackets_r > y))[0]\n",
    "                assert pos_l.shape == pos_y.shape == (1,), f'{pos_l=} {pos_y=}, {brackets_l=}, {brackets_r=}, {l=}, {y=}'\n",
    "                predicted.append(pos_l[0])\n",
    "                truth.append(pos_y[0])\n",
    "    #print([(y,p) for y,p in zip(truth, predicted)])\n",
    "    print(classification_report(truth, predicted, target_names=[f'[{l:.2f},{r:.2f})' for l,r in zip(brackets_l, brackets_r)]))\n",
    "    \n",
    "brackets_acccuracy(model, val_dl, device=device)"
   ]
  },
  {
   "cell_type": "code",
   "execution_count": null,
   "metadata": {},
   "outputs": [],
   "source": [
    "n=10\n",
    "brackets_l = np.linspace(0, 1.01, n+1)[:-1]\n",
    "brackets_r = np.linspace(0, 1.01, n+1)[1:]\n",
    "bins = np.zeros(n)\n",
    "logits = np.array([0.01, 0.002, 0, 0.11, 0.99, 0.55, 1.])\n",
    "for l in logits:\n",
    "    pos = (brackets_l <= l) * (brackets_r > l)\n",
    "    print(l, pos)\n",
    "    print(np.where(pos)[0])\n",
    "    #bins[pos]+=1\n",
    "#print(bins)"
   ]
  },
  {
   "cell_type": "code",
   "execution_count": null,
   "metadata": {
    "id": "tDXrMb5AcUeE"
   },
   "outputs": [],
   "source": [
    "def predict(self, dl, device='cpu'):\n",
    "    #feats - feats_dim X seq_len\n",
    "    predicts = []\n",
    "    labels = []\n",
    "    padds = []\n",
    "    # #torch.utils.data.DataLoader(ds, \n",
    "    #                                            collate_fn=collate,\n",
    "    #                                            sampler=SortedSampler(ds), \n",
    "    #                                            shuffle=False, \n",
    "    #                                            batch_size=64):\n",
    "    with torch.no_grad():\n",
    "        for batch in dl: \n",
    "            x = batch['feats'].to(device) \n",
    "            y = batch['labels'] \n",
    "            p = batch['padding']\n",
    "            logits = model(x).cpu()\n",
    "            predicts.append(logits.cpu())\n",
    "            labels.append(y.cpu())\n",
    "            padds.append(p.cpu())\n",
    "    return predicts, labels, padds\n",
    "\n",
    "#ds = FolderDataSet('/content/drive/MyDrive/учебка/магистратура/ULM/Data/',  novices=False) # egs_list=['030_2016-04-06_Nottingham'],\n",
    "\n",
    "plp = predict(model, val_dl, device=device)      "
   ]
  },
  {
   "cell_type": "code",
   "execution_count": null,
   "metadata": {},
   "outputs": [],
   "source": [
    "for p_batch, l_batch, pad_batch in zip(*plp):\n",
    "    for i in range(p_batch.shape[0]):\n",
    "        one_pads = pad_batch[i, :]\n",
    "        one_predict = p_batch[i, :].mean() #[one_pads==1].mean()\n",
    "        one_label = l_batch[i, :][one_pads==1]\n",
    "        l_mean = one_label.mean()\n",
    "        #deltas\n",
    "        # one_predict = one_predict[:-1]\n",
    "        # one_label = one_label[1:] - one_label[:-1]\n",
    "        #\n",
    "        x = np.arange(len(one_label))\n",
    "        plt.figure(figsize=(5,5))\n",
    "        #plt.plot(x, one_predict)\n",
    "        plt.plot(x, one_label)\n",
    "        plt.scatter(1, one_predict)\n",
    "        plt.scatter(2, l_mean)\n",
    "        plt.legend(['real', 'predict_mean', 'real_mean'])\n",
    "        plt.show()\n",
    "        if i >=10:\n",
    "            break\n",
    "    break"
   ]
  },
  {
   "cell_type": "code",
   "execution_count": null,
   "metadata": {},
   "outputs": [],
   "source": [
    "l_mean=[]\n",
    "predicted_mean=[]\n",
    "for p_batch, l_batch, pad_batch in zip(*plp):\n",
    "    predicted_mean.append(p_batch.view(-1)) #.sum(dim=1)/pad_batch.sum(dim=1)\n",
    "    #one_label = l_batch[i, :][one_pads==1]\n",
    "    l_mean.append(l_batch.sum(dim=1)/pad_batch.sum(dim=1))\n",
    "    #deltas\n",
    "    # one_predict = one_predict[:-1]\n",
    "    # one_label = one_label[1:] - one_label[:-1]\n",
    "    #\n",
    "predicted_mean = torch.cat(predicted_mean)\n",
    "l_mean = torch.cat(l_mean)\n",
    "x = np.arange(len(l_mean))\n",
    "plt.figure(figsize=(25,5))\n",
    "#plt.plot(x, one_predict)\n",
    "#plt.plot(x, one_label)\n",
    "plt.plot(x,  l_mean, '^')\n",
    "plt.plot(x, predicted_mean, 'x')\n",
    "#plt.scatter(1, one_predict)\n",
    "#plt.scatter(2, l_mean)\n",
    "plt.legend(['real_mean', 'predict_mean'])\n",
    "plt.show()\n"
   ]
  },
  {
   "cell_type": "code",
   "execution_count": null,
   "metadata": {
    "colab": {
     "base_uri": "https://localhost:8080/",
     "height": 1000
    },
    "id": "U5Fyv_YsgZmP",
    "outputId": "7edddbdb-cea0-4d75-9006-ac5ad45ed771"
   },
   "outputs": [],
   "source": [
    "for p_batch, l_batch, pad_batch in zip(*plp):\n",
    "    for i in range(p_batch.shape[0]):\n",
    "        one_pads = pad_batch[i, :]\n",
    "        one_predict = p_batch[i, :][one_pads==1]\n",
    "        one_label = l_batch[i, :][one_pads==1]\n",
    "        #deltas\n",
    "        # one_predict = one_predict[:-1]\n",
    "        # one_label = one_label[1:] - one_label[:-1]\n",
    "        #\n",
    "        x = np.arange(len(one_predict))\n",
    "        plt.figure(figsize=(5,5))\n",
    "        plt.plot(x, one_predict)\n",
    "        plt.plot(x, one_label)\n",
    "        plt.legend(['predicted', 'real'])\n",
    "        plt.show()\n",
    "        if i >=3:\n",
    "            break"
   ]
  },
  {
   "cell_type": "code",
   "execution_count": null,
   "metadata": {
    "colab": {
     "base_uri": "https://localhost:8080/"
    },
    "id": "psHbBywqs_rA",
    "outputId": "479f1b1a-6b6c-42f8-fcdf-f84d5115bffe"
   },
   "outputs": [],
   "source": [
    "for p_batch, l_batch, pad_batch in zip(*plp):\n",
    "    for i in range(p_batch.shape[0]):\n",
    "        one_pads = pad_batch[i, :]\n",
    "        one_predict = p_batch[i, :][one_pads==1]\n",
    "        one_label = l_batch[i, :][one_pads==1]\n",
    "        #deltas\n",
    "        one_predict[0] = one_label[0]\n",
    "        for j in range(1, len(one_predict)):\n",
    "            one_predict[j] += one_predict[j-1]\n",
    "        #one_label = one_label[1:] - one_label[:-1]\n",
    "        #\n",
    "        x = np.arange(len(one_predict))\n",
    "        plt.figure(figsize=(5,5))\n",
    "        plt.title(\"Delta predict. Ground truth first step\")\n",
    "        plt.plot(x, one_predict)\n",
    "        plt.plot(x, one_label)\n",
    "        plt.legend(['predicted', 'real'])\n",
    "        plt.show()\n",
    "        if i >=10:\n",
    "            break"
   ]
  },
  {
   "cell_type": "code",
   "execution_count": null,
   "metadata": {
    "id": "QW38l88qS7Ai"
   },
   "outputs": [],
   "source": [
    "#for idx in random_idxes:\n",
    "ipd.display(ipd.Audio(item['expert_wav'][0, :25*chk_len*16], rate=16000))"
   ]
  }
 ],
 "metadata": {
  "accelerator": "GPU",
  "colab": {
   "collapsed_sections": [],
   "name": "ULM_enganement.ipynb",
   "provenance": []
  },
  "kernelspec": {
   "display_name": "Python 3 (ipykernel)",
   "language": "python",
   "name": "python3"
  },
  "language_info": {
   "codemirror_mode": {
    "name": "ipython",
    "version": 3
   },
   "file_extension": ".py",
   "mimetype": "text/x-python",
   "name": "python",
   "nbconvert_exporter": "python",
   "pygments_lexer": "ipython3",
   "version": "3.8.11"
  },
  "widgets": {
   "application/vnd.jupyter.widget-state+json": {
    "0944abf84f6c4c4da1ff28c1c79318da": {
     "model_module": "@jupyter-widgets/controls",
     "model_module_version": "1.5.0",
     "model_name": "ProgressStyleModel",
     "state": {
      "_model_module": "@jupyter-widgets/controls",
      "_model_module_version": "1.5.0",
      "_model_name": "ProgressStyleModel",
      "_view_count": null,
      "_view_module": "@jupyter-widgets/base",
      "_view_module_version": "1.2.0",
      "_view_name": "StyleView",
      "bar_color": null,
      "description_width": ""
     }
    },
    "10a5ed239cfe4c94872e63d1160a5b55": {
     "model_module": "@jupyter-widgets/controls",
     "model_module_version": "1.5.0",
     "model_name": "FloatProgressModel",
     "state": {
      "_dom_classes": [],
      "_model_module": "@jupyter-widgets/controls",
      "_model_module_version": "1.5.0",
      "_model_name": "FloatProgressModel",
      "_view_count": null,
      "_view_module": "@jupyter-widgets/controls",
      "_view_module_version": "1.5.0",
      "_view_name": "ProgressView",
      "bar_style": "danger",
      "description": "",
      "description_tooltip": null,
      "layout": "IPY_MODEL_b8c9971212974dbc8b867c8baedf8be8",
      "max": 122,
      "min": 0,
      "orientation": "horizontal",
      "style": "IPY_MODEL_e6f8f21df3884e26910d143ca75b0e7a",
      "value": 29
     }
    },
    "1c75366196e942589402a6b94bc17723": {
     "model_module": "@jupyter-widgets/controls",
     "model_module_version": "1.5.0",
     "model_name": "HTMLModel",
     "state": {
      "_dom_classes": [],
      "_model_module": "@jupyter-widgets/controls",
      "_model_module_version": "1.5.0",
      "_model_name": "HTMLModel",
      "_view_count": null,
      "_view_module": "@jupyter-widgets/controls",
      "_view_module_version": "1.5.0",
      "_view_name": "HTMLView",
      "description": "",
      "description_tooltip": null,
      "layout": "IPY_MODEL_2f64b8844aa34d24a96f1c7e9e95096e",
      "placeholder": "​",
      "style": "IPY_MODEL_9e2c465d0bac439dbe7ba90b9acb1e64",
      "value": " 24%"
     }
    },
    "2f64b8844aa34d24a96f1c7e9e95096e": {
     "model_module": "@jupyter-widgets/base",
     "model_module_version": "1.2.0",
     "model_name": "LayoutModel",
     "state": {
      "_model_module": "@jupyter-widgets/base",
      "_model_module_version": "1.2.0",
      "_model_name": "LayoutModel",
      "_view_count": null,
      "_view_module": "@jupyter-widgets/base",
      "_view_module_version": "1.2.0",
      "_view_name": "LayoutView",
      "align_content": null,
      "align_items": null,
      "align_self": null,
      "border": null,
      "bottom": null,
      "display": null,
      "flex": null,
      "flex_flow": null,
      "grid_area": null,
      "grid_auto_columns": null,
      "grid_auto_flow": null,
      "grid_auto_rows": null,
      "grid_column": null,
      "grid_gap": null,
      "grid_row": null,
      "grid_template_areas": null,
      "grid_template_columns": null,
      "grid_template_rows": null,
      "height": null,
      "justify_content": null,
      "justify_items": null,
      "left": null,
      "margin": null,
      "max_height": null,
      "max_width": null,
      "min_height": null,
      "min_width": null,
      "object_fit": null,
      "object_position": null,
      "order": null,
      "overflow": null,
      "overflow_x": null,
      "overflow_y": null,
      "padding": null,
      "right": null,
      "top": null,
      "visibility": null,
      "width": null
     }
    },
    "574ac0c539d9419aa3dfa3653e8366aa": {
     "model_module": "@jupyter-widgets/controls",
     "model_module_version": "1.5.0",
     "model_name": "DescriptionStyleModel",
     "state": {
      "_model_module": "@jupyter-widgets/controls",
      "_model_module_version": "1.5.0",
      "_model_name": "DescriptionStyleModel",
      "_view_count": null,
      "_view_module": "@jupyter-widgets/base",
      "_view_module_version": "1.2.0",
      "_view_name": "StyleView",
      "description_width": ""
     }
    },
    "7ab513dad374436bb7f99f687cd61a21": {
     "model_module": "@jupyter-widgets/base",
     "model_module_version": "1.2.0",
     "model_name": "LayoutModel",
     "state": {
      "_model_module": "@jupyter-widgets/base",
      "_model_module_version": "1.2.0",
      "_model_name": "LayoutModel",
      "_view_count": null,
      "_view_module": "@jupyter-widgets/base",
      "_view_module_version": "1.2.0",
      "_view_name": "LayoutView",
      "align_content": null,
      "align_items": null,
      "align_self": null,
      "border": null,
      "bottom": null,
      "display": null,
      "flex": null,
      "flex_flow": null,
      "grid_area": null,
      "grid_auto_columns": null,
      "grid_auto_flow": null,
      "grid_auto_rows": null,
      "grid_column": null,
      "grid_gap": null,
      "grid_row": null,
      "grid_template_areas": null,
      "grid_template_columns": null,
      "grid_template_rows": null,
      "height": null,
      "justify_content": null,
      "justify_items": null,
      "left": null,
      "margin": null,
      "max_height": null,
      "max_width": null,
      "min_height": null,
      "min_width": null,
      "object_fit": null,
      "object_position": null,
      "order": null,
      "overflow": null,
      "overflow_x": null,
      "overflow_y": null,
      "padding": null,
      "right": null,
      "top": null,
      "visibility": null,
      "width": null
     }
    },
    "8083f0a875a145b582d947fc887b9e87": {
     "model_module": "@jupyter-widgets/base",
     "model_module_version": "1.2.0",
     "model_name": "LayoutModel",
     "state": {
      "_model_module": "@jupyter-widgets/base",
      "_model_module_version": "1.2.0",
      "_model_name": "LayoutModel",
      "_view_count": null,
      "_view_module": "@jupyter-widgets/base",
      "_view_module_version": "1.2.0",
      "_view_name": "LayoutView",
      "align_content": null,
      "align_items": null,
      "align_self": null,
      "border": null,
      "bottom": null,
      "display": null,
      "flex": null,
      "flex_flow": null,
      "grid_area": null,
      "grid_auto_columns": null,
      "grid_auto_flow": null,
      "grid_auto_rows": null,
      "grid_column": null,
      "grid_gap": null,
      "grid_row": null,
      "grid_template_areas": null,
      "grid_template_columns": null,
      "grid_template_rows": null,
      "height": null,
      "justify_content": null,
      "justify_items": null,
      "left": null,
      "margin": null,
      "max_height": null,
      "max_width": null,
      "min_height": null,
      "min_width": null,
      "object_fit": null,
      "object_position": null,
      "order": null,
      "overflow": null,
      "overflow_x": null,
      "overflow_y": null,
      "padding": null,
      "right": null,
      "top": null,
      "visibility": null,
      "width": null
     }
    },
    "82053ea5f1e54590a66b410880b067c8": {
     "model_module": "@jupyter-widgets/controls",
     "model_module_version": "1.5.0",
     "model_name": "HTMLModel",
     "state": {
      "_dom_classes": [],
      "_model_module": "@jupyter-widgets/controls",
      "_model_module_version": "1.5.0",
      "_model_name": "HTMLModel",
      "_view_count": null,
      "_view_module": "@jupyter-widgets/controls",
      "_view_module_version": "1.5.0",
      "_view_name": "HTMLView",
      "description": "",
      "description_tooltip": null,
      "layout": "IPY_MODEL_9315927fd845417889a2a47a64dd654e",
      "placeholder": "​",
      "style": "IPY_MODEL_d0f826cd284c4ebba4aa1a8e991cc7ec",
      "value": " 59%"
     }
    },
    "8a905e3e72a94e828882267dfd9e8b1d": {
     "model_module": "@jupyter-widgets/base",
     "model_module_version": "1.2.0",
     "model_name": "LayoutModel",
     "state": {
      "_model_module": "@jupyter-widgets/base",
      "_model_module_version": "1.2.0",
      "_model_name": "LayoutModel",
      "_view_count": null,
      "_view_module": "@jupyter-widgets/base",
      "_view_module_version": "1.2.0",
      "_view_name": "LayoutView",
      "align_content": null,
      "align_items": null,
      "align_self": null,
      "border": null,
      "bottom": null,
      "display": null,
      "flex": null,
      "flex_flow": null,
      "grid_area": null,
      "grid_auto_columns": null,
      "grid_auto_flow": null,
      "grid_auto_rows": null,
      "grid_column": null,
      "grid_gap": null,
      "grid_row": null,
      "grid_template_areas": null,
      "grid_template_columns": null,
      "grid_template_rows": null,
      "height": null,
      "justify_content": null,
      "justify_items": null,
      "left": null,
      "margin": null,
      "max_height": null,
      "max_width": null,
      "min_height": null,
      "min_width": null,
      "object_fit": null,
      "object_position": null,
      "order": null,
      "overflow": null,
      "overflow_x": null,
      "overflow_y": null,
      "padding": null,
      "right": null,
      "top": null,
      "visibility": null,
      "width": null
     }
    },
    "9315927fd845417889a2a47a64dd654e": {
     "model_module": "@jupyter-widgets/base",
     "model_module_version": "1.2.0",
     "model_name": "LayoutModel",
     "state": {
      "_model_module": "@jupyter-widgets/base",
      "_model_module_version": "1.2.0",
      "_model_name": "LayoutModel",
      "_view_count": null,
      "_view_module": "@jupyter-widgets/base",
      "_view_module_version": "1.2.0",
      "_view_name": "LayoutView",
      "align_content": null,
      "align_items": null,
      "align_self": null,
      "border": null,
      "bottom": null,
      "display": null,
      "flex": null,
      "flex_flow": null,
      "grid_area": null,
      "grid_auto_columns": null,
      "grid_auto_flow": null,
      "grid_auto_rows": null,
      "grid_column": null,
      "grid_gap": null,
      "grid_row": null,
      "grid_template_areas": null,
      "grid_template_columns": null,
      "grid_template_rows": null,
      "height": null,
      "justify_content": null,
      "justify_items": null,
      "left": null,
      "margin": null,
      "max_height": null,
      "max_width": null,
      "min_height": null,
      "min_width": null,
      "object_fit": null,
      "object_position": null,
      "order": null,
      "overflow": null,
      "overflow_x": null,
      "overflow_y": null,
      "padding": null,
      "right": null,
      "top": null,
      "visibility": null,
      "width": null
     }
    },
    "9e2c465d0bac439dbe7ba90b9acb1e64": {
     "model_module": "@jupyter-widgets/controls",
     "model_module_version": "1.5.0",
     "model_name": "DescriptionStyleModel",
     "state": {
      "_model_module": "@jupyter-widgets/controls",
      "_model_module_version": "1.5.0",
      "_model_name": "DescriptionStyleModel",
      "_view_count": null,
      "_view_module": "@jupyter-widgets/base",
      "_view_module_version": "1.2.0",
      "_view_name": "StyleView",
      "description_width": ""
     }
    },
    "9e397bf2a78c46359459f0806ac7a3f6": {
     "model_module": "@jupyter-widgets/controls",
     "model_module_version": "1.5.0",
     "model_name": "FloatProgressModel",
     "state": {
      "_dom_classes": [],
      "_model_module": "@jupyter-widgets/controls",
      "_model_module_version": "1.5.0",
      "_model_name": "FloatProgressModel",
      "_view_count": null,
      "_view_module": "@jupyter-widgets/controls",
      "_view_module_version": "1.5.0",
      "_view_name": "ProgressView",
      "bar_style": "danger",
      "description": "",
      "description_tooltip": null,
      "layout": "IPY_MODEL_feb12d7ae1594267b9f6edd5019467a6",
      "max": 122,
      "min": 0,
      "orientation": "horizontal",
      "style": "IPY_MODEL_0944abf84f6c4c4da1ff28c1c79318da",
      "value": 72
     }
    },
    "a2bc04ddca8140a48c90fb5e81765dc5": {
     "model_module": "@jupyter-widgets/base",
     "model_module_version": "1.2.0",
     "model_name": "LayoutModel",
     "state": {
      "_model_module": "@jupyter-widgets/base",
      "_model_module_version": "1.2.0",
      "_model_name": "LayoutModel",
      "_view_count": null,
      "_view_module": "@jupyter-widgets/base",
      "_view_module_version": "1.2.0",
      "_view_name": "LayoutView",
      "align_content": null,
      "align_items": null,
      "align_self": null,
      "border": null,
      "bottom": null,
      "display": null,
      "flex": null,
      "flex_flow": null,
      "grid_area": null,
      "grid_auto_columns": null,
      "grid_auto_flow": null,
      "grid_auto_rows": null,
      "grid_column": null,
      "grid_gap": null,
      "grid_row": null,
      "grid_template_areas": null,
      "grid_template_columns": null,
      "grid_template_rows": null,
      "height": null,
      "justify_content": null,
      "justify_items": null,
      "left": null,
      "margin": null,
      "max_height": null,
      "max_width": null,
      "min_height": null,
      "min_width": null,
      "object_fit": null,
      "object_position": null,
      "order": null,
      "overflow": null,
      "overflow_x": null,
      "overflow_y": null,
      "padding": null,
      "right": null,
      "top": null,
      "visibility": null,
      "width": null
     }
    },
    "b8c9971212974dbc8b867c8baedf8be8": {
     "model_module": "@jupyter-widgets/base",
     "model_module_version": "1.2.0",
     "model_name": "LayoutModel",
     "state": {
      "_model_module": "@jupyter-widgets/base",
      "_model_module_version": "1.2.0",
      "_model_name": "LayoutModel",
      "_view_count": null,
      "_view_module": "@jupyter-widgets/base",
      "_view_module_version": "1.2.0",
      "_view_name": "LayoutView",
      "align_content": null,
      "align_items": null,
      "align_self": null,
      "border": null,
      "bottom": null,
      "display": null,
      "flex": null,
      "flex_flow": null,
      "grid_area": null,
      "grid_auto_columns": null,
      "grid_auto_flow": null,
      "grid_auto_rows": null,
      "grid_column": null,
      "grid_gap": null,
      "grid_row": null,
      "grid_template_areas": null,
      "grid_template_columns": null,
      "grid_template_rows": null,
      "height": null,
      "justify_content": null,
      "justify_items": null,
      "left": null,
      "margin": null,
      "max_height": null,
      "max_width": null,
      "min_height": null,
      "min_width": null,
      "object_fit": null,
      "object_position": null,
      "order": null,
      "overflow": null,
      "overflow_x": null,
      "overflow_y": null,
      "padding": null,
      "right": null,
      "top": null,
      "visibility": null,
      "width": null
     }
    },
    "bbca78068d03400fad48982d949c4977": {
     "model_module": "@jupyter-widgets/controls",
     "model_module_version": "1.5.0",
     "model_name": "HBoxModel",
     "state": {
      "_dom_classes": [],
      "_model_module": "@jupyter-widgets/controls",
      "_model_module_version": "1.5.0",
      "_model_name": "HBoxModel",
      "_view_count": null,
      "_view_module": "@jupyter-widgets/controls",
      "_view_module_version": "1.5.0",
      "_view_name": "HBoxView",
      "box_style": "",
      "children": [
       "IPY_MODEL_1c75366196e942589402a6b94bc17723",
       "IPY_MODEL_10a5ed239cfe4c94872e63d1160a5b55",
       "IPY_MODEL_d9602002e4a140308b2e7fe467f0732b"
      ],
      "layout": "IPY_MODEL_8a905e3e72a94e828882267dfd9e8b1d"
     }
    },
    "c7049175f2054a94b8d176dfbfa21449": {
     "model_module": "@jupyter-widgets/controls",
     "model_module_version": "1.5.0",
     "model_name": "DescriptionStyleModel",
     "state": {
      "_model_module": "@jupyter-widgets/controls",
      "_model_module_version": "1.5.0",
      "_model_name": "DescriptionStyleModel",
      "_view_count": null,
      "_view_module": "@jupyter-widgets/base",
      "_view_module_version": "1.2.0",
      "_view_name": "StyleView",
      "description_width": ""
     }
    },
    "d0f826cd284c4ebba4aa1a8e991cc7ec": {
     "model_module": "@jupyter-widgets/controls",
     "model_module_version": "1.5.0",
     "model_name": "DescriptionStyleModel",
     "state": {
      "_model_module": "@jupyter-widgets/controls",
      "_model_module_version": "1.5.0",
      "_model_name": "DescriptionStyleModel",
      "_view_count": null,
      "_view_module": "@jupyter-widgets/base",
      "_view_module_version": "1.2.0",
      "_view_name": "StyleView",
      "description_width": ""
     }
    },
    "d9602002e4a140308b2e7fe467f0732b": {
     "model_module": "@jupyter-widgets/controls",
     "model_module_version": "1.5.0",
     "model_name": "HTMLModel",
     "state": {
      "_dom_classes": [],
      "_model_module": "@jupyter-widgets/controls",
      "_model_module_version": "1.5.0",
      "_model_name": "HTMLModel",
      "_view_count": null,
      "_view_module": "@jupyter-widgets/controls",
      "_view_module_version": "1.5.0",
      "_view_name": "HTMLView",
      "description": "",
      "description_tooltip": null,
      "layout": "IPY_MODEL_a2bc04ddca8140a48c90fb5e81765dc5",
      "placeholder": "​",
      "style": "IPY_MODEL_574ac0c539d9419aa3dfa3653e8366aa",
      "value": " 29/122 [07:18&lt;23:11, 14.96s/it]"
     }
    },
    "e01989f67f194202b722949aa9af34c1": {
     "model_module": "@jupyter-widgets/controls",
     "model_module_version": "1.5.0",
     "model_name": "HTMLModel",
     "state": {
      "_dom_classes": [],
      "_model_module": "@jupyter-widgets/controls",
      "_model_module_version": "1.5.0",
      "_model_name": "HTMLModel",
      "_view_count": null,
      "_view_module": "@jupyter-widgets/controls",
      "_view_module_version": "1.5.0",
      "_view_name": "HTMLView",
      "description": "",
      "description_tooltip": null,
      "layout": "IPY_MODEL_8083f0a875a145b582d947fc887b9e87",
      "placeholder": "​",
      "style": "IPY_MODEL_c7049175f2054a94b8d176dfbfa21449",
      "value": " 72/122 [18:21&lt;11:42, 14.04s/it]"
     }
    },
    "e6f8f21df3884e26910d143ca75b0e7a": {
     "model_module": "@jupyter-widgets/controls",
     "model_module_version": "1.5.0",
     "model_name": "ProgressStyleModel",
     "state": {
      "_model_module": "@jupyter-widgets/controls",
      "_model_module_version": "1.5.0",
      "_model_name": "ProgressStyleModel",
      "_view_count": null,
      "_view_module": "@jupyter-widgets/base",
      "_view_module_version": "1.2.0",
      "_view_name": "StyleView",
      "bar_color": null,
      "description_width": ""
     }
    },
    "f591ea9094824d78a0e07c8751643ab4": {
     "model_module": "@jupyter-widgets/controls",
     "model_module_version": "1.5.0",
     "model_name": "HBoxModel",
     "state": {
      "_dom_classes": [],
      "_model_module": "@jupyter-widgets/controls",
      "_model_module_version": "1.5.0",
      "_model_name": "HBoxModel",
      "_view_count": null,
      "_view_module": "@jupyter-widgets/controls",
      "_view_module_version": "1.5.0",
      "_view_name": "HBoxView",
      "box_style": "",
      "children": [
       "IPY_MODEL_82053ea5f1e54590a66b410880b067c8",
       "IPY_MODEL_9e397bf2a78c46359459f0806ac7a3f6",
       "IPY_MODEL_e01989f67f194202b722949aa9af34c1"
      ],
      "layout": "IPY_MODEL_7ab513dad374436bb7f99f687cd61a21"
     }
    },
    "feb12d7ae1594267b9f6edd5019467a6": {
     "model_module": "@jupyter-widgets/base",
     "model_module_version": "1.2.0",
     "model_name": "LayoutModel",
     "state": {
      "_model_module": "@jupyter-widgets/base",
      "_model_module_version": "1.2.0",
      "_model_name": "LayoutModel",
      "_view_count": null,
      "_view_module": "@jupyter-widgets/base",
      "_view_module_version": "1.2.0",
      "_view_name": "LayoutView",
      "align_content": null,
      "align_items": null,
      "align_self": null,
      "border": null,
      "bottom": null,
      "display": null,
      "flex": null,
      "flex_flow": null,
      "grid_area": null,
      "grid_auto_columns": null,
      "grid_auto_flow": null,
      "grid_auto_rows": null,
      "grid_column": null,
      "grid_gap": null,
      "grid_row": null,
      "grid_template_areas": null,
      "grid_template_columns": null,
      "grid_template_rows": null,
      "height": null,
      "justify_content": null,
      "justify_items": null,
      "left": null,
      "margin": null,
      "max_height": null,
      "max_width": null,
      "min_height": null,
      "min_width": null,
      "object_fit": null,
      "object_position": null,
      "order": null,
      "overflow": null,
      "overflow_x": null,
      "overflow_y": null,
      "padding": null,
      "right": null,
      "top": null,
      "visibility": null,
      "width": null
     }
    }
   }
  }
 },
 "nbformat": 4,
 "nbformat_minor": 4
}
