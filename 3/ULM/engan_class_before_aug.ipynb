{
 "cells": [
  {
   "cell_type": "code",
   "execution_count": 1,
   "metadata": {
    "colab": {
     "base_uri": "https://localhost:8080/"
    },
    "id": "Pw2lkj4nDIzg",
    "outputId": "53cf586f-0e39-4165-d7c3-5964d6de2890"
   },
   "outputs": [],
   "source": [
    "#!pip install torch==1.9.1+cu111 torchaudio==0.9.1 -f https://download.pytorch.org/whl/torch_stable.html\n",
    "#!pip install torch==1.9.1+cpu torchaudio==0.9.1 -f https://download.pytorch.org/whl/torch_stable.html\n",
    "#!pip install torchaudio"
   ]
  },
  {
   "cell_type": "code",
   "execution_count": 1,
   "metadata": {
    "id": "SxoHYcGXjQAg"
   },
   "outputs": [],
   "source": [
    "#!pip install audtorch\n",
    "%load_ext autoreload\n",
    "%autoreload 2"
   ]
  },
  {
   "cell_type": "code",
   "execution_count": 2,
   "metadata": {
    "id": "5MOnh6w-C9HM"
   },
   "outputs": [],
   "source": [
    "import torch\n",
    "import os\n",
    "import torchaudio\n",
    "import numpy as np\n",
    "import pandas as pd\n",
    "import matplotlib.pyplot as plt\n",
    "import IPython.display as ipd\n",
    "import random\n",
    "import sklearn \n",
    "\n",
    "from IPython.display import clear_output\n",
    "import tqdm.notebook as tqdm\n",
    "from efficientnet_pytorch import EfficientNet\n",
    "from efficientnet_pytorch.utils import Conv2dStaticSamePadding\n",
    "from torch import nn\n",
    "from sklearn.metrics import classification_report\n",
    "\n",
    "import torch.nn.functional as F\n",
    "\n",
    "#import audtorch\n",
    "%matplotlib inline"
   ]
  },
  {
   "cell_type": "code",
   "execution_count": 3,
   "metadata": {},
   "outputs": [
    {
     "name": "stderr",
     "output_type": "stream",
     "text": [
      "/mnt/hdd/mitrofanov-aa/project/study/anaconda/envs/sr/lib/python3.8/site-packages/torchaudio/functional/functional.py:432: UserWarning: At least one mel filterbank has all zero values. The value for `n_mels` (128) may be set too high. Or, the value for `n_freqs` (201) may be set too low.\n",
      "  warnings.warn(\n"
     ]
    }
   ],
   "source": [
    "from utils.dataloader import make_sorted_dataloader, collate_with_paddings\n",
    "from utils.chunk_dataset import ChunkDataSet\n",
    "from utils.zip_dataset import ZippedDataSet\n",
    "from utils.chunk_augmented_dataset import ChunkAugDataSet\n",
    "from utils.scan_data import scan_rootdir\n",
    "import utils.load_data\n",
    "from utils.load_data import load_anno_tensor, load_vad_df\n"
   ]
  },
  {
   "cell_type": "code",
   "execution_count": 224,
   "metadata": {},
   "outputs": [
    {
     "name": "stdout",
     "output_type": "stream",
     "text": [
      "Annotations_gold_standard-20220202T091454Z-001.zip\n",
      "Data-20211102T111411Z-001.zip\n",
      "Data-20211102T111411Z-002.zip\n",
      "Data-20211102T111411Z-003.zip\n",
      "ds_chunk2s.zip\n",
      "ds_chunk400ms.zip\n",
      "ds.zip\n",
      "noises\n",
      "NoXi_annotations_reliable_gold_standard_classification_with_additional_train_data\n",
      "NoXi_annotations_reliable_gold_standard_classification_with_additional_train_data-20220322T103638Z-001.zip\n",
      "trainds_chunk400ms_msl0.4.zip\n"
     ]
    }
   ],
   "source": [
    "!ls data/"
   ]
  },
  {
   "cell_type": "code",
   "execution_count": 225,
   "metadata": {},
   "outputs": [],
   "source": [
    "s = utils.load_data.load_anno_tensor('data/NoXi_annotations_reliable_gold_standard_classification_with_additional_train_data/English/train/039_2016-04-07_Nottingham/annotation_expert.txt')\n"
   ]
  },
  {
   "cell_type": "code",
   "execution_count": 5,
   "metadata": {
    "id": "SIvBajunNwAA"
   },
   "outputs": [
    {
     "name": "stdout",
     "output_type": "stream",
     "text": [
      "Didn't find ANNO for data/NoXi_annotations_reliable_gold_standard_classification_with_additional_train_data/English/train/039_2016-04-07_Nottingham novice.\n",
      "Warning: data/NoXi_annotations_reliable_gold_standard_classification_with_additional_train_data/English/train/039_2016-04-07_Nottingham is not correct\n",
      "2320 chunks\n",
      "zip_fname='data/NoXi_annotations_reliable_gold_standard_classification_with_additional_train_data/English/train_chunk6s_msl0.zip' exists! Using that archive\n",
      "675 chunks\n",
      "zip_fname='data/NoXi_annotations_reliable_gold_standard_classification_with_additional_train_data/English/dev_chunk6s_msl0.zip' exists! Using that archive\n",
      "347 chunks\n",
      "generating data/NoXi_annotations_reliable_gold_standard_classification_with_additional_train_data/English/test_chunk6s_msl0.zip.\n",
      "Dataloader min_sample_len=0\n",
      "SortedSampler remove 0 (347 -> 347)\n"
     ]
    },
    {
     "data": {
      "application/vnd.jupyter.widget-view+json": {
       "model_id": "5627e49d487742ef9cd8e35cdb00a033",
       "version_major": 2,
       "version_minor": 0
      },
      "text/plain": [
       "  0%|          | 0/347 [00:00<?, ?it/s]"
      ]
     },
     "metadata": {},
     "output_type": "display_data"
    }
   ],
   "source": [
    "#train_ds = \n",
    "chunk_sz=6\n",
    "DATA_BASEDIR=\"data/NoXi_annotations_reliable_gold_standard_classification_with_additional_train_data/English\"\n",
    "\n",
    "train_ds = ZippedDataSet(f'{DATA_BASEDIR}/train_chunk{chunk_sz}s_msl0.zip', \n",
    "                         ChunkDataSet(f'{DATA_BASEDIR}/train/', chunk_size_s=chunk_sz), \n",
    "                         rewrite=False, \n",
    "                         min_sample_len=0)\n",
    "dev_ds = ZippedDataSet(f'{DATA_BASEDIR}/dev_chunk{chunk_sz}s_msl0.zip', \n",
    "                        ChunkDataSet(f'{DATA_BASEDIR}/dev', chunk_size_s=chunk_sz), \n",
    "                        rewrite=False, \n",
    "                        min_sample_len=0)\n",
    "test_ds = ZippedDataSet(f'{DATA_BASEDIR}/test_chunk{chunk_sz}s_msl0.zip', \n",
    "                        ChunkDataSet(f'{DATA_BASEDIR}/test', chunk_size_s=chunk_sz), \n",
    "                        rewrite=True, \n",
    "                        min_sample_len=0)"
   ]
  },
  {
   "cell_type": "code",
   "execution_count": 324,
   "metadata": {},
   "outputs": [
    {
     "name": "stdout",
     "output_type": "stream",
     "text": [
      "675 chunks\n",
      "generating data/NoXi_annotations_reliable_gold_standard_classification_with_additional_train_data/English/dev_chunk6s_msl0.zip.\n",
      "Dataloader min_sample_len=0\n",
      "SortedSampler remove 0 (675 -> 675)\n"
     ]
    },
    {
     "data": {
      "application/vnd.jupyter.widget-view+json": {
       "model_id": "f7058d48bf0e404eac017c797de9ae03",
       "version_major": 2,
       "version_minor": 0
      },
      "text/plain": [
       "  0%|          | 0/675 [00:00<?, ?it/s]"
      ]
     },
     "metadata": {},
     "output_type": "display_data"
    }
   ],
   "source": []
  },
  {
   "cell_type": "code",
   "execution_count": 6,
   "metadata": {},
   "outputs": [
    {
     "data": {
      "text/plain": [
       "tensor([[0.0000, 0.2308, 0.7692, 0.0000, 0.0000]])"
      ]
     },
     "execution_count": 6,
     "metadata": {},
     "output_type": "execute_result"
    }
   ],
   "source": [
    "test_ds[0]['labels']"
   ]
  },
  {
   "cell_type": "code",
   "execution_count": 7,
   "metadata": {},
   "outputs": [
    {
     "data": {
      "text/plain": [
       "40"
      ]
     },
     "execution_count": 7,
     "metadata": {},
     "output_type": "execute_result"
    }
   ],
   "source": [
    "test_ds.feats_dim"
   ]
  },
  {
   "cell_type": "code",
   "execution_count": 8,
   "metadata": {},
   "outputs": [
    {
     "data": {
      "text/plain": [
       "5"
      ]
     },
     "execution_count": 8,
     "metadata": {},
     "output_type": "execute_result"
    }
   ],
   "source": [
    "test_ds.anno_dim"
   ]
  },
  {
   "cell_type": "markdown",
   "metadata": {
    "id": "xfEChOprLWxg"
   },
   "source": [
    "![image.png](data:image/png;base64,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)"
   ]
  },
  {
   "cell_type": "code",
   "execution_count": 9,
   "metadata": {},
   "outputs": [],
   "source": [
    "\n",
    "class EfficientNetASR(nn.Module):                                                                                                                                                                 \n",
    "    def __init__(self, efficient_net_version='b0', num_cls=5, aug_prob=0.9):                                                                                                                                         \n",
    "        super().__init__()\n",
    "        assert efficient_net_version is not None\n",
    "        self.aug_prob = aug_prob\n",
    "        self.aug = nn.Sequential(torchaudio.transforms.TimeMasking(20), #12\n",
    "                                        torchaudio.transforms.TimeMasking(20), #12\n",
    "                                        torchaudio.transforms.FrequencyMasking(8),\n",
    "                                        torchaudio.transforms.FrequencyMasking(8))\n",
    "            \n",
    "        self.efficientnet_model = EfficientNet.from_pretrained('efficientnet-%s' % efficient_net_version)                                                                                                                                                             \n",
    "        self.efficientnet_model._conv_stem = Conv2dStaticSamePadding(1, 32, kernel_size=(3, 3), stride=(2, 2), bias=False, image_size=(128, 188))\n",
    "        self.dropout = nn.Dropout(0.1)\n",
    "        self.fc = nn.Linear(1000, 256, bias=True)                                                                                                                                  \n",
    "        self.head = nn.Linear(256, num_cls)\n",
    "        self.sf = torch.nn.LogSoftmax(dim=-1)\n",
    "        \n",
    "    def forward(self, x):\n",
    "        if self.training:\n",
    "            p = random.random()\n",
    "            if p <= self.aug_prob:    \n",
    "                x = self.aug(x)\n",
    "        else:\n",
    "            x = self.aug(x)\n",
    "        x = x.unsqueeze(dim=1)\n",
    "        x = F.relu(self.efficientnet_model(x))\n",
    "        x = self.dropout(x)\n",
    "        x = F.relu(self.fc(x))\n",
    "        x = self.head(x)\n",
    "        #print(x.shape)\n",
    "        return self.sf(x)\n"
   ]
  },
  {
   "cell_type": "code",
   "execution_count": null,
   "metadata": {},
   "outputs": [],
   "source": [
    "\n"
   ]
  },
  {
   "cell_type": "code",
   "execution_count": 10,
   "metadata": {
    "id": "LNV5yFwDRKy6"
   },
   "outputs": [
    {
     "data": {
      "application/vnd.jupyter.widget-view+json": {
       "model_id": "4fd486c94c94436e92194b3422116ff6",
       "version_major": 2,
       "version_minor": 0
      },
      "text/plain": [
       "  0%|          | 0/2320 [00:00<?, ?it/s]"
      ]
     },
     "metadata": {},
     "output_type": "display_data"
    },
    {
     "name": "stdout",
     "output_type": "stream",
     "text": [
      "Train labels distribution: tensor([0.0041, 0.0150, 0.4626, 0.4274, 0.0909])\n"
     ]
    },
    {
     "data": {
      "application/vnd.jupyter.widget-view+json": {
       "model_id": "8b5ba5ffeafb4c82acf62e38a4c0815c",
       "version_major": 2,
       "version_minor": 0
      },
      "text/plain": [
       "  0%|          | 0/675 [00:00<?, ?it/s]"
      ]
     },
     "metadata": {},
     "output_type": "display_data"
    },
    {
     "name": "stdout",
     "output_type": "stream",
     "text": [
      "dev labels distribution: tensor([0.0078, 0.0122, 0.1926, 0.5263, 0.2611])\n"
     ]
    },
    {
     "data": {
      "application/vnd.jupyter.widget-view+json": {
       "model_id": "2763eab6ef0a40abb0a31e0b2cf918c5",
       "version_major": 2,
       "version_minor": 0
      },
      "text/plain": [
       "  0%|          | 0/347 [00:00<?, ?it/s]"
      ]
     },
     "metadata": {},
     "output_type": "display_data"
    },
    {
     "name": "stdout",
     "output_type": "stream",
     "text": [
      "test labels distribution: tensor([0.0125, 0.0202, 0.2570, 0.6068, 0.1036])\n"
     ]
    }
   ],
   "source": [
    "def get_cls_weights(ds, num_classes=5):\n",
    "    cls2num = torch.zeros(5)\n",
    "    num=0\n",
    "    for i in tqdm.tqdm(range(len(ds))):\n",
    "        item = ds[i]\n",
    "        cls2num += item['labels'].view(-1)\n",
    "        num+=1\n",
    "    return cls2num/num\n",
    "print(f\"Train labels distribution: {get_cls_weights(train_ds)}\")\n",
    "print(f\"dev labels distribution: {get_cls_weights(dev_ds)}\")\n",
    "print(f\"test labels distribution: {get_cls_weights(test_ds)}\")"
   ]
  },
  {
   "cell_type": "code",
   "execution_count": 11,
   "metadata": {},
   "outputs": [],
   "source": [
    "class FocalLoss(nn.Module):\n",
    "    def __init__(self, gamma = 2, eps = 1e-7):\n",
    "        super(FocalLoss, self).__init__()\n",
    "        self.gamma = gamma\n",
    "        self.eps = eps\n",
    "        self.ce = nn.CrossEntropyLoss()\n",
    "\n",
    "    def forward(self, input, target):\n",
    "        logp = self.ce(input, target)\n",
    "        p = torch.exp(-logp).detach()\n",
    "        loss = (1 - p) ** self.gamma * logp\n",
    "        return loss.mean()"
   ]
  },
  {
   "cell_type": "code",
   "execution_count": 12,
   "metadata": {},
   "outputs": [],
   "source": [
    "def get_criterion(train_ds, criterion='ce', device='cpu', gamma=1):\n",
    "    if criterion == 'ce':\n",
    "        weights = get_cls_weights(train_ds) ** gamma\n",
    "        return nn.CrossEntropyLoss(weight=(1/weights).to(device), ignore_index=-1)\n",
    "    if criterion == 'focal':\n",
    "        return FocalLoss(gamma=focal_gamma)\n",
    "    if criterion == 'kl':\n",
    "        return nn.KLDivLoss(reduction='batchmean')\n",
    "    \n",
    "    "
   ]
  },
  {
   "cell_type": "code",
   "execution_count": 13,
   "metadata": {
    "id": "tlWU_ne7HUWH"
   },
   "outputs": [],
   "source": [
    "def eval_cls(model, dataloader, device='cpu', calc_report=True, criterion=None):\n",
    "    model.eval()\n",
    "    losses = []\n",
    "    if criterion is None:\n",
    "        criterion = nn.KLDivLoss(reduction='batchmean')\n",
    "    truth = []\n",
    "    predicted = [] \n",
    "    with torch.no_grad():\n",
    "        for batch in dataloader:\n",
    "            x_batch = batch['feats'].to(device) #btz X feat_dim X seq_len\n",
    "            y_batch = batch['labels'].to(device)\n",
    "            pad_batch = batch['padding'].to(device)\n",
    "            #print(x_batch.shape, y_batch.shape)\n",
    "\n",
    "            logits = model(x_batch) \n",
    "            #print(logits.shape, y_batch.shape)\n",
    "            loss = criterion(logits, y_batch)\n",
    "            losses.append(loss.item())\n",
    "            predicted.append(logits.argmax(dim=-1).cpu().numpy())\n",
    "            truth.append(batch['labels'].argmax(dim=-1).cpu().numpy())\n",
    "    cr = None\n",
    "    conf_matrix = None\n",
    "    if calc_report:\n",
    "        truth = np.concatenate(truth)\n",
    "        predicted = np.concatenate(predicted)\n",
    "        labels = ['l1', 'l2', 'l3', 'l4', 'l5']\n",
    "        cr = classification_report(truth, predicted, target_names=labels)\n",
    "        conf_matrix = sklearn.metrics.confusion_matrix(truth, predicted)#, labels=labels)\n",
    "    return np.mean(losses), cr, conf_matrix\n",
    "\n",
    "\n",
    "        \n",
    "def train_per_chunk(model, train_dl, val_dl, \n",
    "                    epochs=10, \n",
    "                    device='cpu', \n",
    "                    lr=1e-3, \n",
    "                    gamma=0.95,\n",
    "                    weight_decay=1e-6,\n",
    "                    criterion=None):\n",
    "    optimizer = torch.optim.Adam(model.parameters(), lr=lr, weight_decay=weight_decay)\n",
    "    scheduler = torch.optim.lr_scheduler.ExponentialLR(optimizer, gamma=gamma)\n",
    "    if criterion is None:\n",
    "        criterion = nn.KLDivLoss(reduction='batchmean')\n",
    "    \n",
    "    train_losses = []\n",
    "    val_losses = []\n",
    "    last_val = float('inf')\n",
    "    t1 = tqdm.tqdm(range(1, epochs+1))\n",
    "    best_val_loss = float('inf')\n",
    "    for e in t1:\n",
    "        #print(f'Epoch {e}/{epochs}')\n",
    "        #tqdm.tqdm\n",
    "        losses = []\n",
    "        t2 = (train_dl)\n",
    "        for batch in t2:\n",
    "            model.train()\n",
    "            x_batch = batch['feats'].to(device) #btz X feat_dim X seq_len\n",
    "            y_batch = batch['labels'].to(device)\n",
    "#             pad_batch = batch['padding'].to(device)\n",
    "            #print(x_batch.shape, y_batch.shape)\n",
    "\n",
    "            logits = model(x_batch) #* pad_batch         \n",
    "            loss  = criterion(logits, y_batch)\n",
    "            loss.backward()\n",
    "            optimizer.step()\n",
    "            losses.append(loss.cpu().item())\n",
    "\n",
    "            t1.set_description(desc=f\"Ep {e}, loss={losses[-1]:.5f}, val={last_val:.5f}\")\n",
    "            #break\n",
    "        scheduler.step()\n",
    "        train_losses.append(np.mean(losses))\n",
    "        last_val, cr, _ = eval_cls(model, val_dl, device=device, criterion=criterion, calc_report=False)\n",
    "        val_losses.append(last_val)\n",
    "        if best_val_loss > last_val:\n",
    "            torch.save(model, 'models/model.best.pt')\n",
    "            best_val_loss = last_val\n",
    "            print(f\"Best val loss {last_val}\")\n",
    "        #print(cr)\n",
    "        \n",
    "    plt.figure(figsize=(8, 8)); plt.title('Train losses')\n",
    "    plt.xlabel('iter') ; plt.ylabel('loss'); plt.grid()\n",
    "    plt.plot(train_losses, label='train loss')\n",
    "    val_losses = np.array(val_losses)\n",
    "    val_losses[val_losses>2] = 2\n",
    "    plt.plot(val_losses, label='test loss')\n",
    "    plt.legend()\n",
    "    plt.show()\n",
    "    return model "
   ]
  },
  {
   "cell_type": "code",
   "execution_count": 14,
   "metadata": {},
   "outputs": [
    {
     "data": {
      "text/plain": [
       "array([0.56, 2.08, 2.16, ..., 6.  , 6.  , 6.  ])"
      ]
     },
     "execution_count": 14,
     "metadata": {},
     "output_type": "execute_result"
    }
   ],
   "source": [
    "train_ds.sizes"
   ]
  },
  {
   "cell_type": "code",
   "execution_count": 15,
   "metadata": {
    "id": "6zUq4JAMb7iJ"
   },
   "outputs": [
    {
     "name": "stdout",
     "output_type": "stream",
     "text": [
      "Dataloader min_sample_len=0\n",
      "SortedSampler remove 0 (2320 -> 2320)\n",
      "Dataloader min_sample_len=0\n",
      "SortedSampler remove 0 (675 -> 675)\n",
      "Dataloader min_sample_len=0\n",
      "SortedSampler remove 0 (347 -> 347)\n"
     ]
    }
   ],
   "source": [
    "btz=128\n",
    "device='cuda'\n",
    "train_dl = make_sorted_dataloader(train_ds, batch_size=btz, min_sample_len=0)\n",
    "dev_dl = make_sorted_dataloader(dev_ds, batch_size=btz, min_sample_len=0)\n",
    "test_dl = make_sorted_dataloader(test_ds, batch_size=btz, min_sample_len=0)\n"
   ]
  },
  {
   "cell_type": "code",
   "execution_count": 16,
   "metadata": {},
   "outputs": [
    {
     "name": "stdout",
     "output_type": "stream",
     "text": [
      "Loaded pretrained weights for efficientnet-b1\n"
     ]
    }
   ],
   "source": [
    "model = EfficientNetASR('b1').to(device)\n"
   ]
  },
  {
   "cell_type": "code",
   "execution_count": 17,
   "metadata": {},
   "outputs": [
    {
     "data": {
      "text/plain": [
       "tensor(0.)"
      ]
     },
     "execution_count": 17,
     "metadata": {},
     "output_type": "execute_result"
    }
   ],
   "source": [
    "item = next(iter(test_dl))\n",
    "#print(item['labels'])\n",
    "nn.KLDivLoss(reduction='batchmean')(item['labels'], item['labels'].log())"
   ]
  },
  {
   "cell_type": "code",
   "execution_count": 18,
   "metadata": {},
   "outputs": [
    {
     "name": "stdout",
     "output_type": "stream",
     "text": [
      "22.717804034550984\n",
      "              precision    recall  f1-score   support\n",
      "\n",
      "          l1       0.00      0.00      0.00         6\n",
      "          l2       0.01      0.60      0.01         5\n",
      "          l3       0.17      0.04      0.07       113\n",
      "          l4       0.47      0.04      0.07       383\n",
      "          l5       0.18      0.14      0.16       168\n",
      "\n",
      "    accuracy                           0.07       675\n",
      "   macro avg       0.17      0.16      0.06       675\n",
      "weighted avg       0.34      0.07      0.09       675\n",
      "\n",
      "[[  0   3   0   1   2]\n",
      " [  1   3   0   0   1]\n",
      " [  4  70   5   6  28]\n",
      " [ 14 263  20  15  71]\n",
      " [  4 126   5  10  23]]\n"
     ]
    }
   ],
   "source": [
    "r = eval_cls(model, dev_dl, device=device, criterion=None)\n",
    "print(r[0])\n",
    "print(r[1])\n",
    "print(r[2])"
   ]
  },
  {
   "cell_type": "code",
   "execution_count": 344,
   "metadata": {},
   "outputs": [
    {
     "name": "stdout",
     "output_type": "stream",
     "text": [
      "Loaded pretrained weights for efficientnet-b1\n"
     ]
    },
    {
     "data": {
      "application/vnd.jupyter.widget-view+json": {
       "model_id": "4302de88abd145259b60ba4c2c6f2399",
       "version_major": 2,
       "version_minor": 0
      },
      "text/plain": [
       "  0%|          | 0/200 [00:00<?, ?it/s]"
      ]
     },
     "metadata": {},
     "output_type": "display_data"
    },
    {
     "name": "stdout",
     "output_type": "stream",
     "text": [
      "Best val loss 0.9971006512641907\n",
      "Best val loss 0.8649982611338297\n",
      "Best val loss 0.7959615488847097\n",
      "Best val loss 0.6073266118764877\n"
     ]
    },
    {
     "data": {
      "image/png": "[encoded data removed]",
      "text/plain": [
       "<Figure size 576x576 with 1 Axes>"
      ]
     },
     "metadata": {
      "needs_background": "light"
     },
     "output_type": "display_data"
    }
   ],
   "source": [
    "criterion = get_criterion(train_ds, 'kl', device, gamma=1.4)\n",
    "model = EfficientNetASR('b1').to(device)\n",
    "#model = CNN_blstm().to(device)\n",
    "model = train_per_chunk(model, \n",
    "                        train_dl, dev_dl,  # egs_list=['028_2016-04-06_Nottingham']\n",
    "                        epochs=200, \n",
    "                        lr=1e-4,\n",
    "                        weight_decay=1e-4, \n",
    "                        gamma=1,\n",
    "                        device=device, \n",
    "                        criterion=criterion)\n",
    "torch.save(model, 'models/it3/effnet.tmp.pt')\n",
    "# train= val=0.01172. btz=40, epochs=60, lr=1e-4\n",
    "# train= val=0.01155. btz=128, epochs=60, lr=1e-4\n",
    "# train= val=. btz=128, epochs=60, lr=1e-3\n",
    "# train= val=. btz=128, epochs=60, lr=1e-5\n",
    "# mse^2 train= val=0.01417. btz=128, epochs=60, lr=1e-3\n"
   ]
  },
  {
   "cell_type": "code",
   "execution_count": 113,
   "metadata": {},
   "outputs": [],
   "source": [
    "# criterion = get_criterion(train_cls_ds, 'focal', device)\n",
    "# model = EfficientNetASR('b1').to(device)\n",
    "# #model = CNN_blstm().to(device)\n",
    "# model = train_per_chunk(model, \n",
    "#                         train_dl, test_dl,  # egs_list=['028_2016-04-06_Nottingham']\n",
    "#                         epochs=200, \n",
    "#                         lr=1e-4,\n",
    "#                         weight_decay=1e-6, \n",
    "#                         gamma=1,\n",
    "#                         device=device, \n",
    "#                         criterion=criterion)\n",
    "# torch.save(model, 'models/it2/effnet.focal.pt')"
   ]
  },
  {
   "cell_type": "code",
   "execution_count": 352,
   "metadata": {},
   "outputs": [],
   "source": [
    "model = torch.load('models/model.best.pt')"
   ]
  },
  {
   "cell_type": "code",
   "execution_count": 353,
   "metadata": {},
   "outputs": [
    {
     "name": "stdout",
     "output_type": "stream",
     "text": [
      "!!!TRAIN!!!\n",
      "loss=0.680525012811025\n",
      "              precision    recall  f1-score   support\n",
      "\n",
      "          l1       0.00      0.00      0.00        10\n",
      "          l2       0.00      0.00      0.00         4\n",
      "          l3       0.69      0.38      0.49       907\n",
      "          l4       0.51      0.84      0.63       824\n",
      "          l5       0.00      0.00      0.00       110\n",
      "\n",
      "    accuracy                           0.56      1855\n",
      "   macro avg       0.24      0.24      0.22      1855\n",
      "weighted avg       0.56      0.56      0.52      1855\n",
      "\n",
      "[[  0   0   7   3   0]\n",
      " [  0   0   1   3   0]\n",
      " [  0   0 346 561   0]\n",
      " [  0   0 134 690   0]\n",
      " [  0   0  16  94   0]]\n"
     ]
    },
    {
     "name": "stderr",
     "output_type": "stream",
     "text": [
      "/mnt/hdd/mitrofanov-aa/project/study/anaconda/envs/sr/lib/python3.8/site-packages/sklearn/metrics/_classification.py:1308: UndefinedMetricWarning: Precision and F-score are ill-defined and being set to 0.0 in labels with no predicted samples. Use `zero_division` parameter to control this behavior.\n",
      "  _warn_prf(average, modifier, msg_start, len(result))\n",
      "/mnt/hdd/mitrofanov-aa/project/study/anaconda/envs/sr/lib/python3.8/site-packages/sklearn/metrics/_classification.py:1308: UndefinedMetricWarning: Precision and F-score are ill-defined and being set to 0.0 in labels with no predicted samples. Use `zero_division` parameter to control this behavior.\n",
      "  _warn_prf(average, modifier, msg_start, len(result))\n",
      "/mnt/hdd/mitrofanov-aa/project/study/anaconda/envs/sr/lib/python3.8/site-packages/sklearn/metrics/_classification.py:1308: UndefinedMetricWarning: Precision and F-score are ill-defined and being set to 0.0 in labels with no predicted samples. Use `zero_division` parameter to control this behavior.\n",
      "  _warn_prf(average, modifier, msg_start, len(result))\n"
     ]
    }
   ],
   "source": [
    "loss, cr, conf = eval_cls(model, train_dl, device=device)\n",
    "print(\"!!!TRAIN!!!\")\n",
    "print(f'{loss=}')\n",
    "print(cr)\n",
    "print(conf)"
   ]
  },
  {
   "cell_type": "code",
   "execution_count": 354,
   "metadata": {},
   "outputs": [
    {
     "name": "stdout",
     "output_type": "stream",
     "text": [
      "loss=0.5998521596193314\n",
      "              precision    recall  f1-score   support\n",
      "\n",
      "          l1       0.00      0.00      0.00         6\n",
      "          l2       0.00      0.00      0.00         5\n",
      "          l3       0.15      0.07      0.10       113\n",
      "          l4       0.56      0.91      0.70       383\n",
      "          l5       0.00      0.00      0.00       168\n",
      "\n",
      "    accuracy                           0.53       675\n",
      "   macro avg       0.14      0.20      0.16       675\n",
      "weighted avg       0.34      0.53      0.41       675\n",
      "\n",
      "[[  0   0   1   5   0]\n",
      " [  0   0   0   5   0]\n",
      " [  0   0   8 105   0]\n",
      " [  0   0  33 350   0]\n",
      " [  0   0  11 157   0]]\n"
     ]
    },
    {
     "name": "stderr",
     "output_type": "stream",
     "text": [
      "/mnt/hdd/mitrofanov-aa/project/study/anaconda/envs/sr/lib/python3.8/site-packages/sklearn/metrics/_classification.py:1308: UndefinedMetricWarning: Precision and F-score are ill-defined and being set to 0.0 in labels with no predicted samples. Use `zero_division` parameter to control this behavior.\n",
      "  _warn_prf(average, modifier, msg_start, len(result))\n",
      "/mnt/hdd/mitrofanov-aa/project/study/anaconda/envs/sr/lib/python3.8/site-packages/sklearn/metrics/_classification.py:1308: UndefinedMetricWarning: Precision and F-score are ill-defined and being set to 0.0 in labels with no predicted samples. Use `zero_division` parameter to control this behavior.\n",
      "  _warn_prf(average, modifier, msg_start, len(result))\n",
      "/mnt/hdd/mitrofanov-aa/project/study/anaconda/envs/sr/lib/python3.8/site-packages/sklearn/metrics/_classification.py:1308: UndefinedMetricWarning: Precision and F-score are ill-defined and being set to 0.0 in labels with no predicted samples. Use `zero_division` parameter to control this behavior.\n",
      "  _warn_prf(average, modifier, msg_start, len(result))\n"
     ]
    }
   ],
   "source": [
    "loss, cr, conf = eval_cls(model, dev_dl, device=device)\n",
    "print(f'{loss=}')\n",
    "print(cr)\n",
    "print(conf)"
   ]
  },
  {
   "cell_type": "code",
   "execution_count": 355,
   "metadata": {},
   "outputs": [
    {
     "name": "stdout",
     "output_type": "stream",
     "text": [
      "loss=0.7004139026006063\n",
      "              precision    recall  f1-score   support\n",
      "\n",
      "          l1       0.00      0.00      0.00         5\n",
      "          l2       0.00      0.00      0.00         4\n",
      "          l3       0.38      0.42      0.40        93\n",
      "          l4       0.70      0.75      0.73       226\n",
      "          l5       0.00      0.00      0.00        16\n",
      "\n",
      "    accuracy                           0.61       344\n",
      "   macro avg       0.22      0.23      0.23       344\n",
      "weighted avg       0.56      0.61      0.59       344\n",
      "\n",
      "[[  0   0   1   4   0]\n",
      " [  0   0   3   1   0]\n",
      " [  0   0  39  54   0]\n",
      " [  0   0  56 170   0]\n",
      " [  0   0   3  13   0]]\n"
     ]
    },
    {
     "name": "stderr",
     "output_type": "stream",
     "text": [
      "/mnt/hdd/mitrofanov-aa/project/study/anaconda/envs/sr/lib/python3.8/site-packages/sklearn/metrics/_classification.py:1308: UndefinedMetricWarning: Precision and F-score are ill-defined and being set to 0.0 in labels with no predicted samples. Use `zero_division` parameter to control this behavior.\n",
      "  _warn_prf(average, modifier, msg_start, len(result))\n",
      "/mnt/hdd/mitrofanov-aa/project/study/anaconda/envs/sr/lib/python3.8/site-packages/sklearn/metrics/_classification.py:1308: UndefinedMetricWarning: Precision and F-score are ill-defined and being set to 0.0 in labels with no predicted samples. Use `zero_division` parameter to control this behavior.\n",
      "  _warn_prf(average, modifier, msg_start, len(result))\n",
      "/mnt/hdd/mitrofanov-aa/project/study/anaconda/envs/sr/lib/python3.8/site-packages/sklearn/metrics/_classification.py:1308: UndefinedMetricWarning: Precision and F-score are ill-defined and being set to 0.0 in labels with no predicted samples. Use `zero_division` parameter to control this behavior.\n",
      "  _warn_prf(average, modifier, msg_start, len(result))\n"
     ]
    }
   ],
   "source": [
    "#model = torch.load('models/it3/effnet.tmp.pt')\n",
    "\n",
    "loss, cr, conf = eval_cls(model, test_dl, device=device)\n",
    "print(f'{loss=}')\n",
    "print(cr)\n",
    "print(conf)"
   ]
  },
  {
   "cell_type": "code",
   "execution_count": 356,
   "metadata": {},
   "outputs": [
    {
     "name": "stdout",
     "output_type": "stream",
     "text": [
      "loss=0.699528694152832\n",
      "              precision    recall  f1-score   support\n",
      "\n",
      "          l1       0.00      0.00      0.00         5\n",
      "          l2       0.00      0.00      0.00         4\n",
      "          l3       0.34      0.33      0.34        93\n",
      "          l4       0.69      0.77      0.73       226\n",
      "          l5       0.00      0.00      0.00        16\n",
      "\n",
      "    accuracy                           0.60       344\n",
      "   macro avg       0.21      0.22      0.21       344\n",
      "weighted avg       0.55      0.60      0.57       344\n",
      "\n",
      "[[  0   0   1   4   0]\n",
      " [  0   0   4   0   0]\n",
      " [  0   0  31  62   0]\n",
      " [  0   0  51 175   0]\n",
      " [  0   0   4  12   0]]\n"
     ]
    },
    {
     "name": "stderr",
     "output_type": "stream",
     "text": [
      "/mnt/hdd/mitrofanov-aa/project/study/anaconda/envs/sr/lib/python3.8/site-packages/sklearn/metrics/_classification.py:1308: UndefinedMetricWarning: Precision and F-score are ill-defined and being set to 0.0 in labels with no predicted samples. Use `zero_division` parameter to control this behavior.\n",
      "  _warn_prf(average, modifier, msg_start, len(result))\n",
      "/mnt/hdd/mitrofanov-aa/project/study/anaconda/envs/sr/lib/python3.8/site-packages/sklearn/metrics/_classification.py:1308: UndefinedMetricWarning: Precision and F-score are ill-defined and being set to 0.0 in labels with no predicted samples. Use `zero_division` parameter to control this behavior.\n",
      "  _warn_prf(average, modifier, msg_start, len(result))\n",
      "/mnt/hdd/mitrofanov-aa/project/study/anaconda/envs/sr/lib/python3.8/site-packages/sklearn/metrics/_classification.py:1308: UndefinedMetricWarning: Precision and F-score are ill-defined and being set to 0.0 in labels with no predicted samples. Use `zero_division` parameter to control this behavior.\n",
      "  _warn_prf(average, modifier, msg_start, len(result))\n"
     ]
    }
   ],
   "source": [
    "\n",
    "model = torch.load('models/model.best.pt')\n",
    "loss, cr, conf = eval_cls(model, test_dl, device=device)\n",
    "print(f'{loss=}')\n",
    "print(cr)\n",
    "print(conf)\n",
    "# 0.013951944429427385"
   ]
  },
  {
   "cell_type": "code",
   "execution_count": null,
   "metadata": {
    "id": "QW38l88qS7Ai"
   },
   "outputs": [],
   "source": [
    "#for idx in random_idxes:\n",
    "ipd.display(ipd.Audio(item['expert_wav'][0, :25*chk_len*16], rate=16000))"
   ]
  }
 ],
 "metadata": {
  "accelerator": "GPU",
  "colab": {
   "collapsed_sections": [],
   "name": "ULM_enganement.ipynb",
   "provenance": []
  },
  "kernelspec": {
   "display_name": "Python 3 (ipykernel)",
   "language": "python",
   "name": "python3"
  },
  "language_info": {
   "codemirror_mode": {
    "name": "ipython",
    "version": 3
   },
   "file_extension": ".py",
   "mimetype": "text/x-python",
   "name": "python",
   "nbconvert_exporter": "python",
   "pygments_lexer": "ipython3",
   "version": "3.8.11"
  },
  "widgets": {
   "application/vnd.jupyter.widget-state+json": {
    "0944abf84f6c4c4da1ff28c1c79318da": {
     "model_module": "@jupyter-widgets/controls",
     "model_module_version": "1.5.0",
     "model_name": "ProgressStyleModel",
     "state": {
      "_model_module": "@jupyter-widgets/controls",
      "_model_module_version": "1.5.0",
      "_model_name": "ProgressStyleModel",
      "_view_count": null,
      "_view_module": "@jupyter-widgets/base",
      "_view_module_version": "1.2.0",
      "_view_name": "StyleView",
      "bar_color": null,
      "description_width": ""
     }
    },
    "10a5ed239cfe4c94872e63d1160a5b55": {
     "model_module": "@jupyter-widgets/controls",
     "model_module_version": "1.5.0",
     "model_name": "FloatProgressModel",
     "state": {
      "_dom_classes": [],
      "_model_module": "@jupyter-widgets/controls",
      "_model_module_version": "1.5.0",
      "_model_name": "FloatProgressModel",
      "_view_count": null,
      "_view_module": "@jupyter-widgets/controls",
      "_view_module_version": "1.5.0",
      "_view_name": "ProgressView",
      "bar_style": "danger",
      "description": "",
      "description_tooltip": null,
      "layout": "IPY_MODEL_b8c9971212974dbc8b867c8baedf8be8",
      "max": 122,
      "min": 0,
      "orientation": "horizontal",
      "style": "IPY_MODEL_e6f8f21df3884e26910d143ca75b0e7a",
      "value": 29
     }
    },
    "1c75366196e942589402a6b94bc17723": {
     "model_module": "@jupyter-widgets/controls",
     "model_module_version": "1.5.0",
     "model_name": "HTMLModel",
     "state": {
      "_dom_classes": [],
      "_model_module": "@jupyter-widgets/controls",
      "_model_module_version": "1.5.0",
      "_model_name": "HTMLModel",
      "_view_count": null,
      "_view_module": "@jupyter-widgets/controls",
      "_view_module_version": "1.5.0",
      "_view_name": "HTMLView",
      "description": "",
      "description_tooltip": null,
      "layout": "IPY_MODEL_2f64b8844aa34d24a96f1c7e9e95096e",
      "placeholder": "​",
      "style": "IPY_MODEL_9e2c465d0bac439dbe7ba90b9acb1e64",
      "value": " 24%"
     }
    },
    "2f64b8844aa34d24a96f1c7e9e95096e": {
     "model_module": "@jupyter-widgets/base",
     "model_module_version": "1.2.0",
     "model_name": "LayoutModel",
     "state": {
      "_model_module": "@jupyter-widgets/base",
      "_model_module_version": "1.2.0",
      "_model_name": "LayoutModel",
      "_view_count": null,
      "_view_module": "@jupyter-widgets/base",
      "_view_module_version": "1.2.0",
      "_view_name": "LayoutView",
      "align_content": null,
      "align_items": null,
      "align_self": null,
      "border": null,
      "bottom": null,
      "display": null,
      "flex": null,
      "flex_flow": null,
      "grid_area": null,
      "grid_auto_columns": null,
      "grid_auto_flow": null,
      "grid_auto_rows": null,
      "grid_column": null,
      "grid_gap": null,
      "grid_row": null,
      "grid_template_areas": null,
      "grid_template_columns": null,
      "grid_template_rows": null,
      "height": null,
      "justify_content": null,
      "justify_items": null,
      "left": null,
      "margin": null,
      "max_height": null,
      "max_width": null,
      "min_height": null,
      "min_width": null,
      "object_fit": null,
      "object_position": null,
      "order": null,
      "overflow": null,
      "overflow_x": null,
      "overflow_y": null,
      "padding": null,
      "right": null,
      "top": null,
      "visibility": null,
      "width": null
     }
    },
    "574ac0c539d9419aa3dfa3653e8366aa": {
     "model_module": "@jupyter-widgets/controls",
     "model_module_version": "1.5.0",
     "model_name": "DescriptionStyleModel",
     "state": {
      "_model_module": "@jupyter-widgets/controls",
      "_model_module_version": "1.5.0",
      "_model_name": "DescriptionStyleModel",
      "_view_count": null,
      "_view_module": "@jupyter-widgets/base",
      "_view_module_version": "1.2.0",
      "_view_name": "StyleView",
      "description_width": ""
     }
    },
    "7ab513dad374436bb7f99f687cd61a21": {
     "model_module": "@jupyter-widgets/base",
     "model_module_version": "1.2.0",
     "model_name": "LayoutModel",
     "state": {
      "_model_module": "@jupyter-widgets/base",
      "_model_module_version": "1.2.0",
      "_model_name": "LayoutModel",
      "_view_count": null,
      "_view_module": "@jupyter-widgets/base",
      "_view_module_version": "1.2.0",
      "_view_name": "LayoutView",
      "align_content": null,
      "align_items": null,
      "align_self": null,
      "border": null,
      "bottom": null,
      "display": null,
      "flex": null,
      "flex_flow": null,
      "grid_area": null,
      "grid_auto_columns": null,
      "grid_auto_flow": null,
      "grid_auto_rows": null,
      "grid_column": null,
      "grid_gap": null,
      "grid_row": null,
      "grid_template_areas": null,
      "grid_template_columns": null,
      "grid_template_rows": null,
      "height": null,
      "justify_content": null,
      "justify_items": null,
      "left": null,
      "margin": null,
      "max_height": null,
      "max_width": null,
      "min_height": null,
      "min_width": null,
      "object_fit": null,
      "object_position": null,
      "order": null,
      "overflow": null,
      "overflow_x": null,
      "overflow_y": null,
      "padding": null,
      "right": null,
      "top": null,
      "visibility": null,
      "width": null
     }
    },
    "8083f0a875a145b582d947fc887b9e87": {
     "model_module": "@jupyter-widgets/base",
     "model_module_version": "1.2.0",
     "model_name": "LayoutModel",
     "state": {
      "_model_module": "@jupyter-widgets/base",
      "_model_module_version": "1.2.0",
      "_model_name": "LayoutModel",
      "_view_count": null,
      "_view_module": "@jupyter-widgets/base",
      "_view_module_version": "1.2.0",
      "_view_name": "LayoutView",
      "align_content": null,
      "align_items": null,
      "align_self": null,
      "border": null,
      "bottom": null,
      "display": null,
      "flex": null,
      "flex_flow": null,
      "grid_area": null,
      "grid_auto_columns": null,
      "grid_auto_flow": null,
      "grid_auto_rows": null,
      "grid_column": null,
      "grid_gap": null,
      "grid_row": null,
      "grid_template_areas": null,
      "grid_template_columns": null,
      "grid_template_rows": null,
      "height": null,
      "justify_content": null,
      "justify_items": null,
      "left": null,
      "margin": null,
      "max_height": null,
      "max_width": null,
      "min_height": null,
      "min_width": null,
      "object_fit": null,
      "object_position": null,
      "order": null,
      "overflow": null,
      "overflow_x": null,
      "overflow_y": null,
      "padding": null,
      "right": null,
      "top": null,
      "visibility": null,
      "width": null
     }
    },
    "82053ea5f1e54590a66b410880b067c8": {
     "model_module": "@jupyter-widgets/controls",
     "model_module_version": "1.5.0",
     "model_name": "HTMLModel",
     "state": {
      "_dom_classes": [],
      "_model_module": "@jupyter-widgets/controls",
      "_model_module_version": "1.5.0",
      "_model_name": "HTMLModel",
      "_view_count": null,
      "_view_module": "@jupyter-widgets/controls",
      "_view_module_version": "1.5.0",
      "_view_name": "HTMLView",
      "description": "",
      "description_tooltip": null,
      "layout": "IPY_MODEL_9315927fd845417889a2a47a64dd654e",
      "placeholder": "​",
      "style": "IPY_MODEL_d0f826cd284c4ebba4aa1a8e991cc7ec",
      "value": " 59%"
     }
    },
    "8a905e3e72a94e828882267dfd9e8b1d": {
     "model_module": "@jupyter-widgets/base",
     "model_module_version": "1.2.0",
     "model_name": "LayoutModel",
     "state": {
      "_model_module": "@jupyter-widgets/base",
      "_model_module_version": "1.2.0",
      "_model_name": "LayoutModel",
      "_view_count": null,
      "_view_module": "@jupyter-widgets/base",
      "_view_module_version": "1.2.0",
      "_view_name": "LayoutView",
      "align_content": null,
      "align_items": null,
      "align_self": null,
      "border": null,
      "bottom": null,
      "display": null,
      "flex": null,
      "flex_flow": null,
      "grid_area": null,
      "grid_auto_columns": null,
      "grid_auto_flow": null,
      "grid_auto_rows": null,
      "grid_column": null,
      "grid_gap": null,
      "grid_row": null,
      "grid_template_areas": null,
      "grid_template_columns": null,
      "grid_template_rows": null,
      "height": null,
      "justify_content": null,
      "justify_items": null,
      "left": null,
      "margin": null,
      "max_height": null,
      "max_width": null,
      "min_height": null,
      "min_width": null,
      "object_fit": null,
      "object_position": null,
      "order": null,
      "overflow": null,
      "overflow_x": null,
      "overflow_y": null,
      "padding": null,
      "right": null,
      "top": null,
      "visibility": null,
      "width": null
     }
    },
    "9315927fd845417889a2a47a64dd654e": {
     "model_module": "@jupyter-widgets/base",
     "model_module_version": "1.2.0",
     "model_name": "LayoutModel",
     "state": {
      "_model_module": "@jupyter-widgets/base",
      "_model_module_version": "1.2.0",
      "_model_name": "LayoutModel",
      "_view_count": null,
      "_view_module": "@jupyter-widgets/base",
      "_view_module_version": "1.2.0",
      "_view_name": "LayoutView",
      "align_content": null,
      "align_items": null,
      "align_self": null,
      "border": null,
      "bottom": null,
      "display": null,
      "flex": null,
      "flex_flow": null,
      "grid_area": null,
      "grid_auto_columns": null,
      "grid_auto_flow": null,
      "grid_auto_rows": null,
      "grid_column": null,
      "grid_gap": null,
      "grid_row": null,
      "grid_template_areas": null,
      "grid_template_columns": null,
      "grid_template_rows": null,
      "height": null,
      "justify_content": null,
      "justify_items": null,
      "left": null,
      "margin": null,
      "max_height": null,
      "max_width": null,
      "min_height": null,
      "min_width": null,
      "object_fit": null,
      "object_position": null,
      "order": null,
      "overflow": null,
      "overflow_x": null,
      "overflow_y": null,
      "padding": null,
      "right": null,
      "top": null,
      "visibility": null,
      "width": null
     }
    },
    "9e2c465d0bac439dbe7ba90b9acb1e64": {
     "model_module": "@jupyter-widgets/controls",
     "model_module_version": "1.5.0",
     "model_name": "DescriptionStyleModel",
     "state": {
      "_model_module": "@jupyter-widgets/controls",
      "_model_module_version": "1.5.0",
      "_model_name": "DescriptionStyleModel",
      "_view_count": null,
      "_view_module": "@jupyter-widgets/base",
      "_view_module_version": "1.2.0",
      "_view_name": "StyleView",
      "description_width": ""
     }
    },
    "9e397bf2a78c46359459f0806ac7a3f6": {
     "model_module": "@jupyter-widgets/controls",
     "model_module_version": "1.5.0",
     "model_name": "FloatProgressModel",
     "state": {
      "_dom_classes": [],
      "_model_module": "@jupyter-widgets/controls",
      "_model_module_version": "1.5.0",
      "_model_name": "FloatProgressModel",
      "_view_count": null,
      "_view_module": "@jupyter-widgets/controls",
      "_view_module_version": "1.5.0",
      "_view_name": "ProgressView",
      "bar_style": "danger",
      "description": "",
      "description_tooltip": null,
      "layout": "IPY_MODEL_feb12d7ae1594267b9f6edd5019467a6",
      "max": 122,
      "min": 0,
      "orientation": "horizontal",
      "style": "IPY_MODEL_0944abf84f6c4c4da1ff28c1c79318da",
      "value": 72
     }
    },
    "a2bc04ddca8140a48c90fb5e81765dc5": {
     "model_module": "@jupyter-widgets/base",
     "model_module_version": "1.2.0",
     "model_name": "LayoutModel",
     "state": {
      "_model_module": "@jupyter-widgets/base",
      "_model_module_version": "1.2.0",
      "_model_name": "LayoutModel",
      "_view_count": null,
      "_view_module": "@jupyter-widgets/base",
      "_view_module_version": "1.2.0",
      "_view_name": "LayoutView",
      "align_content": null,
      "align_items": null,
      "align_self": null,
      "border": null,
      "bottom": null,
      "display": null,
      "flex": null,
      "flex_flow": null,
      "grid_area": null,
      "grid_auto_columns": null,
      "grid_auto_flow": null,
      "grid_auto_rows": null,
      "grid_column": null,
      "grid_gap": null,
      "grid_row": null,
      "grid_template_areas": null,
      "grid_template_columns": null,
      "grid_template_rows": null,
      "height": null,
      "justify_content": null,
      "justify_items": null,
      "left": null,
      "margin": null,
      "max_height": null,
      "max_width": null,
      "min_height": null,
      "min_width": null,
      "object_fit": null,
      "object_position": null,
      "order": null,
      "overflow": null,
      "overflow_x": null,
      "overflow_y": null,
      "padding": null,
      "right": null,
      "top": null,
      "visibility": null,
      "width": null
     }
    },
    "b8c9971212974dbc8b867c8baedf8be8": {
     "model_module": "@jupyter-widgets/base",
     "model_module_version": "1.2.0",
     "model_name": "LayoutModel",
     "state": {
      "_model_module": "@jupyter-widgets/base",
      "_model_module_version": "1.2.0",
      "_model_name": "LayoutModel",
      "_view_count": null,
      "_view_module": "@jupyter-widgets/base",
      "_view_module_version": "1.2.0",
      "_view_name": "LayoutView",
      "align_content": null,
      "align_items": null,
      "align_self": null,
      "border": null,
      "bottom": null,
      "display": null,
      "flex": null,
      "flex_flow": null,
      "grid_area": null,
      "grid_auto_columns": null,
      "grid_auto_flow": null,
      "grid_auto_rows": null,
      "grid_column": null,
      "grid_gap": null,
      "grid_row": null,
      "grid_template_areas": null,
      "grid_template_columns": null,
      "grid_template_rows": null,
      "height": null,
      "justify_content": null,
      "justify_items": null,
      "left": null,
      "margin": null,
      "max_height": null,
      "max_width": null,
      "min_height": null,
      "min_width": null,
      "object_fit": null,
      "object_position": null,
      "order": null,
      "overflow": null,
      "overflow_x": null,
      "overflow_y": null,
      "padding": null,
      "right": null,
      "top": null,
      "visibility": null,
      "width": null
     }
    },
    "bbca78068d03400fad48982d949c4977": {
     "model_module": "@jupyter-widgets/controls",
     "model_module_version": "1.5.0",
     "model_name": "HBoxModel",
     "state": {
      "_dom_classes": [],
      "_model_module": "@jupyter-widgets/controls",
      "_model_module_version": "1.5.0",
      "_model_name": "HBoxModel",
      "_view_count": null,
      "_view_module": "@jupyter-widgets/controls",
      "_view_module_version": "1.5.0",
      "_view_name": "HBoxView",
      "box_style": "",
      "children": [
       "IPY_MODEL_1c75366196e942589402a6b94bc17723",
       "IPY_MODEL_10a5ed239cfe4c94872e63d1160a5b55",
       "IPY_MODEL_d9602002e4a140308b2e7fe467f0732b"
      ],
      "layout": "IPY_MODEL_8a905e3e72a94e828882267dfd9e8b1d"
     }
    },
    "c7049175f2054a94b8d176dfbfa21449": {
     "model_module": "@jupyter-widgets/controls",
     "model_module_version": "1.5.0",
     "model_name": "DescriptionStyleModel",
     "state": {
      "_model_module": "@jupyter-widgets/controls",
      "_model_module_version": "1.5.0",
      "_model_name": "DescriptionStyleModel",
      "_view_count": null,
      "_view_module": "@jupyter-widgets/base",
      "_view_module_version": "1.2.0",
      "_view_name": "StyleView",
      "description_width": ""
     }
    },
    "d0f826cd284c4ebba4aa1a8e991cc7ec": {
     "model_module": "@jupyter-widgets/controls",
     "model_module_version": "1.5.0",
     "model_name": "DescriptionStyleModel",
     "state": {
      "_model_module": "@jupyter-widgets/controls",
      "_model_module_version": "1.5.0",
      "_model_name": "DescriptionStyleModel",
      "_view_count": null,
      "_view_module": "@jupyter-widgets/base",
      "_view_module_version": "1.2.0",
      "_view_name": "StyleView",
      "description_width": ""
     }
    },
    "d9602002e4a140308b2e7fe467f0732b": {
     "model_module": "@jupyter-widgets/controls",
     "model_module_version": "1.5.0",
     "model_name": "HTMLModel",
     "state": {
      "_dom_classes": [],
      "_model_module": "@jupyter-widgets/controls",
      "_model_module_version": "1.5.0",
      "_model_name": "HTMLModel",
      "_view_count": null,
      "_view_module": "@jupyter-widgets/controls",
      "_view_module_version": "1.5.0",
      "_view_name": "HTMLView",
      "description": "",
      "description_tooltip": null,
      "layout": "IPY_MODEL_a2bc04ddca8140a48c90fb5e81765dc5",
      "placeholder": "​",
      "style": "IPY_MODEL_574ac0c539d9419aa3dfa3653e8366aa",
      "value": " 29/122 [07:18&lt;23:11, 14.96s/it]"
     }
    },
    "e01989f67f194202b722949aa9af34c1": {
     "model_module": "@jupyter-widgets/controls",
     "model_module_version": "1.5.0",
     "model_name": "HTMLModel",
     "state": {
      "_dom_classes": [],
      "_model_module": "@jupyter-widgets/controls",
      "_model_module_version": "1.5.0",
      "_model_name": "HTMLModel",
      "_view_count": null,
      "_view_module": "@jupyter-widgets/controls",
      "_view_module_version": "1.5.0",
      "_view_name": "HTMLView",
      "description": "",
      "description_tooltip": null,
      "layout": "IPY_MODEL_8083f0a875a145b582d947fc887b9e87",
      "placeholder": "​",
      "style": "IPY_MODEL_c7049175f2054a94b8d176dfbfa21449",
      "value": " 72/122 [18:21&lt;11:42, 14.04s/it]"
     }
    },
    "e6f8f21df3884e26910d143ca75b0e7a": {
     "model_module": "@jupyter-widgets/controls",
     "model_module_version": "1.5.0",
     "model_name": "ProgressStyleModel",
     "state": {
      "_model_module": "@jupyter-widgets/controls",
      "_model_module_version": "1.5.0",
      "_model_name": "ProgressStyleModel",
      "_view_count": null,
      "_view_module": "@jupyter-widgets/base",
      "_view_module_version": "1.2.0",
      "_view_name": "StyleView",
      "bar_color": null,
      "description_width": ""
     }
    },
    "f591ea9094824d78a0e07c8751643ab4": {
     "model_module": "@jupyter-widgets/controls",
     "model_module_version": "1.5.0",
     "model_name": "HBoxModel",
     "state": {
      "_dom_classes": [],
      "_model_module": "@jupyter-widgets/controls",
      "_model_module_version": "1.5.0",
      "_model_name": "HBoxModel",
      "_view_count": null,
      "_view_module": "@jupyter-widgets/controls",
      "_view_module_version": "1.5.0",
      "_view_name": "HBoxView",
      "box_style": "",
      "children": [
       "IPY_MODEL_82053ea5f1e54590a66b410880b067c8",
       "IPY_MODEL_9e397bf2a78c46359459f0806ac7a3f6",
       "IPY_MODEL_e01989f67f194202b722949aa9af34c1"
      ],
      "layout": "IPY_MODEL_7ab513dad374436bb7f99f687cd61a21"
     }
    },
    "feb12d7ae1594267b9f6edd5019467a6": {
     "model_module": "@jupyter-widgets/base",
     "model_module_version": "1.2.0",
     "model_name": "LayoutModel",
     "state": {
      "_model_module": "@jupyter-widgets/base",
      "_model_module_version": "1.2.0",
      "_model_name": "LayoutModel",
      "_view_count": null,
      "_view_module": "@jupyter-widgets/base",
      "_view_module_version": "1.2.0",
      "_view_name": "LayoutView",
      "align_content": null,
      "align_items": null,
      "align_self": null,
      "border": null,
      "bottom": null,
      "display": null,
      "flex": null,
      "flex_flow": null,
      "grid_area": null,
      "grid_auto_columns": null,
      "grid_auto_flow": null,
      "grid_auto_rows": null,
      "grid_column": null,
      "grid_gap": null,
      "grid_row": null,
      "grid_template_areas": null,
      "grid_template_columns": null,
      "grid_template_rows": null,
      "height": null,
      "justify_content": null,
      "justify_items": null,
      "left": null,
      "margin": null,
      "max_height": null,
      "max_width": null,
      "min_height": null,
      "min_width": null,
      "object_fit": null,
      "object_position": null,
      "order": null,
      "overflow": null,
      "overflow_x": null,
      "overflow_y": null,
      "padding": null,
      "right": null,
      "top": null,
      "visibility": null,
      "width": null
     }
    }
   }
  }
 },
 "nbformat": 4,
 "nbformat_minor": 4
}
