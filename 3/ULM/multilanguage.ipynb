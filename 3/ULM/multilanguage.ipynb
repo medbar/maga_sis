{
 "cells": [
  {
   "cell_type": "code",
   "execution_count": 1,
   "metadata": {
    "colab": {
     "base_uri": "https://localhost:8080/"
    },
    "id": "Pw2lkj4nDIzg",
    "outputId": "53cf586f-0e39-4165-d7c3-5964d6de2890"
   },
   "outputs": [],
   "source": [
    "#!pip install torch==1.9.1+cu111 torchaudio==0.9.1 -f https://download.pytorch.org/whl/torch_stable.html\n",
    "#!pip install torch==1.9.1+cpu torchaudio==0.9.1 -f https://download.pytorch.org/whl/torch_stable.html\n",
    "#!pip install torchaudio"
   ]
  },
  {
   "cell_type": "code",
   "execution_count": 86,
   "metadata": {
    "id": "SxoHYcGXjQAg"
   },
   "outputs": [
    {
     "name": "stdout",
     "output_type": "stream",
     "text": [
      "The autoreload extension is already loaded. To reload it, use:\n",
      "  %reload_ext autoreload\n"
     ]
    }
   ],
   "source": [
    "#!pip install audtorch\n",
    "%load_ext autoreload\n",
    "%autoreload 2"
   ]
  },
  {
   "cell_type": "code",
   "execution_count": 87,
   "metadata": {
    "id": "5MOnh6w-C9HM"
   },
   "outputs": [],
   "source": [
    "import torch\n",
    "import os\n",
    "import torchaudio\n",
    "import numpy as np\n",
    "import pandas as pd\n",
    "import matplotlib.pyplot as plt\n",
    "import IPython.display as ipd\n",
    "import random\n",
    "import sklearn \n",
    "\n",
    "from IPython.display import clear_output\n",
    "import tqdm.notebook as tqdm\n",
    "from efficientnet_pytorch import EfficientNet\n",
    "from efficientnet_pytorch.utils import Conv2dStaticSamePadding\n",
    "from torch import nn\n",
    "from sklearn.metrics import classification_report\n",
    "\n",
    "import torch.nn.functional as F\n",
    "\n",
    "#import audtorch\n",
    "%matplotlib inline"
   ]
  },
  {
   "cell_type": "code",
   "execution_count": 88,
   "metadata": {},
   "outputs": [],
   "source": [
    "from utils.dataloader import make_sorted_dataloader, collate_with_paddings\n",
    "from utils.chunk_dataset import ChunkDataSet\n",
    "from utils.zip_dataset import ZippedDataSet, ConcatDataset\n",
    "from utils.chunk_augmented_dataset import ChunkAugDataSet\n",
    "from utils.scan_data import scan_rootdir\n",
    "import utils.load_data\n",
    "from utils.load_data import load_anno_tensor, load_vad_df\n"
   ]
  },
  {
   "cell_type": "code",
   "execution_count": 89,
   "metadata": {},
   "outputs": [
    {
     "name": "stdout",
     "output_type": "stream",
     "text": [
      "Annotations_gold_standard-20220202T091454Z-001.zip\n",
      "audio\n",
      "audio-20220401T081010Z-001.zip\n",
      "Data-20211102T111411Z-001.zip\n",
      "Data-20211102T111411Z-002.zip\n",
      "Data-20211102T111411Z-003.zip\n",
      "ds_chunk2s.zip\n",
      "ds_chunk400ms.zip\n",
      "ds.zip\n",
      "noises\n",
      "NoXi_annotations_reliable_gold_standard_classification_with_additional_train_data\n",
      "NoXi_annotations_reliable_gold_standard_classification_with_additional_train_data-20220322T103638Z-001.zip\n",
      "trainds_chunk400ms_msl0.4.zip\n"
     ]
    }
   ],
   "source": [
    "!ls data/"
   ]
  },
  {
   "cell_type": "code",
   "execution_count": 90,
   "metadata": {
    "id": "SIvBajunNwAA"
   },
   "outputs": [
    {
     "name": "stdout",
     "output_type": "stream",
     "text": [
      "English\n",
      "dev\n",
      "1632 chunks\n",
      "generating data/NoXi_annotations_reliable_gold_standard_classification_with_additional_train_data//English/dev/chunk6s_msl0.zip.\n",
      "Dataloader min_sample_len=0\n",
      "SortedSampler remove 0 (1632 -> 1632)\n"
     ]
    },
    {
     "data": {
      "application/vnd.jupyter.widget-view+json": {
       "model_id": "db1fc6e0de8d49528dc1b00d7fce019c",
       "version_major": 2,
       "version_minor": 0
      },
      "text/plain": [
       "  0%|          | 0/1632 [00:00<?, ?it/s]"
      ]
     },
     "metadata": {},
     "output_type": "display_data"
    },
    {
     "name": "stdout",
     "output_type": "stream",
     "text": [
      "test\n",
      "1304 chunks\n",
      "generating data/NoXi_annotations_reliable_gold_standard_classification_with_additional_train_data//English/test/chunk6s_msl0.zip.\n",
      "Dataloader min_sample_len=0\n",
      "SortedSampler remove 0 (1304 -> 1304)\n"
     ]
    },
    {
     "data": {
      "application/vnd.jupyter.widget-view+json": {
       "model_id": "4fb4fbb3bc2e4a09a59a29dd2abfb16f",
       "version_major": 2,
       "version_minor": 0
      },
      "text/plain": [
       "  0%|          | 0/1304 [00:00<?, ?it/s]"
      ]
     },
     "metadata": {},
     "output_type": "display_data"
    },
    {
     "name": "stdout",
     "output_type": "stream",
     "text": [
      "train\n",
      "Didn't find ANNO for data/NoXi_annotations_reliable_gold_standard_classification_with_additional_train_data//English/train/039_2016-04-07_Nottingham novice.\n",
      "Warning: data/NoXi_annotations_reliable_gold_standard_classification_with_additional_train_data//English/train/039_2016-04-07_Nottingham is not correct\n",
      "8082 chunks\n",
      "generating data/NoXi_annotations_reliable_gold_standard_classification_with_additional_train_data//English/train/chunk6s_msl0.zip.\n",
      "Dataloader min_sample_len=0\n",
      "SortedSampler remove 0 (8082 -> 8082)\n"
     ]
    },
    {
     "data": {
      "application/vnd.jupyter.widget-view+json": {
       "model_id": "5299634d8d1b4700bb7bb7f778f9573c",
       "version_major": 2,
       "version_minor": 0
      },
      "text/plain": [
       "  0%|          | 0/8082 [00:00<?, ?it/s]"
      ]
     },
     "metadata": {},
     "output_type": "display_data"
    },
    {
     "name": "stdout",
     "output_type": "stream",
     "text": [
      "German\n",
      "dev\n",
      "5275 chunks\n",
      "generating data/NoXi_annotations_reliable_gold_standard_classification_with_additional_train_data//German/dev/chunk6s_msl0.zip.\n",
      "Dataloader min_sample_len=0\n",
      "SortedSampler remove 0 (5275 -> 5275)\n"
     ]
    },
    {
     "data": {
      "application/vnd.jupyter.widget-view+json": {
       "model_id": "38a99b8f5d0f46e7b116c1fa330e4393",
       "version_major": 2,
       "version_minor": 0
      },
      "text/plain": [
       "  0%|          | 0/5275 [00:00<?, ?it/s]"
      ]
     },
     "metadata": {},
     "output_type": "display_data"
    },
    {
     "name": "stdout",
     "output_type": "stream",
     "text": [
      "test\n",
      "2268 chunks\n",
      "generating data/NoXi_annotations_reliable_gold_standard_classification_with_additional_train_data//German/test/chunk6s_msl0.zip.\n",
      "Dataloader min_sample_len=0\n",
      "SortedSampler remove 0 (2268 -> 2268)\n"
     ]
    },
    {
     "data": {
      "application/vnd.jupyter.widget-view+json": {
       "model_id": "3632e522d1fd41b6a75b6539158e5ba7",
       "version_major": 2,
       "version_minor": 0
      },
      "text/plain": [
       "  0%|          | 0/2268 [00:00<?, ?it/s]"
      ]
     },
     "metadata": {},
     "output_type": "display_data"
    },
    {
     "name": "stdout",
     "output_type": "stream",
     "text": [
      "train\n",
      "Didn't find ANNO for data/NoXi_annotations_reliable_gold_standard_classification_with_additional_train_data//German/train/073_2016-05-23_Augsburg novice.\n",
      "Warning: data/NoXi_annotations_reliable_gold_standard_classification_with_additional_train_data//German/train/073_2016-05-23_Augsburg is not correct\n",
      "Didn't find ANNO for data/NoXi_annotations_reliable_gold_standard_classification_with_additional_train_data//German/train/067_2016-05-23_Augsburg expert.\n",
      "Warning: data/NoXi_annotations_reliable_gold_standard_classification_with_additional_train_data//German/train/067_2016-05-23_Augsburg is not correct\n",
      "12040 chunks\n",
      "generating data/NoXi_annotations_reliable_gold_standard_classification_with_additional_train_data//German/train/chunk6s_msl0.zip.\n",
      "Dataloader min_sample_len=0\n",
      "SortedSampler remove 0 (12040 -> 12040)\n"
     ]
    },
    {
     "data": {
      "application/vnd.jupyter.widget-view+json": {
       "model_id": "22eb4493ba1b4d41a7147d7bcbe89512",
       "version_major": 2,
       "version_minor": 0
      },
      "text/plain": [
       "  0%|          | 0/12040 [00:00<?, ?it/s]"
      ]
     },
     "metadata": {},
     "output_type": "display_data"
    },
    {
     "name": "stdout",
     "output_type": "stream",
     "text": [
      "French\n",
      "dev\n",
      "9318 chunks\n",
      "generating data/NoXi_annotations_reliable_gold_standard_classification_with_additional_train_data//French/dev/chunk6s_msl0.zip.\n",
      "Dataloader min_sample_len=0\n",
      "SortedSampler remove 0 (9318 -> 9318)\n"
     ]
    },
    {
     "data": {
      "application/vnd.jupyter.widget-view+json": {
       "model_id": "e4540fe477be4a13a441e5fb300c3414",
       "version_major": 2,
       "version_minor": 0
      },
      "text/plain": [
       "  0%|          | 0/9318 [00:00<?, ?it/s]"
      ]
     },
     "metadata": {},
     "output_type": "display_data"
    },
    {
     "name": "stdout",
     "output_type": "stream",
     "text": [
      "test\n",
      "4518 chunks\n",
      "generating data/NoXi_annotations_reliable_gold_standard_classification_with_additional_train_data//French/test/chunk6s_msl0.zip.\n",
      "Dataloader min_sample_len=0\n",
      "SortedSampler remove 0 (4518 -> 4518)\n"
     ]
    },
    {
     "data": {
      "application/vnd.jupyter.widget-view+json": {
       "model_id": "c447b99002cd411e8e07055be515dc72",
       "version_major": 2,
       "version_minor": 0
      },
      "text/plain": [
       "  0%|          | 0/4518 [00:00<?, ?it/s]"
      ]
     },
     "metadata": {},
     "output_type": "display_data"
    },
    {
     "name": "stdout",
     "output_type": "stream",
     "text": [
      "train\n",
      "24759 chunks\n",
      "generating data/NoXi_annotations_reliable_gold_standard_classification_with_additional_train_data//French/train/chunk6s_msl0.zip.\n",
      "Dataloader min_sample_len=0\n",
      "SortedSampler remove 0 (24759 -> 24759)\n"
     ]
    },
    {
     "data": {
      "application/vnd.jupyter.widget-view+json": {
       "model_id": "2571ac0b70784b2cbfaae9fe365b6367",
       "version_major": 2,
       "version_minor": 0
      },
      "text/plain": [
       "  0%|          | 0/24759 [00:00<?, ?it/s]"
      ]
     },
     "metadata": {},
     "output_type": "display_data"
    }
   ],
   "source": [
    "#train_ds = \n",
    "chunk_sz=6\n",
    "DATA_BASEDIR=\"data/NoXi_annotations_reliable_gold_standard_classification_with_additional_train_data/\"\n",
    "\n",
    "data={}\n",
    "for d in os.listdir(DATA_BASEDIR):\n",
    "    print(d)\n",
    "    data[d] = {}\n",
    "    for subset in ['dev', 'test', 'train']:\n",
    "        print(subset)\n",
    "        subset_dir = DATA_BASEDIR + f'/{d}/{subset}'\n",
    "        data[d][subset] = ZippedDataSet(f'{subset_dir}/chunk{chunk_sz}s_msl0.zip', \n",
    "                         ChunkDataSet(subset_dir, chunk_size_s=chunk_sz, use_vad=False), \n",
    "                         rewrite=True, \n",
    "                         min_sample_len=0)\n",
    "        \n",
    "# train_ds = ZippedDataSet(f'{DATA_BASEDIR}/train_chunk{chunk_sz}s_msl0.zip', \n",
    "#                          ChunkDataSet(f'{DATA_BASEDIR}/train/', chunk_size_s=chunk_sz), \n",
    "#                          rewrite=False, \n",
    "#                          min_sample_len=0)\n",
    "# dev_ds = ZippedDataSet(f'{DATA_BASEDIR}/dev_chunk{chunk_sz}s_msl0.zip', \n",
    "#                         ChunkDataSet(f'{DATA_BASEDIR}/dev', chunk_size_s=chunk_sz), \n",
    "#                         rewrite=True, \n",
    "#                         min_sample_len=0)\n",
    "# test_ds = ZippedDataSet(f'{DATA_BASEDIR}/test_chunk{chunk_sz}s_msl0.zip', \n",
    "#                         ChunkDataSet(f'{DATA_BASEDIR}/test', chunk_size_s=chunk_sz), \n",
    "#                         rewrite=False, \n",
    "#                         min_sample_len=0)"
   ]
  },
  {
   "cell_type": "code",
   "execution_count": 91,
   "metadata": {},
   "outputs": [],
   "source": [
    "train_ds = ConcatDataset([d['train'] for d in data.values()])\n",
    "dev_ds = ConcatDataset([d['dev'] for d in data.values()])\n",
    "test_ds = ConcatDataset([d['test'] for d in data.values()])"
   ]
  },
  {
   "cell_type": "code",
   "execution_count": 92,
   "metadata": {},
   "outputs": [],
   "source": [
    "\n",
    "class EfficientNetASR(nn.Module):                                                                                                                                                                 \n",
    "    def __init__(self, efficient_net_version='b0', num_cls=5, aug_prob=0.9):                                                                                                                                         \n",
    "        super().__init__()\n",
    "        assert efficient_net_version is not None\n",
    "        self.aug_prob = aug_prob\n",
    "        self.aug = nn.Sequential() torchaudio.transforms.TimeMasking(5), #12\n",
    "                                        torchaudio.transforms.TimeMasking(5), #12\n",
    "                                        torchaudio.transforms.FrequencyMasking(2),\n",
    "                                        torchaudio.transforms.FrequencyMasking(2))\n",
    "            \n",
    "        self.efficientnet_model = EfficientNet.from_pretrained('efficientnet-%s' % efficient_net_version)                                                                                                                                                             \n",
    "        self.efficientnet_model._conv_stem = Conv2dStaticSamePadding(1, 32, kernel_size=(3, 3), stride=(2, 2), bias=False, image_size=(128, 188))\n",
    "        self.dropout = nn.Dropout(0.1)\n",
    "        self.fc = nn.Linear(1000, 256, bias=True)                                                                                                                                  \n",
    "        self.head = nn.Linear(256, num_cls)\n",
    "        self.sf = torch.nn.LogSoftmax(dim=-1)\n",
    "        \n",
    "    def forward(self, x):\n",
    "        if self.training:\n",
    "            p = random.random()\n",
    "            if p <= self.aug_prob:    \n",
    "                x = self.aug(x)\n",
    "        else:\n",
    "            x = self.aug(x)\n",
    "        x = x.unsqueeze(dim=1)\n",
    "        x = F.relu(self.efficientnet_model(x))\n",
    "        x = self.dropout(x)\n",
    "        x = F.relu(self.fc(x))\n",
    "        x = self.head(x)\n",
    "        #print(x.shape)\n",
    "        return self.sf(x)\n"
   ]
  },
  {
   "cell_type": "code",
   "execution_count": null,
   "metadata": {},
   "outputs": [],
   "source": [
    "\n"
   ]
  },
  {
   "cell_type": "code",
   "execution_count": 93,
   "metadata": {
    "id": "LNV5yFwDRKy6"
   },
   "outputs": [
    {
     "data": {
      "application/vnd.jupyter.widget-view+json": {
       "model_id": "d5a1db11fc6b4432971baeadd05ac1c3",
       "version_major": 2,
       "version_minor": 0
      },
      "text/plain": [
       "  0%|          | 0/44881 [00:00<?, ?it/s]"
      ]
     },
     "metadata": {},
     "output_type": "display_data"
    },
    {
     "name": "stdout",
     "output_type": "stream",
     "text": [
      "Train labels distribution: tensor([0.0137, 0.0923, 0.4473, 0.3700, 0.0767])\n"
     ]
    },
    {
     "data": {
      "application/vnd.jupyter.widget-view+json": {
       "model_id": "461e09c85cc442ca8ad4b08c7c24a627",
       "version_major": 2,
       "version_minor": 0
      },
      "text/plain": [
       "  0%|          | 0/16225 [00:00<?, ?it/s]"
      ]
     },
     "metadata": {},
     "output_type": "display_data"
    },
    {
     "name": "stdout",
     "output_type": "stream",
     "text": [
      "dev labels distribution: tensor([0.0059, 0.0531, 0.4118, 0.3245, 0.2047])\n"
     ]
    },
    {
     "data": {
      "application/vnd.jupyter.widget-view+json": {
       "model_id": "ea2fd21a9dd74d1ba135f9b609deeb4f",
       "version_major": 2,
       "version_minor": 0
      },
      "text/plain": [
       "  0%|          | 0/8090 [00:00<?, ?it/s]"
      ]
     },
     "metadata": {},
     "output_type": "display_data"
    },
    {
     "name": "stdout",
     "output_type": "stream",
     "text": [
      "test labels distribution: tensor([0.0100, 0.0761, 0.4130, 0.4196, 0.0813])\n"
     ]
    }
   ],
   "source": [
    "def get_cls_weights(ds, num_classes=5):\n",
    "    cls2num = torch.zeros(5)\n",
    "    num=0\n",
    "    for i in tqdm.tqdm(range(len(ds))):\n",
    "        item = ds[i]\n",
    "        cls2num += item['labels'].view(-1)\n",
    "        num+=1\n",
    "    return cls2num/num\n",
    "print(f\"Train labels distribution: {get_cls_weights(train_ds)}\")\n",
    "print(f\"dev labels distribution: {get_cls_weights(dev_ds)}\")\n",
    "print(f\"test labels distribution: {get_cls_weights(test_ds)}\")"
   ]
  },
  {
   "cell_type": "code",
   "execution_count": 94,
   "metadata": {},
   "outputs": [],
   "source": [
    "class FocalLoss(nn.Module):\n",
    "    def __init__(self, gamma = 2, eps = 1e-7):\n",
    "        super(FocalLoss, self).__init__()\n",
    "        self.gamma = gamma\n",
    "        self.eps = eps\n",
    "        self.ce = nn.CrossEntropyLoss()\n",
    "\n",
    "    def forward(self, input, target):\n",
    "        logp = self.ce(input, target)\n",
    "        p = torch.exp(-logp).detach()\n",
    "        loss = (1 - p) ** self.gamma * logp\n",
    "        return loss.mean()"
   ]
  },
  {
   "cell_type": "code",
   "execution_count": 95,
   "metadata": {},
   "outputs": [],
   "source": [
    "def get_criterion(train_ds, criterion='ce', device='cpu', gamma=1):\n",
    "    if criterion == 'ce':\n",
    "        weights = get_cls_weights(train_ds) ** gamma\n",
    "        return nn.CrossEntropyLoss(weight=(1/weights).to(device), ignore_index=-1)\n",
    "    if criterion == 'focal':\n",
    "        return FocalLoss(gamma=focal_gamma)\n",
    "    if criterion == 'kl':\n",
    "        return nn.KLDivLoss(reduction='batchmean')\n",
    "    \n",
    "    "
   ]
  },
  {
   "cell_type": "code",
   "execution_count": 96,
   "metadata": {
    "id": "tlWU_ne7HUWH"
   },
   "outputs": [],
   "source": [
    "def eval_cls(model, dataloader, device='cpu', calc_report=True, criterion=None):\n",
    "    model.eval()\n",
    "    losses = []\n",
    "    if criterion is None:\n",
    "        criterion = nn.KLDivLoss(reduction='batchmean')\n",
    "    truth = []\n",
    "    predicted = [] \n",
    "    with torch.no_grad():\n",
    "        for batch in dataloader:\n",
    "            x_batch = batch['feats'].to(device) #btz X feat_dim X seq_len\n",
    "            y_batch = batch['labels'].to(device)\n",
    "            pad_batch = batch['padding'].to(device)\n",
    "            #print(x_batch.shape, y_batch.shape)\n",
    "            if not isinstance(criterion, nn.KLDivLoss):\n",
    "                y_batch = y_batch.argmax(dim=-1)\n",
    "\n",
    "            logits = model(x_batch) \n",
    "            #print(logits.shape, y_batch.shape)\n",
    "            loss = criterion(logits, y_batch)\n",
    "            losses.append(loss.item())\n",
    "            predicted.append(logits.argmax(dim=-1).cpu().numpy())\n",
    "            truth.append(batch['labels'].argmax(dim=-1).cpu().numpy())\n",
    "    cr = None\n",
    "    conf_matrix = None\n",
    "    if calc_report:\n",
    "        truth = np.concatenate(truth)\n",
    "        predicted = np.concatenate(predicted)\n",
    "        labels = ['l1', 'l2', 'l3', 'l4', 'l5']\n",
    "        cr = classification_report(truth, predicted, target_names=labels)\n",
    "        conf_matrix = sklearn.metrics.confusion_matrix(truth, predicted)#, labels=labels)\n",
    "    return np.mean(losses), cr, conf_matrix\n",
    "\n",
    "\n",
    "        \n",
    "def train_per_chunk(model, train_dl, val_dl, \n",
    "                    epochs=10, \n",
    "                    device='cpu', \n",
    "                    lr=1e-3, \n",
    "                    gamma=0.95,\n",
    "                    weight_decay=1e-6,\n",
    "                    criterion=None):\n",
    "    optimizer = torch.optim.Adam(model.parameters(), lr=lr, weight_decay=weight_decay)\n",
    "    scheduler = torch.optim.lr_scheduler.ExponentialLR(optimizer, gamma=gamma)\n",
    "    if criterion is None:\n",
    "        criterion = nn.KLDivLoss(reduction='batchmean')\n",
    "    \n",
    "    train_losses = []\n",
    "    val_losses = []\n",
    "    last_val = float('inf')\n",
    "    t1 = tqdm.tqdm(range(1, epochs+1))\n",
    "    best_val_loss = float('inf')\n",
    "    for e in t1:\n",
    "        #print(f'Epoch {e}/{epochs}')\n",
    "        #tqdm.tqdm\n",
    "        losses = []\n",
    "        t2 = (train_dl)\n",
    "        for batch in t2:\n",
    "            model.train()\n",
    "            x_batch = batch['feats'].to(device) #btz X feat_dim X seq_len\n",
    "            y_batch = batch['labels'].to(device)\n",
    "            if not isinstance(criterion, nn.KLDivLoss):\n",
    "                y_batch = y_batch.argmax(dim=-1)\n",
    "#             pad_batch = batch['padding'].to(device)\n",
    "            #print(x_batch.shape, y_batch.shape)\n",
    "\n",
    "            logits = model(x_batch) #* pad_batch         \n",
    "            loss  = criterion(logits, y_batch)\n",
    "            loss.backward()\n",
    "            optimizer.step()\n",
    "            losses.append(loss.cpu().item())\n",
    "\n",
    "            t1.set_description(desc=f\"Ep {e}, loss={losses[-1]:.5f}, val={last_val:.5f}\")\n",
    "            #break\n",
    "        scheduler.step()\n",
    "        train_losses.append(np.mean(losses))\n",
    "        last_val, cr, _ = eval_cls(model, val_dl, device=device, criterion=criterion, calc_report=False)\n",
    "        val_losses.append(last_val)\n",
    "        if best_val_loss > last_val:\n",
    "            torch.save(model, 'models/model.best.pt')\n",
    "            best_val_loss = last_val\n",
    "            print(f\"Best val loss {last_val}\")\n",
    "        #print(cr)\n",
    "        \n",
    "    plt.figure(figsize=(8, 8)); plt.title('Train losses')\n",
    "    plt.xlabel('iter') ; plt.ylabel('loss'); plt.grid()\n",
    "    plt.plot(train_losses, label='train loss')\n",
    "    val_losses = np.array(val_losses)\n",
    "    val_losses[val_losses>2] = 2\n",
    "    plt.plot(val_losses, label='test loss')\n",
    "    plt.legend()\n",
    "    plt.show()\n",
    "    return model "
   ]
  },
  {
   "cell_type": "code",
   "execution_count": 97,
   "metadata": {
    "id": "6zUq4JAMb7iJ"
   },
   "outputs": [
    {
     "name": "stdout",
     "output_type": "stream",
     "text": [
      "Dataloader min_sample_len=0\n",
      "SortedSampler remove 0 (44881 -> 44881)\n",
      "Dataloader min_sample_len=0\n",
      "SortedSampler remove 0 (16225 -> 16225)\n",
      "Dataloader min_sample_len=0\n",
      "SortedSampler remove 0 (8090 -> 8090)\n"
     ]
    }
   ],
   "source": [
    "btz=64\n",
    "device='cuda'\n",
    "train_dl = make_sorted_dataloader(train_ds, batch_size=btz, min_sample_len=0)\n",
    "dev_dl = make_sorted_dataloader(dev_ds, batch_size=btz, min_sample_len=0)\n",
    "test_dl = make_sorted_dataloader(test_ds, batch_size=btz, min_sample_len=0)\n"
   ]
  },
  {
   "cell_type": "code",
   "execution_count": 98,
   "metadata": {},
   "outputs": [
    {
     "name": "stdout",
     "output_type": "stream",
     "text": [
      "Loaded pretrained weights for efficientnet-b1\n"
     ]
    }
   ],
   "source": [
    "model = EfficientNetASR('b1').to(device)\n"
   ]
  },
  {
   "cell_type": "code",
   "execution_count": 99,
   "metadata": {},
   "outputs": [
    {
     "data": {
      "text/plain": [
       "tensor(0.)"
      ]
     },
     "execution_count": 99,
     "metadata": {},
     "output_type": "execute_result"
    }
   ],
   "source": [
    "item = next(iter(test_dl))\n",
    "#print(item['labels'])\n",
    "nn.KLDivLoss(reduction='batchmean')(item['labels'], item['labels'].log())"
   ]
  },
  {
   "cell_type": "code",
   "execution_count": 100,
   "metadata": {},
   "outputs": [
    {
     "name": "stdout",
     "output_type": "stream",
     "text": [
      "2.9522229888307767\n",
      "              precision    recall  f1-score   support\n",
      "\n",
      "          l1       0.00      0.00      0.00        98\n",
      "          l2       0.04      0.04      0.04       847\n",
      "          l3       0.78      0.02      0.04      6852\n",
      "          l4       0.28      0.13      0.18      5109\n",
      "          l5       0.20      0.77      0.32      3319\n",
      "\n",
      "    accuracy                           0.21     16225\n",
      "   macro avg       0.26      0.19      0.11     16225\n",
      "weighted avg       0.46      0.21      0.14     16225\n",
      "\n",
      "[[   0    7    1   14   76]\n",
      " [   2   36    5  162  642]\n",
      " [  15  283  128 1066 5360]\n",
      " [  20  363   20  665 4041]\n",
      " [  10  284   11  457 2557]]\n"
     ]
    }
   ],
   "source": [
    "r = eval_cls(model, dev_dl, device=device, criterion=None)\n",
    "print(r[0])\n",
    "print(r[1])\n",
    "print(r[2])"
   ]
  },
  {
   "cell_type": "code",
   "execution_count": 101,
   "metadata": {},
   "outputs": [
    {
     "data": {
      "text/plain": [
       "6.0"
      ]
     },
     "execution_count": 101,
     "metadata": {},
     "output_type": "execute_result"
    }
   ],
   "source": [
    "train_ds.size(100)"
   ]
  },
  {
   "cell_type": "code",
   "execution_count": 102,
   "metadata": {},
   "outputs": [
    {
     "name": "stdout",
     "output_type": "stream",
     "text": [
      "torch.Size([64, 40, 1441])\n"
     ]
    }
   ],
   "source": [
    "for b in train_dl:\n",
    "    print(b['feats'].shape)\n",
    "    break"
   ]
  },
  {
   "cell_type": "code",
   "execution_count": 104,
   "metadata": {},
   "outputs": [
    {
     "data": {
      "application/vnd.jupyter.widget-view+json": {
       "model_id": "ff5b9411977d410998341b24c8572e06",
       "version_major": 2,
       "version_minor": 0
      },
      "text/plain": [
       "  0%|          | 0/44881 [00:00<?, ?it/s]"
      ]
     },
     "metadata": {},
     "output_type": "display_data"
    },
    {
     "name": "stdout",
     "output_type": "stream",
     "text": [
      "Loaded pretrained weights for efficientnet-b1\n"
     ]
    },
    {
     "data": {
      "application/vnd.jupyter.widget-view+json": {
       "model_id": "de11ad3663fb47ec969686fc05bdf1e4",
       "version_major": 2,
       "version_minor": 0
      },
      "text/plain": [
       "  0%|          | 0/20 [00:00<?, ?it/s]"
      ]
     },
     "metadata": {},
     "output_type": "display_data"
    },
    {
     "name": "stdout",
     "output_type": "stream",
     "text": [
      "Best val loss 1.6154196717607694\n",
      "Best val loss 1.5540946996587468\n",
      "Best val loss 1.5513211638908686\n",
      "Best val loss 1.5361977850827646\n",
      "Best val loss 1.5159023277402863\n"
     ]
    },
    {
     "data": {
      "image/png": "[encoded data removed]",
      "text/plain": [
       "<Figure size 576x576 with 1 Axes>"
      ]
     },
     "metadata": {
      "needs_background": "light"
     },
     "output_type": "display_data"
    }
   ],
   "source": [
    "#criterion = get_criterion(train_ds, 'kl', device, gamma=1.4)\n",
    "criterion = get_criterion(train_ds, 'ce', device, gamma=1)\n",
    "model = EfficientNetASR('b1', aug_prob=0).to(device)\n",
    "#model = CNN_blstm().to(device)\n",
    "model = train_per_chunk(model, \n",
    "                        train_dl, dev_dl,  # egs_list=['028_2016-04-06_Nottingham']\n",
    "                        epochs=20, \n",
    "                        lr=1e-4,\n",
    "                        weight_decay=1e-6, \n",
    "                        gamma=0.98,\n",
    "                        device=device, \n",
    "                        criterion=criterion)\n",
    "torch.save(model, 'models/it3/effnet.tmp2.pt')\n",
    "# train= val=0.01172. btz=40, epochs=60, lr=1e-4\n",
    "# train= val=0.01155. btz=128, epochs=60, lr=1e-4\n",
    "# train= val=. btz=128, epochs=60, lr=1e-3\n",
    "# train= val=. btz=128, epochs=60, lr=1e-5\n",
    "# mse^2 train= val=0.01417. btz=128, epochs=60, lr=1e-3\n"
   ]
  },
  {
   "cell_type": "code",
   "execution_count": null,
   "metadata": {},
   "outputs": [],
   "source": [
    "# criterion = get_criterion(train_cls_ds, 'focal', device)\n",
    "# model = EfficientNetASR('b1').to(device)\n",
    "# #model = CNN_blstm().to(device)\n",
    "# model = train_per_chunk(model, \n",
    "#                         train_dl, test_dl,  # egs_list=['028_2016-04-06_Nottingham']\n",
    "#                         epochs=200, \n",
    "#                         lr=1e-4,\n",
    "#                         weight_decay=1e-6, \n",
    "#                         gamma=1,\n",
    "#                         device=device, \n",
    "#                         criterion=criterion)\n",
    "# torch.save(model, 'models/it2/effnet.focal.pt')"
   ]
  },
  {
   "cell_type": "code",
   "execution_count": null,
   "metadata": {},
   "outputs": [],
   "source": [
    "model = torch.load('models/model.best.pt')"
   ]
  },
  {
   "cell_type": "code",
   "execution_count": 109,
   "metadata": {},
   "outputs": [
    {
     "name": "stdout",
     "output_type": "stream",
     "text": [
      "!!!TRAIN!!!\n",
      "loss=0.795236727493441\n",
      "              precision    recall  f1-score   support\n",
      "\n",
      "          l1       0.00      0.00      0.00       588\n",
      "          l2       0.03      0.00      0.00      3977\n",
      "          l3       0.45      0.96      0.61     20583\n",
      "          l4       0.10      0.00      0.01     17158\n",
      "          l5       0.00      0.00      0.00      2575\n",
      "\n",
      "    accuracy                           0.44     44881\n",
      "   macro avg       0.12      0.19      0.12     44881\n",
      "weighted avg       0.25      0.44      0.29     44881\n",
      "\n",
      "[[    0     1   586     1     0]\n",
      " [    0     1  3965    11     0]\n",
      " [    0    29 19838   716     0]\n",
      " [    0     5 17072    81     0]\n",
      " [    0     0  2566     9     0]]\n"
     ]
    },
    {
     "name": "stderr",
     "output_type": "stream",
     "text": [
      "/mnt/hdd/mitrofanov-aa/project/study/anaconda/envs/sr/lib/python3.8/site-packages/sklearn/metrics/_classification.py:1308: UndefinedMetricWarning: Precision and F-score are ill-defined and being set to 0.0 in labels with no predicted samples. Use `zero_division` parameter to control this behavior.\n",
      "  _warn_prf(average, modifier, msg_start, len(result))\n",
      "/mnt/hdd/mitrofanov-aa/project/study/anaconda/envs/sr/lib/python3.8/site-packages/sklearn/metrics/_classification.py:1308: UndefinedMetricWarning: Precision and F-score are ill-defined and being set to 0.0 in labels with no predicted samples. Use `zero_division` parameter to control this behavior.\n",
      "  _warn_prf(average, modifier, msg_start, len(result))\n",
      "/mnt/hdd/mitrofanov-aa/project/study/anaconda/envs/sr/lib/python3.8/site-packages/sklearn/metrics/_classification.py:1308: UndefinedMetricWarning: Precision and F-score are ill-defined and being set to 0.0 in labels with no predicted samples. Use `zero_division` parameter to control this behavior.\n",
      "  _warn_prf(average, modifier, msg_start, len(result))\n"
     ]
    }
   ],
   "source": [
    "loss, cr, conf = eval_cls(model, train_dl, device=device)\n",
    "print(\"!!!TRAIN!!!\")\n",
    "print(f'{loss=}')\n",
    "print(cr)\n",
    "print(conf)"
   ]
  },
  {
   "cell_type": "code",
   "execution_count": 106,
   "metadata": {},
   "outputs": [
    {
     "name": "stdout",
     "output_type": "stream",
     "text": [
      "loss=1.0193263969318134\n",
      "              precision    recall  f1-score   support\n",
      "\n",
      "          l1       0.00      0.00      0.00        98\n",
      "          l2       0.00      0.00      0.00       847\n",
      "          l3       0.42      1.00      0.59      6852\n",
      "          l4       0.46      0.01      0.01      5109\n",
      "          l5       0.00      0.00      0.00      3319\n",
      "\n",
      "    accuracy                           0.42     16225\n",
      "   macro avg       0.18      0.20      0.12     16225\n",
      "weighted avg       0.32      0.42      0.25     16225\n",
      "\n",
      "[[   0    0   91    7    0]\n",
      " [   0    0  841    6    0]\n",
      " [   0    0 6833   19    0]\n",
      " [   0    1 5080   28    0]\n",
      " [   0    0 3318    1    0]]\n"
     ]
    },
    {
     "name": "stderr",
     "output_type": "stream",
     "text": [
      "/mnt/hdd/mitrofanov-aa/project/study/anaconda/envs/sr/lib/python3.8/site-packages/sklearn/metrics/_classification.py:1308: UndefinedMetricWarning: Precision and F-score are ill-defined and being set to 0.0 in labels with no predicted samples. Use `zero_division` parameter to control this behavior.\n",
      "  _warn_prf(average, modifier, msg_start, len(result))\n",
      "/mnt/hdd/mitrofanov-aa/project/study/anaconda/envs/sr/lib/python3.8/site-packages/sklearn/metrics/_classification.py:1308: UndefinedMetricWarning: Precision and F-score are ill-defined and being set to 0.0 in labels with no predicted samples. Use `zero_division` parameter to control this behavior.\n",
      "  _warn_prf(average, modifier, msg_start, len(result))\n",
      "/mnt/hdd/mitrofanov-aa/project/study/anaconda/envs/sr/lib/python3.8/site-packages/sklearn/metrics/_classification.py:1308: UndefinedMetricWarning: Precision and F-score are ill-defined and being set to 0.0 in labels with no predicted samples. Use `zero_division` parameter to control this behavior.\n",
      "  _warn_prf(average, modifier, msg_start, len(result))\n"
     ]
    }
   ],
   "source": [
    "loss, cr, conf = eval_cls(model, dev_dl, device=device)\n",
    "print(f'{loss=}')\n",
    "print(cr)\n",
    "print(conf)"
   ]
  },
  {
   "cell_type": "code",
   "execution_count": 107,
   "metadata": {},
   "outputs": [
    {
     "name": "stdout",
     "output_type": "stream",
     "text": [
      "loss=0.9131627735190504\n",
      "              precision    recall  f1-score   support\n",
      "\n",
      "          l1       0.00      0.00      0.00        87\n",
      "          l2       0.00      0.00      0.00       585\n",
      "          l3       0.41      0.96      0.58      3398\n",
      "          l4       0.25      0.02      0.03      3465\n",
      "          l5       0.00      0.00      0.00       555\n",
      "\n",
      "    accuracy                           0.41      8090\n",
      "   macro avg       0.13      0.19      0.12      8090\n",
      "weighted avg       0.28      0.41      0.25      8090\n",
      "\n",
      "[[   0    0   80    7    0]\n",
      " [   0    0  584    1    0]\n",
      " [   0    8 3251  139    0]\n",
      " [   0    0 3412   53    0]\n",
      " [   0    0  546    9    0]]\n"
     ]
    },
    {
     "name": "stderr",
     "output_type": "stream",
     "text": [
      "/mnt/hdd/mitrofanov-aa/project/study/anaconda/envs/sr/lib/python3.8/site-packages/sklearn/metrics/_classification.py:1308: UndefinedMetricWarning: Precision and F-score are ill-defined and being set to 0.0 in labels with no predicted samples. Use `zero_division` parameter to control this behavior.\n",
      "  _warn_prf(average, modifier, msg_start, len(result))\n",
      "/mnt/hdd/mitrofanov-aa/project/study/anaconda/envs/sr/lib/python3.8/site-packages/sklearn/metrics/_classification.py:1308: UndefinedMetricWarning: Precision and F-score are ill-defined and being set to 0.0 in labels with no predicted samples. Use `zero_division` parameter to control this behavior.\n",
      "  _warn_prf(average, modifier, msg_start, len(result))\n",
      "/mnt/hdd/mitrofanov-aa/project/study/anaconda/envs/sr/lib/python3.8/site-packages/sklearn/metrics/_classification.py:1308: UndefinedMetricWarning: Precision and F-score are ill-defined and being set to 0.0 in labels with no predicted samples. Use `zero_division` parameter to control this behavior.\n",
      "  _warn_prf(average, modifier, msg_start, len(result))\n"
     ]
    }
   ],
   "source": [
    "#model = torch.load('models/it3/effnet.tmp.pt')\n",
    "\n",
    "loss, cr, conf = eval_cls(model, test_dl, device=device)\n",
    "print(f'{loss=}')\n",
    "print(cr)\n",
    "print(conf)"
   ]
  },
  {
   "cell_type": "code",
   "execution_count": 108,
   "metadata": {},
   "outputs": [
    {
     "name": "stdout",
     "output_type": "stream",
     "text": [
      "loss=0.9183641686214237\n",
      "              precision    recall  f1-score   support\n",
      "\n",
      "          l1       0.00      0.00      0.00        87\n",
      "          l2       0.00      0.00      0.00       585\n",
      "          l3       0.41      0.96      0.58      3398\n",
      "          l4       0.12      0.01      0.01      3465\n",
      "          l5       0.00      0.00      0.00       555\n",
      "\n",
      "    accuracy                           0.41      8090\n",
      "   macro avg       0.11      0.19      0.12      8090\n",
      "weighted avg       0.23      0.41      0.25      8090\n",
      "\n",
      "[[   0    0   80    7    0]\n",
      " [   0    0  585    0    0]\n",
      " [   0    1 3259  138    0]\n",
      " [   0    0 3444   21    0]\n",
      " [   0    0  552    3    0]]\n"
     ]
    },
    {
     "name": "stderr",
     "output_type": "stream",
     "text": [
      "/mnt/hdd/mitrofanov-aa/project/study/anaconda/envs/sr/lib/python3.8/site-packages/sklearn/metrics/_classification.py:1308: UndefinedMetricWarning: Precision and F-score are ill-defined and being set to 0.0 in labels with no predicted samples. Use `zero_division` parameter to control this behavior.\n",
      "  _warn_prf(average, modifier, msg_start, len(result))\n",
      "/mnt/hdd/mitrofanov-aa/project/study/anaconda/envs/sr/lib/python3.8/site-packages/sklearn/metrics/_classification.py:1308: UndefinedMetricWarning: Precision and F-score are ill-defined and being set to 0.0 in labels with no predicted samples. Use `zero_division` parameter to control this behavior.\n",
      "  _warn_prf(average, modifier, msg_start, len(result))\n",
      "/mnt/hdd/mitrofanov-aa/project/study/anaconda/envs/sr/lib/python3.8/site-packages/sklearn/metrics/_classification.py:1308: UndefinedMetricWarning: Precision and F-score are ill-defined and being set to 0.0 in labels with no predicted samples. Use `zero_division` parameter to control this behavior.\n",
      "  _warn_prf(average, modifier, msg_start, len(result))\n"
     ]
    }
   ],
   "source": [
    "\n",
    "model = torch.load('models/model.best.pt')\n",
    "loss, cr, conf = eval_cls(model, test_dl, device=device)\n",
    "print(f'{loss=}')\n",
    "print(cr)\n",
    "print(conf)\n",
    "# 0.013951944429427385"
   ]
  },
  {
   "cell_type": "code",
   "execution_count": null,
   "metadata": {
    "id": "QW38l88qS7Ai"
   },
   "outputs": [],
   "source": [
    "#for idx in random_idxes:\n",
    "ipd.display(ipd.Audio(item['expert_wav'][0, :25*chk_len*16], rate=16000))"
   ]
  }
 ],
 "metadata": {
  "accelerator": "GPU",
  "colab": {
   "collapsed_sections": [],
   "name": "ULM_enganement.ipynb",
   "provenance": []
  },
  "kernelspec": {
   "display_name": "Python 3 (ipykernel)",
   "language": "python",
   "name": "python3"
  },
  "language_info": {
   "codemirror_mode": {
    "name": "ipython",
    "version": 3
   },
   "file_extension": ".py",
   "mimetype": "text/x-python",
   "name": "python",
   "nbconvert_exporter": "python",
   "pygments_lexer": "ipython3",
   "version": "3.8.11"
  },
  "widgets": {
   "application/vnd.jupyter.widget-state+json": {
    "0944abf84f6c4c4da1ff28c1c79318da": {
     "model_module": "@jupyter-widgets/controls",
     "model_module_version": "1.5.0",
     "model_name": "ProgressStyleModel",
     "state": {
      "_model_module": "@jupyter-widgets/controls",
      "_model_module_version": "1.5.0",
      "_model_name": "ProgressStyleModel",
      "_view_count": null,
      "_view_module": "@jupyter-widgets/base",
      "_view_module_version": "1.2.0",
      "_view_name": "StyleView",
      "bar_color": null,
      "description_width": ""
     }
    },
    "10a5ed239cfe4c94872e63d1160a5b55": {
     "model_module": "@jupyter-widgets/controls",
     "model_module_version": "1.5.0",
     "model_name": "FloatProgressModel",
     "state": {
      "_dom_classes": [],
      "_model_module": "@jupyter-widgets/controls",
      "_model_module_version": "1.5.0",
      "_model_name": "FloatProgressModel",
      "_view_count": null,
      "_view_module": "@jupyter-widgets/controls",
      "_view_module_version": "1.5.0",
      "_view_name": "ProgressView",
      "bar_style": "danger",
      "description": "",
      "description_tooltip": null,
      "layout": "IPY_MODEL_b8c9971212974dbc8b867c8baedf8be8",
      "max": 122,
      "min": 0,
      "orientation": "horizontal",
      "style": "IPY_MODEL_e6f8f21df3884e26910d143ca75b0e7a",
      "value": 29
     }
    },
    "1c75366196e942589402a6b94bc17723": {
     "model_module": "@jupyter-widgets/controls",
     "model_module_version": "1.5.0",
     "model_name": "HTMLModel",
     "state": {
      "_dom_classes": [],
      "_model_module": "@jupyter-widgets/controls",
      "_model_module_version": "1.5.0",
      "_model_name": "HTMLModel",
      "_view_count": null,
      "_view_module": "@jupyter-widgets/controls",
      "_view_module_version": "1.5.0",
      "_view_name": "HTMLView",
      "description": "",
      "description_tooltip": null,
      "layout": "IPY_MODEL_2f64b8844aa34d24a96f1c7e9e95096e",
      "placeholder": "​",
      "style": "IPY_MODEL_9e2c465d0bac439dbe7ba90b9acb1e64",
      "value": " 24%"
     }
    },
    "2f64b8844aa34d24a96f1c7e9e95096e": {
     "model_module": "@jupyter-widgets/base",
     "model_module_version": "1.2.0",
     "model_name": "LayoutModel",
     "state": {
      "_model_module": "@jupyter-widgets/base",
      "_model_module_version": "1.2.0",
      "_model_name": "LayoutModel",
      "_view_count": null,
      "_view_module": "@jupyter-widgets/base",
      "_view_module_version": "1.2.0",
      "_view_name": "LayoutView",
      "align_content": null,
      "align_items": null,
      "align_self": null,
      "border": null,
      "bottom": null,
      "display": null,
      "flex": null,
      "flex_flow": null,
      "grid_area": null,
      "grid_auto_columns": null,
      "grid_auto_flow": null,
      "grid_auto_rows": null,
      "grid_column": null,
      "grid_gap": null,
      "grid_row": null,
      "grid_template_areas": null,
      "grid_template_columns": null,
      "grid_template_rows": null,
      "height": null,
      "justify_content": null,
      "justify_items": null,
      "left": null,
      "margin": null,
      "max_height": null,
      "max_width": null,
      "min_height": null,
      "min_width": null,
      "object_fit": null,
      "object_position": null,
      "order": null,
      "overflow": null,
      "overflow_x": null,
      "overflow_y": null,
      "padding": null,
      "right": null,
      "top": null,
      "visibility": null,
      "width": null
     }
    },
    "574ac0c539d9419aa3dfa3653e8366aa": {
     "model_module": "@jupyter-widgets/controls",
     "model_module_version": "1.5.0",
     "model_name": "DescriptionStyleModel",
     "state": {
      "_model_module": "@jupyter-widgets/controls",
      "_model_module_version": "1.5.0",
      "_model_name": "DescriptionStyleModel",
      "_view_count": null,
      "_view_module": "@jupyter-widgets/base",
      "_view_module_version": "1.2.0",
      "_view_name": "StyleView",
      "description_width": ""
     }
    },
    "7ab513dad374436bb7f99f687cd61a21": {
     "model_module": "@jupyter-widgets/base",
     "model_module_version": "1.2.0",
     "model_name": "LayoutModel",
     "state": {
      "_model_module": "@jupyter-widgets/base",
      "_model_module_version": "1.2.0",
      "_model_name": "LayoutModel",
      "_view_count": null,
      "_view_module": "@jupyter-widgets/base",
      "_view_module_version": "1.2.0",
      "_view_name": "LayoutView",
      "align_content": null,
      "align_items": null,
      "align_self": null,
      "border": null,
      "bottom": null,
      "display": null,
      "flex": null,
      "flex_flow": null,
      "grid_area": null,
      "grid_auto_columns": null,
      "grid_auto_flow": null,
      "grid_auto_rows": null,
      "grid_column": null,
      "grid_gap": null,
      "grid_row": null,
      "grid_template_areas": null,
      "grid_template_columns": null,
      "grid_template_rows": null,
      "height": null,
      "justify_content": null,
      "justify_items": null,
      "left": null,
      "margin": null,
      "max_height": null,
      "max_width": null,
      "min_height": null,
      "min_width": null,
      "object_fit": null,
      "object_position": null,
      "order": null,
      "overflow": null,
      "overflow_x": null,
      "overflow_y": null,
      "padding": null,
      "right": null,
      "top": null,
      "visibility": null,
      "width": null
     }
    },
    "8083f0a875a145b582d947fc887b9e87": {
     "model_module": "@jupyter-widgets/base",
     "model_module_version": "1.2.0",
     "model_name": "LayoutModel",
     "state": {
      "_model_module": "@jupyter-widgets/base",
      "_model_module_version": "1.2.0",
      "_model_name": "LayoutModel",
      "_view_count": null,
      "_view_module": "@jupyter-widgets/base",
      "_view_module_version": "1.2.0",
      "_view_name": "LayoutView",
      "align_content": null,
      "align_items": null,
      "align_self": null,
      "border": null,
      "bottom": null,
      "display": null,
      "flex": null,
      "flex_flow": null,
      "grid_area": null,
      "grid_auto_columns": null,
      "grid_auto_flow": null,
      "grid_auto_rows": null,
      "grid_column": null,
      "grid_gap": null,
      "grid_row": null,
      "grid_template_areas": null,
      "grid_template_columns": null,
      "grid_template_rows": null,
      "height": null,
      "justify_content": null,
      "justify_items": null,
      "left": null,
      "margin": null,
      "max_height": null,
      "max_width": null,
      "min_height": null,
      "min_width": null,
      "object_fit": null,
      "object_position": null,
      "order": null,
      "overflow": null,
      "overflow_x": null,
      "overflow_y": null,
      "padding": null,
      "right": null,
      "top": null,
      "visibility": null,
      "width": null
     }
    },
    "82053ea5f1e54590a66b410880b067c8": {
     "model_module": "@jupyter-widgets/controls",
     "model_module_version": "1.5.0",
     "model_name": "HTMLModel",
     "state": {
      "_dom_classes": [],
      "_model_module": "@jupyter-widgets/controls",
      "_model_module_version": "1.5.0",
      "_model_name": "HTMLModel",
      "_view_count": null,
      "_view_module": "@jupyter-widgets/controls",
      "_view_module_version": "1.5.0",
      "_view_name": "HTMLView",
      "description": "",
      "description_tooltip": null,
      "layout": "IPY_MODEL_9315927fd845417889a2a47a64dd654e",
      "placeholder": "​",
      "style": "IPY_MODEL_d0f826cd284c4ebba4aa1a8e991cc7ec",
      "value": " 59%"
     }
    },
    "8a905e3e72a94e828882267dfd9e8b1d": {
     "model_module": "@jupyter-widgets/base",
     "model_module_version": "1.2.0",
     "model_name": "LayoutModel",
     "state": {
      "_model_module": "@jupyter-widgets/base",
      "_model_module_version": "1.2.0",
      "_model_name": "LayoutModel",
      "_view_count": null,
      "_view_module": "@jupyter-widgets/base",
      "_view_module_version": "1.2.0",
      "_view_name": "LayoutView",
      "align_content": null,
      "align_items": null,
      "align_self": null,
      "border": null,
      "bottom": null,
      "display": null,
      "flex": null,
      "flex_flow": null,
      "grid_area": null,
      "grid_auto_columns": null,
      "grid_auto_flow": null,
      "grid_auto_rows": null,
      "grid_column": null,
      "grid_gap": null,
      "grid_row": null,
      "grid_template_areas": null,
      "grid_template_columns": null,
      "grid_template_rows": null,
      "height": null,
      "justify_content": null,
      "justify_items": null,
      "left": null,
      "margin": null,
      "max_height": null,
      "max_width": null,
      "min_height": null,
      "min_width": null,
      "object_fit": null,
      "object_position": null,
      "order": null,
      "overflow": null,
      "overflow_x": null,
      "overflow_y": null,
      "padding": null,
      "right": null,
      "top": null,
      "visibility": null,
      "width": null
     }
    },
    "9315927fd845417889a2a47a64dd654e": {
     "model_module": "@jupyter-widgets/base",
     "model_module_version": "1.2.0",
     "model_name": "LayoutModel",
     "state": {
      "_model_module": "@jupyter-widgets/base",
      "_model_module_version": "1.2.0",
      "_model_name": "LayoutModel",
      "_view_count": null,
      "_view_module": "@jupyter-widgets/base",
      "_view_module_version": "1.2.0",
      "_view_name": "LayoutView",
      "align_content": null,
      "align_items": null,
      "align_self": null,
      "border": null,
      "bottom": null,
      "display": null,
      "flex": null,
      "flex_flow": null,
      "grid_area": null,
      "grid_auto_columns": null,
      "grid_auto_flow": null,
      "grid_auto_rows": null,
      "grid_column": null,
      "grid_gap": null,
      "grid_row": null,
      "grid_template_areas": null,
      "grid_template_columns": null,
      "grid_template_rows": null,
      "height": null,
      "justify_content": null,
      "justify_items": null,
      "left": null,
      "margin": null,
      "max_height": null,
      "max_width": null,
      "min_height": null,
      "min_width": null,
      "object_fit": null,
      "object_position": null,
      "order": null,
      "overflow": null,
      "overflow_x": null,
      "overflow_y": null,
      "padding": null,
      "right": null,
      "top": null,
      "visibility": null,
      "width": null
     }
    },
    "9e2c465d0bac439dbe7ba90b9acb1e64": {
     "model_module": "@jupyter-widgets/controls",
     "model_module_version": "1.5.0",
     "model_name": "DescriptionStyleModel",
     "state": {
      "_model_module": "@jupyter-widgets/controls",
      "_model_module_version": "1.5.0",
      "_model_name": "DescriptionStyleModel",
      "_view_count": null,
      "_view_module": "@jupyter-widgets/base",
      "_view_module_version": "1.2.0",
      "_view_name": "StyleView",
      "description_width": ""
     }
    },
    "9e397bf2a78c46359459f0806ac7a3f6": {
     "model_module": "@jupyter-widgets/controls",
     "model_module_version": "1.5.0",
     "model_name": "FloatProgressModel",
     "state": {
      "_dom_classes": [],
      "_model_module": "@jupyter-widgets/controls",
      "_model_module_version": "1.5.0",
      "_model_name": "FloatProgressModel",
      "_view_count": null,
      "_view_module": "@jupyter-widgets/controls",
      "_view_module_version": "1.5.0",
      "_view_name": "ProgressView",
      "bar_style": "danger",
      "description": "",
      "description_tooltip": null,
      "layout": "IPY_MODEL_feb12d7ae1594267b9f6edd5019467a6",
      "max": 122,
      "min": 0,
      "orientation": "horizontal",
      "style": "IPY_MODEL_0944abf84f6c4c4da1ff28c1c79318da",
      "value": 72
     }
    },
    "a2bc04ddca8140a48c90fb5e81765dc5": {
     "model_module": "@jupyter-widgets/base",
     "model_module_version": "1.2.0",
     "model_name": "LayoutModel",
     "state": {
      "_model_module": "@jupyter-widgets/base",
      "_model_module_version": "1.2.0",
      "_model_name": "LayoutModel",
      "_view_count": null,
      "_view_module": "@jupyter-widgets/base",
      "_view_module_version": "1.2.0",
      "_view_name": "LayoutView",
      "align_content": null,
      "align_items": null,
      "align_self": null,
      "border": null,
      "bottom": null,
      "display": null,
      "flex": null,
      "flex_flow": null,
      "grid_area": null,
      "grid_auto_columns": null,
      "grid_auto_flow": null,
      "grid_auto_rows": null,
      "grid_column": null,
      "grid_gap": null,
      "grid_row": null,
      "grid_template_areas": null,
      "grid_template_columns": null,
      "grid_template_rows": null,
      "height": null,
      "justify_content": null,
      "justify_items": null,
      "left": null,
      "margin": null,
      "max_height": null,
      "max_width": null,
      "min_height": null,
      "min_width": null,
      "object_fit": null,
      "object_position": null,
      "order": null,
      "overflow": null,
      "overflow_x": null,
      "overflow_y": null,
      "padding": null,
      "right": null,
      "top": null,
      "visibility": null,
      "width": null
     }
    },
    "b8c9971212974dbc8b867c8baedf8be8": {
     "model_module": "@jupyter-widgets/base",
     "model_module_version": "1.2.0",
     "model_name": "LayoutModel",
     "state": {
      "_model_module": "@jupyter-widgets/base",
      "_model_module_version": "1.2.0",
      "_model_name": "LayoutModel",
      "_view_count": null,
      "_view_module": "@jupyter-widgets/base",
      "_view_module_version": "1.2.0",
      "_view_name": "LayoutView",
      "align_content": null,
      "align_items": null,
      "align_self": null,
      "border": null,
      "bottom": null,
      "display": null,
      "flex": null,
      "flex_flow": null,
      "grid_area": null,
      "grid_auto_columns": null,
      "grid_auto_flow": null,
      "grid_auto_rows": null,
      "grid_column": null,
      "grid_gap": null,
      "grid_row": null,
      "grid_template_areas": null,
      "grid_template_columns": null,
      "grid_template_rows": null,
      "height": null,
      "justify_content": null,
      "justify_items": null,
      "left": null,
      "margin": null,
      "max_height": null,
      "max_width": null,
      "min_height": null,
      "min_width": null,
      "object_fit": null,
      "object_position": null,
      "order": null,
      "overflow": null,
      "overflow_x": null,
      "overflow_y": null,
      "padding": null,
      "right": null,
      "top": null,
      "visibility": null,
      "width": null
     }
    },
    "bbca78068d03400fad48982d949c4977": {
     "model_module": "@jupyter-widgets/controls",
     "model_module_version": "1.5.0",
     "model_name": "HBoxModel",
     "state": {
      "_dom_classes": [],
      "_model_module": "@jupyter-widgets/controls",
      "_model_module_version": "1.5.0",
      "_model_name": "HBoxModel",
      "_view_count": null,
      "_view_module": "@jupyter-widgets/controls",
      "_view_module_version": "1.5.0",
      "_view_name": "HBoxView",
      "box_style": "",
      "children": [
       "IPY_MODEL_1c75366196e942589402a6b94bc17723",
       "IPY_MODEL_10a5ed239cfe4c94872e63d1160a5b55",
       "IPY_MODEL_d9602002e4a140308b2e7fe467f0732b"
      ],
      "layout": "IPY_MODEL_8a905e3e72a94e828882267dfd9e8b1d"
     }
    },
    "c7049175f2054a94b8d176dfbfa21449": {
     "model_module": "@jupyter-widgets/controls",
     "model_module_version": "1.5.0",
     "model_name": "DescriptionStyleModel",
     "state": {
      "_model_module": "@jupyter-widgets/controls",
      "_model_module_version": "1.5.0",
      "_model_name": "DescriptionStyleModel",
      "_view_count": null,
      "_view_module": "@jupyter-widgets/base",
      "_view_module_version": "1.2.0",
      "_view_name": "StyleView",
      "description_width": ""
     }
    },
    "d0f826cd284c4ebba4aa1a8e991cc7ec": {
     "model_module": "@jupyter-widgets/controls",
     "model_module_version": "1.5.0",
     "model_name": "DescriptionStyleModel",
     "state": {
      "_model_module": "@jupyter-widgets/controls",
      "_model_module_version": "1.5.0",
      "_model_name": "DescriptionStyleModel",
      "_view_count": null,
      "_view_module": "@jupyter-widgets/base",
      "_view_module_version": "1.2.0",
      "_view_name": "StyleView",
      "description_width": ""
     }
    },
    "d9602002e4a140308b2e7fe467f0732b": {
     "model_module": "@jupyter-widgets/controls",
     "model_module_version": "1.5.0",
     "model_name": "HTMLModel",
     "state": {
      "_dom_classes": [],
      "_model_module": "@jupyter-widgets/controls",
      "_model_module_version": "1.5.0",
      "_model_name": "HTMLModel",
      "_view_count": null,
      "_view_module": "@jupyter-widgets/controls",
      "_view_module_version": "1.5.0",
      "_view_name": "HTMLView",
      "description": "",
      "description_tooltip": null,
      "layout": "IPY_MODEL_a2bc04ddca8140a48c90fb5e81765dc5",
      "placeholder": "​",
      "style": "IPY_MODEL_574ac0c539d9419aa3dfa3653e8366aa",
      "value": " 29/122 [07:18&lt;23:11, 14.96s/it]"
     }
    },
    "e01989f67f194202b722949aa9af34c1": {
     "model_module": "@jupyter-widgets/controls",
     "model_module_version": "1.5.0",
     "model_name": "HTMLModel",
     "state": {
      "_dom_classes": [],
      "_model_module": "@jupyter-widgets/controls",
      "_model_module_version": "1.5.0",
      "_model_name": "HTMLModel",
      "_view_count": null,
      "_view_module": "@jupyter-widgets/controls",
      "_view_module_version": "1.5.0",
      "_view_name": "HTMLView",
      "description": "",
      "description_tooltip": null,
      "layout": "IPY_MODEL_8083f0a875a145b582d947fc887b9e87",
      "placeholder": "​",
      "style": "IPY_MODEL_c7049175f2054a94b8d176dfbfa21449",
      "value": " 72/122 [18:21&lt;11:42, 14.04s/it]"
     }
    },
    "e6f8f21df3884e26910d143ca75b0e7a": {
     "model_module": "@jupyter-widgets/controls",
     "model_module_version": "1.5.0",
     "model_name": "ProgressStyleModel",
     "state": {
      "_model_module": "@jupyter-widgets/controls",
      "_model_module_version": "1.5.0",
      "_model_name": "ProgressStyleModel",
      "_view_count": null,
      "_view_module": "@jupyter-widgets/base",
      "_view_module_version": "1.2.0",
      "_view_name": "StyleView",
      "bar_color": null,
      "description_width": ""
     }
    },
    "f591ea9094824d78a0e07c8751643ab4": {
     "model_module": "@jupyter-widgets/controls",
     "model_module_version": "1.5.0",
     "model_name": "HBoxModel",
     "state": {
      "_dom_classes": [],
      "_model_module": "@jupyter-widgets/controls",
      "_model_module_version": "1.5.0",
      "_model_name": "HBoxModel",
      "_view_count": null,
      "_view_module": "@jupyter-widgets/controls",
      "_view_module_version": "1.5.0",
      "_view_name": "HBoxView",
      "box_style": "",
      "children": [
       "IPY_MODEL_82053ea5f1e54590a66b410880b067c8",
       "IPY_MODEL_9e397bf2a78c46359459f0806ac7a3f6",
       "IPY_MODEL_e01989f67f194202b722949aa9af34c1"
      ],
      "layout": "IPY_MODEL_7ab513dad374436bb7f99f687cd61a21"
     }
    },
    "feb12d7ae1594267b9f6edd5019467a6": {
     "model_module": "@jupyter-widgets/base",
     "model_module_version": "1.2.0",
     "model_name": "LayoutModel",
     "state": {
      "_model_module": "@jupyter-widgets/base",
      "_model_module_version": "1.2.0",
      "_model_name": "LayoutModel",
      "_view_count": null,
      "_view_module": "@jupyter-widgets/base",
      "_view_module_version": "1.2.0",
      "_view_name": "LayoutView",
      "align_content": null,
      "align_items": null,
      "align_self": null,
      "border": null,
      "bottom": null,
      "display": null,
      "flex": null,
      "flex_flow": null,
      "grid_area": null,
      "grid_auto_columns": null,
      "grid_auto_flow": null,
      "grid_auto_rows": null,
      "grid_column": null,
      "grid_gap": null,
      "grid_row": null,
      "grid_template_areas": null,
      "grid_template_columns": null,
      "grid_template_rows": null,
      "height": null,
      "justify_content": null,
      "justify_items": null,
      "left": null,
      "margin": null,
      "max_height": null,
      "max_width": null,
      "min_height": null,
      "min_width": null,
      "object_fit": null,
      "object_position": null,
      "order": null,
      "overflow": null,
      "overflow_x": null,
      "overflow_y": null,
      "padding": null,
      "right": null,
      "top": null,
      "visibility": null,
      "width": null
     }
    }
   }
  }
 },
 "nbformat": 4,
 "nbformat_minor": 4
}
